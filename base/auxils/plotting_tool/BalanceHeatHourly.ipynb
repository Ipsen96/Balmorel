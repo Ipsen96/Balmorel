{
 "cells": [
  {
   "cell_type": "markdown",
   "metadata": {},
   "source": [
    "# 1. Import Required Packages"
   ]
  },
  {
   "cell_type": "code",
   "execution_count": 1,
   "metadata": {},
   "outputs": [],
   "source": [
    "# Imports\n",
    "import os\n",
    "import datetime\n",
    "import glob\n",
    "import gdxpds\n",
    "import pandas as pd\n",
    "import numpy as np\n",
    "import matplotlib.pyplot as plt\n",
    "import time\n",
    "import seaborn as sns\n",
    "import plotly.express as px\n",
    "import plotly.graph_objects as go\n",
    "from plotly.subplots import make_subplots"
   ]
  },
  {
   "cell_type": "markdown",
   "metadata": {},
   "source": [
    "# 2. Input data from User"
   ]
  },
  {
   "cell_type": "code",
   "execution_count": 2,
   "metadata": {},
   "outputs": [],
   "source": [
    "filetype_input = 'gdx' #Choose input file type: 'gdx' or 'csv'\n",
    "gams_dir = 'C:/GAMS/win64/28.2' #Only required if filetype_input == 'gdx'\n",
    "output='BalanceHeatHourly'\n",
    "\n",
    "market='DayAhead' #Market analysed: 'Investment','FullYear','DayAhead','Balancing'\n",
    "scenario = 'TEST' #Add scenario to read file name\n",
    "year = 'FULL' #Add year to read file name (e.g. '2025', '2035', 'all')\n",
    "subset = 'FULL' #Add subset to read file name (e.g. 'full')\n",
    "\n",
    "first_timestep=\"2012-01-02\"\n",
    "#Meaning of SSS and TTT in the data: 'DaysHours','Hours5min','WeeksHours'\n",
    "meaning_SSS_TTT='DaysHours'\n",
    "#Time size of each time step in TTT for creating timestamp\n",
    "size_timestep=\"3600s\"\n",
    "\n",
    "area_names =['DK1_Large'] #e.g. ['all','DK1_Large','DK2_Large']\n",
    "year_names = ['2045'] #e.g. ['all','2035','2045']\n",
    "season_names = ['all'] #e.g. ['all','S001', 'S002', 'S003', 'S004', 'S005', 'S006', 'S007']\n",
    "term_names = ['all'] #e.g. ['all','T001', 'S007', 'S020', 'S024', 'S028', 'S038', 'S042', 'S043']\n",
    "stackgroup = 'one' #stackgroup = 'one' for stacking, stackgroup = None for no stacking\n"
   ]
  },
  {
   "cell_type": "markdown",
   "metadata": {},
   "source": [
    "# 3. Plot Settings"
   ]
  },
  {
   "cell_type": "code",
   "execution_count": 3,
   "metadata": {},
   "outputs": [],
   "source": [
    "# Set plotting specifications\n",
    "%matplotlib inline\n",
    "plt.rcParams.update({'font.size': 21})\n",
    "plt.rcParams['xtick.major.pad']='12'\n",
    "plt.rc('legend', fontsize=16)\n",
    "y_limit = 1.1\n",
    "lw = 3"
   ]
  },
  {
   "cell_type": "markdown",
   "metadata": {},
   "source": [
    "# 4. Read Input Files"
   ]
  },
  {
   "cell_type": "markdown",
   "metadata": {},
   "source": [
    "### 4A. CSV input"
   ]
  },
  {
   "cell_type": "code",
   "execution_count": 4,
   "metadata": {},
   "outputs": [],
   "source": [
    "if filetype_input == 'csv':\n",
    "    data=pd.DataFrame()\n",
    "\n",
    "    file = \"./input/results/\"+ market + \"/\"+ output + \"_\" + scenario + \"_\" + year + \"_\" + subset + \".csv\"\n",
    "    if os.path.isfile(file):\n",
    "        df=pd.read_csv(file,encoding='utf8')\n",
    "        df['Scenario'] = scenario\n",
    "        df['Market']   = market\n",
    "        #Renaming columns just in case timeconversion was required\n",
    "        #df.rename(columns = {'G':'GGG', 'C':'CCC', 'Y':'YYY','TTT_NEW':'TTT','SSS_NEW':'SSS'}, inplace = True) \n",
    "        data=data.append(df) \n",
    "\n",
    "\n",
    "                "
   ]
  },
  {
   "cell_type": "markdown",
   "metadata": {},
   "source": [
    "### 4B. GDX input"
   ]
  },
  {
   "cell_type": "markdown",
   "metadata": {},
   "source": [
    "##### 4B.1 Function: reading gdx-files"
   ]
  },
  {
   "cell_type": "code",
   "execution_count": 5,
   "metadata": {},
   "outputs": [],
   "source": [
    "if filetype_input == 'gdx':\n",
    "    def df_creation(gdx_file):\n",
    "        df = pd.DataFrame()\n",
    "        if '_' in gdx_file:\n",
    "                # if yes: extract scenario name from gdx filename\n",
    "            scenario = gdx_file.split('_', 3)[-3]\n",
    "            year = gdx_file.split('_', 3)[-2]\n",
    "            subset = gdx_file.split('_', 3)[-1][:-4]\n",
    "            market = gdx_file.split('\\\\', 1)[0].split('/',3)[-1]\n",
    "        else:\n",
    "               # if no: use nan instead\n",
    "            scenario = 'nan'\n",
    "\n",
    "        # create empty temporary dataframe and load the gdx data into it\n",
    "        temp = pd.DataFrame()\n",
    "        temp = gdxpds.to_dataframe(gdx_file, 'H_BALANCE_YCRAST', gams_dir=gams_dir,\n",
    "                               old_interface=False)\n",
    "\n",
    "        # add a scenario column with the scenario name of the current iteration\n",
    "        temp['Scenario'] = scenario\n",
    "        temp['Market']  = market\n",
    "        temp['run'] = scenario + '_' + year + '_' + subset\n",
    "\n",
    "        # rearrange the columns' order\n",
    "        cols = list(temp.columns)\n",
    "        cols = [cols[-1]] + cols[:-1]\n",
    "        temp = temp[cols]\n",
    "\n",
    "        # concatenate the temporary dataframe to the preceeding data\n",
    "        df = pd.concat([df, temp], sort=False)\n",
    "        return df"
   ]
  },
  {
   "cell_type": "markdown",
   "metadata": {},
   "source": [
    "##### 4B.2 Use function to read inputs"
   ]
  },
  {
   "cell_type": "code",
   "execution_count": 6,
   "metadata": {},
   "outputs": [],
   "source": [
    "if filetype_input == 'gdx':\n",
    "    runs = list()\n",
    "    gdx_file_list = list()\n",
    "    \n",
    "    gdx_file =  glob.glob('./input/results/'+ market + '\\\\MainResults_' + scenario + '_'  + year + '_' + subset + '.gdx')\n",
    "    gdx_file = gdx_file[0]\n",
    "    \n",
    "    data = df_creation(gdx_file)"
   ]
  },
  {
   "cell_type": "markdown",
   "metadata": {},
   "source": [
    "# 5. Add timestamps"
   ]
  },
  {
   "cell_type": "code",
   "execution_count": 7,
   "metadata": {
    "scrolled": true
   },
   "outputs": [
    {
     "name": "stderr",
     "output_type": "stream",
     "text": [
      "C:\\Users\\s151529\\AppData\\Local\\Continuum\\anaconda3\\lib\\site-packages\\ipykernel_launcher.py:3: UserWarning:\n",
      "\n",
      "Pandas doesn't allow columns to be created via a new attribute name - see https://pandas.pydata.org/pandas-docs/stable/indexing.html#attribute-access\n",
      "\n"
     ]
    }
   ],
   "source": [
    "#Timestamp addition\n",
    "full_timesteps = pd.read_csv('./input/full_timesteps_'+meaning_SSS_TTT+'.csv')\n",
    "full_timesteps.Key=full_timesteps['SSS']+full_timesteps['TTT']\n",
    "number_periods=len(full_timesteps.Key.unique())\n",
    "full_timesteps['timestamp']= pd.date_range(first_timestep, periods = number_periods, freq =size_timestep)\n",
    "dict_timestamp=dict(zip(full_timesteps.Key, full_timesteps.timestamp))\n",
    "data['timestamp']=data['SSS']+data['TTT']\n",
    "data['timestamp']=data['timestamp'].map(dict_timestamp)\n",
    "\n"
   ]
  },
  {
   "cell_type": "markdown",
   "metadata": {},
   "source": [
    "# 6. Create lists"
   ]
  },
  {
   "cell_type": "code",
   "execution_count": 8,
   "metadata": {
    "scrolled": true
   },
   "outputs": [],
   "source": [
    "#Additional set declaration\n",
    "if 'C' in list(data.columns):\n",
    "    data = data.rename(columns={'C':'CCC'})\n",
    "ccc = list(data.CCC.unique())\n",
    "aaa = list(data.AAA.unique())\n",
    "heatbaltype = list(data.H_BAL_TYPE.unique())\n",
    "\n",
    "if 'Y' in list(data.columns):\n",
    "    data = data.rename(columns={'Y':'YYY'})\n",
    "yyy = list(data.YYY.unique())\n",
    "sss = list(full_timesteps.SSS.unique())\n",
    "ttt = list(full_timesteps.TTT.unique())\n"
   ]
  },
  {
   "cell_type": "markdown",
   "metadata": {},
   "source": [
    "# 7. Replace 'EPS'"
   ]
  },
  {
   "cell_type": "code",
   "execution_count": 9,
   "metadata": {},
   "outputs": [],
   "source": [
    "#Replace possible \"Eps\" with 0\n",
    "if 'Value' in list(data.columns):   \n",
    "    data = data.rename(columns={'Value':'Val'})\n",
    "if 'Val' in list(data.columns):\n",
    "    data.Val=data.Val.replace('Eps', 0)\n",
    "    data.Val=pd.to_numeric(data.Val)\n"
   ]
  },
  {
   "cell_type": "markdown",
   "metadata": {},
   "source": [
    "# 8. Plot filter selection (user selection)"
   ]
  },
  {
   "cell_type": "code",
   "execution_count": 12,
   "metadata": {},
   "outputs": [],
   "source": [
    "#Regions\n",
    "if 'all' in area_names:\n",
    "    a = aaa\n",
    "else:\n",
    "    a = area_names\n",
    "\n",
    "#Years\n",
    "if 'all' in year_names:\n",
    "    y = yyy\n",
    "else:\n",
    "    y = year_names    \n",
    "    \n",
    "#Seasons    \n",
    "if 'all' in season_names:\n",
    "    s = sss\n",
    "else:\n",
    "    s = season_names\n",
    "\n",
    "#Terms\n",
    "if 'all' in term_names:\n",
    "    t = ttt\n",
    "else:\n",
    "    t = term_names\n",
    "    \n",
    "data_plot=data[(data.SSS.isin(s)) & (data.TTT.isin(t)) & (data.YYY.isin(y)) & (data.AAA.isin(a))]"
   ]
  },
  {
   "cell_type": "markdown",
   "metadata": {},
   "source": [
    "# 8. Type agreggation"
   ]
  },
  {
   "cell_type": "code",
   "execution_count": 13,
   "metadata": {},
   "outputs": [],
   "source": [
    "type_agg=pd.read_excel('./input/manual_field_agg.xlsx', sheet_name='HEAT')"
   ]
  },
  {
   "cell_type": "code",
   "execution_count": 14,
   "metadata": {},
   "outputs": [],
   "source": [
    "all_prod_list=type_agg['New'].loc[type_agg['Type'] == 'GENERATION'].unique().tolist()  \n",
    "all_dem_list=type_agg['New'].loc[type_agg['Type'] == 'DEMAND'].unique().tolist()"
   ]
  },
  {
   "cell_type": "code",
   "execution_count": 15,
   "metadata": {},
   "outputs": [],
   "source": [
    "type_agg_dic=pd.Series(type_agg.New.values,index=type_agg.Original).to_dict()"
   ]
  },
  {
   "cell_type": "code",
   "execution_count": 16,
   "metadata": {},
   "outputs": [
    {
     "name": "stderr",
     "output_type": "stream",
     "text": [
      "C:\\Users\\s151529\\AppData\\Local\\Continuum\\anaconda3\\lib\\site-packages\\ipykernel_launcher.py:1: SettingWithCopyWarning:\n",
      "\n",
      "\n",
      "A value is trying to be set on a copy of a slice from a DataFrame.\n",
      "Try using .loc[row_indexer,col_indexer] = value instead\n",
      "\n",
      "See the caveats in the documentation: http://pandas.pydata.org/pandas-docs/stable/indexing.html#indexing-view-versus-copy\n",
      "\n"
     ]
    }
   ],
   "source": [
    "data_plot['H_BAL_TYPE']=data_plot['H_BAL_TYPE'].map(type_agg_dic)\n"
   ]
  },
  {
   "cell_type": "markdown",
   "metadata": {},
   "source": [
    "# 9. Prepare plotting dataframe"
   ]
  },
  {
   "cell_type": "code",
   "execution_count": 17,
   "metadata": {},
   "outputs": [],
   "source": [
    "table = pd.pivot_table(data_plot, values='Val', index=['Scenario','YYY','Market','timestamp'],\n",
    "...                     columns=['H_BAL_TYPE'], aggfunc=np.sum, fill_value=0).reset_index()\n",
    "table_names=list(table.columns.values)\n",
    "table.timestamp=table.timestamp.astype('datetime64[ns]')\n",
    "table.sort_values(by='timestamp',inplace=True)\n",
    "\n",
    "table.YYY = pd.to_numeric(table.YYY)"
   ]
  },
  {
   "cell_type": "code",
   "execution_count": 18,
   "metadata": {},
   "outputs": [],
   "source": [
    "prod_list=list(set(table_names).intersection(all_prod_list))\n",
    "dem_list=list(set(table_names).intersection(all_dem_list))"
   ]
  },
  {
   "cell_type": "markdown",
   "metadata": {},
   "source": [
    "# 11. Plotting settings"
   ]
  },
  {
   "cell_type": "markdown",
   "metadata": {},
   "source": [
    "### 11.1 Plotting settings"
   ]
  },
  {
   "cell_type": "code",
   "execution_count": 19,
   "metadata": {},
   "outputs": [],
   "source": [
    "x=np.array(table.timestamp)\n",
    "\n",
    "title_subplots=[]\n",
    "name_subplots=[]\n",
    "#for mark in market:\n",
    "   # for sce in scenario:\n",
    "for year in y:\n",
    "    title_subplots.append(market + ' ' + scenario + ' ' + str(year))\n",
    "    name_subplots.append(market + scenario + str(year))\n",
    "\n",
    "plot_spec=[]\n",
    "#for mark in market:\n",
    " #   for sce in scenario:\n",
    "for year in y:\n",
    "    plot_spec.append([dict({\"secondary_y\": True})])\n",
    "\n",
    "legend_condition = True \n"
   ]
  },
  {
   "cell_type": "markdown",
   "metadata": {},
   "source": [
    "### 11.2 Add colours"
   ]
  },
  {
   "cell_type": "code",
   "execution_count": 20,
   "metadata": {},
   "outputs": [],
   "source": [
    "#Production\n",
    "df_prodcolor = pd.read_excel('.\\input\\manual_colors_input.xlsx', sheet_name = 'Heat_Production')\n",
    "df_prodcolor = df_prodcolor.dropna(axis=0)\n",
    "df_prodcolor = df_prodcolor.loc[df_prodcolor['Value'].isin(prod_list),]\n",
    "for prod_type in prod_list:\n",
    "    if prod_type not in list(df_prodcolor.Value):\n",
    "        df_prodcolor = df_prodcolor.append(pd.DataFrame(data = {'Value' : [prod_type], 'Color': px.colors.qualitative.Plotly[prod_list.index(prod_type)]}))\n",
    "df_prodcolor['Value_cat'] = pd.Categorical(df_prodcolor['Value'], categories = prod_list, ordered = True )\n",
    "df_prodcolor = df_prodcolor.sort_values('Value_cat')\n",
    "del df_prodcolor['Value_cat']\n",
    "prodcolors = list(df_prodcolor.Color)\n",
    "\n",
    "#Demand\n",
    "df_demcolor = pd.read_excel('.\\input\\manual_colors_input.xlsx', sheet_name = 'Heat_Demand')\n",
    "df_demcolor = df_demcolor.dropna(axis = 0)\n",
    "df_demcolor = df_demcolor.loc[df_demcolor['Value'].isin(dem_list), ]\n",
    "for dem_type in dem_list:\n",
    "    if dem_type not in list(df_demcolor.Value):\n",
    "        df_demcolor = df_demcolor.append(pd.DataFrame(data = {'Value': [dem_type],'Color': px.colors.qualitative.Plotly[dem_list.index(dem_type)]}))\n",
    "df_demcolor['Value_cat'] = pd.Categorical(df_demcolor['Value'], categories = dem_list, ordered = True )\n",
    "df_demcolor = df_demcolor.sort_values('Value_cat')\n",
    "del df_demcolor['Value_cat']\n",
    "demcolors = list(df_demcolor.Color)\n",
    "\n",
    "\n",
    "#Price\n",
    "price_dict = pd.read_excel('.\\input\\manual_colors_input.xlsx', sheet_name = 'Heat_Price')\n",
    "price_dict = dict(zip(list(price_dict.Value), list(price_dict.Color)))\n",
    "if len(price_dict) != 1:\n",
    "    price_dict = dict([('Price','pink')])\n"
   ]
  },
  {
   "cell_type": "markdown",
   "metadata": {},
   "source": [
    "# 12 Plotting"
   ]
  },
  {
   "cell_type": "markdown",
   "metadata": {},
   "source": [
    "### 12.1  Plot A: Heat balance"
   ]
  },
  {
   "cell_type": "code",
   "execution_count": 27,
   "metadata": {},
   "outputs": [
    {
     "data": {
      "application/vnd.plotly.v1+json": {
       "config": {
        "plotlyServerURL": "https://plot.ly"
       },
       "data": [
        {
         "line": {
          "color": "lightgreen"
         },
         "mode": "lines",
         "name": "HEATSTO",
         "showlegend": true,
         "stackgroup": "one",
         "type": "scatter",
         "x": [
          "2012-01-12T00:00:00",
          "2012-01-12T03:00:00",
          "2012-01-12T06:00:00",
          "2012-01-12T09:00:00",
          "2012-01-12T12:00:00",
          "2012-01-12T15:00:00",
          "2012-01-12T18:00:00",
          "2012-01-12T21:00:00",
          "2012-01-13T00:00:00",
          "2012-01-13T03:00:00",
          "2012-01-13T06:00:00",
          "2012-01-13T09:00:00",
          "2012-01-13T12:00:00",
          "2012-01-13T15:00:00",
          "2012-01-13T18:00:00",
          "2012-01-13T21:00:00",
          "2012-01-14T00:00:00",
          "2012-01-14T03:00:00",
          "2012-01-14T06:00:00",
          "2012-01-14T09:00:00",
          "2012-01-14T12:00:00",
          "2012-01-14T15:00:00",
          "2012-01-14T18:00:00",
          "2012-01-14T21:00:00",
          "2012-02-23T00:00:00",
          "2012-02-23T03:00:00",
          "2012-02-23T06:00:00",
          "2012-02-23T09:00:00",
          "2012-02-23T12:00:00",
          "2012-02-23T15:00:00",
          "2012-02-23T18:00:00",
          "2012-02-23T21:00:00",
          "2012-02-24T00:00:00",
          "2012-02-24T03:00:00",
          "2012-02-24T06:00:00",
          "2012-02-24T09:00:00",
          "2012-02-24T12:00:00",
          "2012-02-24T15:00:00",
          "2012-02-24T18:00:00",
          "2012-02-24T21:00:00",
          "2012-02-25T00:00:00",
          "2012-02-25T03:00:00",
          "2012-02-25T06:00:00",
          "2012-02-25T09:00:00",
          "2012-02-25T12:00:00",
          "2012-02-25T15:00:00",
          "2012-02-25T18:00:00",
          "2012-02-25T21:00:00",
          "2012-04-12T00:00:00",
          "2012-04-12T03:00:00",
          "2012-04-12T06:00:00",
          "2012-04-12T09:00:00",
          "2012-04-12T12:00:00",
          "2012-04-12T15:00:00",
          "2012-04-12T18:00:00",
          "2012-04-12T21:00:00",
          "2012-04-13T00:00:00",
          "2012-04-13T03:00:00",
          "2012-04-13T06:00:00",
          "2012-04-13T09:00:00",
          "2012-04-13T12:00:00",
          "2012-04-13T15:00:00",
          "2012-04-13T18:00:00",
          "2012-04-13T21:00:00",
          "2012-04-14T00:00:00",
          "2012-04-14T03:00:00",
          "2012-04-14T06:00:00",
          "2012-04-14T09:00:00",
          "2012-04-14T12:00:00",
          "2012-04-14T15:00:00",
          "2012-04-14T18:00:00",
          "2012-04-14T21:00:00",
          "2012-05-24T00:00:00",
          "2012-05-24T03:00:00",
          "2012-05-24T06:00:00",
          "2012-05-24T09:00:00",
          "2012-05-24T12:00:00",
          "2012-05-24T15:00:00",
          "2012-05-24T18:00:00",
          "2012-05-24T21:00:00",
          "2012-05-25T00:00:00",
          "2012-05-25T03:00:00",
          "2012-05-25T06:00:00",
          "2012-05-25T09:00:00",
          "2012-05-25T12:00:00",
          "2012-05-25T15:00:00",
          "2012-05-25T18:00:00",
          "2012-05-25T21:00:00",
          "2012-05-26T00:00:00",
          "2012-05-26T03:00:00",
          "2012-05-26T06:00:00",
          "2012-05-26T09:00:00",
          "2012-05-26T12:00:00",
          "2012-05-26T15:00:00",
          "2012-05-26T18:00:00",
          "2012-05-26T21:00:00",
          "2012-07-12T00:00:00",
          "2012-07-12T03:00:00",
          "2012-07-12T06:00:00",
          "2012-07-12T09:00:00",
          "2012-07-12T12:00:00",
          "2012-07-12T15:00:00",
          "2012-07-12T18:00:00",
          "2012-07-12T21:00:00",
          "2012-07-13T00:00:00",
          "2012-07-13T03:00:00",
          "2012-07-13T06:00:00",
          "2012-07-13T09:00:00",
          "2012-07-13T12:00:00",
          "2012-07-13T15:00:00",
          "2012-07-13T18:00:00",
          "2012-07-13T21:00:00",
          "2012-07-14T00:00:00",
          "2012-07-14T03:00:00",
          "2012-07-14T06:00:00",
          "2012-07-14T09:00:00",
          "2012-07-14T12:00:00",
          "2012-07-14T15:00:00",
          "2012-07-14T18:00:00",
          "2012-07-14T21:00:00",
          "2012-08-23T00:00:00",
          "2012-08-23T03:00:00",
          "2012-08-23T06:00:00",
          "2012-08-23T09:00:00",
          "2012-08-23T12:00:00",
          "2012-08-23T15:00:00",
          "2012-08-23T18:00:00",
          "2012-08-23T21:00:00",
          "2012-08-24T00:00:00",
          "2012-08-24T03:00:00",
          "2012-08-24T06:00:00",
          "2012-08-24T09:00:00",
          "2012-08-24T12:00:00",
          "2012-08-24T15:00:00",
          "2012-08-24T18:00:00",
          "2012-08-24T21:00:00",
          "2012-08-25T00:00:00",
          "2012-08-25T03:00:00",
          "2012-08-25T06:00:00",
          "2012-08-25T09:00:00",
          "2012-08-25T12:00:00",
          "2012-08-25T15:00:00",
          "2012-08-25T18:00:00",
          "2012-08-25T21:00:00",
          "2012-10-11T00:00:00",
          "2012-10-11T03:00:00",
          "2012-10-11T06:00:00",
          "2012-10-11T09:00:00",
          "2012-10-11T12:00:00",
          "2012-10-11T15:00:00",
          "2012-10-11T18:00:00",
          "2012-10-11T21:00:00",
          "2012-10-12T00:00:00",
          "2012-10-12T03:00:00",
          "2012-10-12T06:00:00",
          "2012-10-12T09:00:00",
          "2012-10-12T12:00:00",
          "2012-10-12T15:00:00",
          "2012-10-12T18:00:00",
          "2012-10-12T21:00:00",
          "2012-10-13T00:00:00",
          "2012-10-13T03:00:00",
          "2012-10-13T06:00:00",
          "2012-10-13T09:00:00",
          "2012-10-13T12:00:00",
          "2012-10-13T15:00:00",
          "2012-10-13T18:00:00",
          "2012-10-13T21:00:00",
          "2012-11-22T00:00:00",
          "2012-11-22T03:00:00",
          "2012-11-22T06:00:00",
          "2012-11-22T09:00:00",
          "2012-11-22T12:00:00",
          "2012-11-22T15:00:00",
          "2012-11-22T18:00:00",
          "2012-11-22T21:00:00",
          "2012-11-23T00:00:00",
          "2012-11-23T03:00:00",
          "2012-11-23T06:00:00",
          "2012-11-23T09:00:00",
          "2012-11-23T12:00:00",
          "2012-11-23T15:00:00",
          "2012-11-23T18:00:00",
          "2012-11-23T21:00:00",
          "2012-11-24T00:00:00",
          "2012-11-24T03:00:00",
          "2012-11-24T06:00:00",
          "2012-11-24T09:00:00",
          "2012-11-24T12:00:00",
          "2012-11-24T15:00:00",
          "2012-11-24T18:00:00",
          "2012-11-24T21:00:00"
         ],
         "xaxis": "x",
         "y": [
          0,
          0,
          684.1617660325346,
          0,
          0,
          0,
          55.28813744918773,
          0,
          0,
          0,
          1035.1056380716202,
          0,
          0,
          0,
          926.6678842934524,
          16.79185389255207,
          0,
          0,
          2184.3872938741642,
          1035.1056380716202,
          0,
          1489.7975986593583,
          2193.958561885607,
          1731.5140012201132,
          0,
          0,
          1035.1056380716202,
          0,
          0,
          0,
          1155.5286903500037,
          221.92247782095637,
          0,
          0,
          952.3365670309925,
          0,
          0,
          0,
          716.3100746815924,
          57.08427982043753,
          0,
          0,
          1035.1056380716202,
          0,
          0,
          419.57497081660495,
          1035.1056380716202,
          181.04554488155168,
          0,
          0,
          617.3949354259793,
          0,
          0,
          0,
          2193.958561885607,
          1399.19691075452,
          983.2005770183684,
          1503.396760377902,
          586.5997136493626,
          0,
          0,
          0,
          619.9907968063558,
          0,
          156.89444072545956,
          248.103053910163,
          1634.151430804432,
          0,
          0,
          114.8433551197088,
          637.5256564678249,
          0,
          1035.1056380716202,
          1035.1056380716202,
          1035.1056380716202,
          385.10099521407665,
          318.0184946235563,
          611.3248218500773,
          1380.5005377933721,
          1582.6337400355299,
          1057.2312038208906,
          1643.5034230739634,
          1643.5034230739634,
          608.3977850023431,
          608.3977850023431,
          318.0184946235563,
          1933.88271345275,
          1643.5034230739634,
          1643.5034230739634,
          1603.1391799137434,
          1322.5578916026727,
          27.376405098195505,
          0,
          1035.1056380716202,
          1035.1056380716202,
          1582.6337400355299,
          1356.0511695429107,
          1646.4304599216975,
          1386.617410635416,
          0,
          611.3248218500773,
          611.3248218500773,
          1646.4304599216975,
          1646.4304599216975,
          1646.4304599216975,
          2090.642400586814,
          1158.852923813987,
          770.3499207790959,
          547.5281019639096,
          611.3248218500773,
          1582.6337400355299,
          1632.7482057836019,
          547.5281019639096,
          1035.1056380716202,
          1132.5834069118669,
          994.4237910909578,
          738.9306851769934,
          898.7770753811299,
          1933.88271345275,
          1035.1056380716202,
          0,
          0,
          1356.0511695429109,
          0,
          0,
          0,
          1035.1056380716202,
          1035.1056380716202,
          0,
          1035.1056380716202,
          1053.0038947394366,
          0,
          0,
          1035.1056380716202,
          1035.1056380716202,
          1035.1056380716202,
          1035.1056380716202,
          1035.1056380716202,
          1035.1056380716202,
          0,
          0,
          1035.1056380716202,
          1035.1056380716202,
          955.7394322504281,
          530.2631451773298,
          863.1777017581003,
          1753.389104216187,
          0,
          0,
          0,
          1461.9769516422816,
          813.5392522911341,
          536.5126632990502,
          952.475158408009,
          1524.7278793196363,
          0,
          0,
          0,
          135.8416632025578,
          0,
          0,
          0,
          0,
          0,
          0,
          453.63542930274065,
          1094.0431564474368,
          764.2557513194761,
          0,
          0,
          565.4177422719675,
          0,
          0,
          0,
          255.34137565596248,
          0,
          0,
          0,
          322.48316022535823,
          0,
          0,
          0,
          1035.1056380716202,
          706.0332814385911,
          0,
          22.189998001695926,
          1359.2619891386173,
          420.9376741403049,
          0,
          1030.256978603531,
          1035.1056380716202,
          1035.1056380716202
         ],
         "yaxis": "y"
        },
        {
         "line": {
          "color": "grey"
         },
         "mode": "lines",
         "name": "CHP",
         "showlegend": true,
         "stackgroup": "one",
         "type": "scatter",
         "x": [
          "2012-01-12T00:00:00",
          "2012-01-12T03:00:00",
          "2012-01-12T06:00:00",
          "2012-01-12T09:00:00",
          "2012-01-12T12:00:00",
          "2012-01-12T15:00:00",
          "2012-01-12T18:00:00",
          "2012-01-12T21:00:00",
          "2012-01-13T00:00:00",
          "2012-01-13T03:00:00",
          "2012-01-13T06:00:00",
          "2012-01-13T09:00:00",
          "2012-01-13T12:00:00",
          "2012-01-13T15:00:00",
          "2012-01-13T18:00:00",
          "2012-01-13T21:00:00",
          "2012-01-14T00:00:00",
          "2012-01-14T03:00:00",
          "2012-01-14T06:00:00",
          "2012-01-14T09:00:00",
          "2012-01-14T12:00:00",
          "2012-01-14T15:00:00",
          "2012-01-14T18:00:00",
          "2012-01-14T21:00:00",
          "2012-02-23T00:00:00",
          "2012-02-23T03:00:00",
          "2012-02-23T06:00:00",
          "2012-02-23T09:00:00",
          "2012-02-23T12:00:00",
          "2012-02-23T15:00:00",
          "2012-02-23T18:00:00",
          "2012-02-23T21:00:00",
          "2012-02-24T00:00:00",
          "2012-02-24T03:00:00",
          "2012-02-24T06:00:00",
          "2012-02-24T09:00:00",
          "2012-02-24T12:00:00",
          "2012-02-24T15:00:00",
          "2012-02-24T18:00:00",
          "2012-02-24T21:00:00",
          "2012-02-25T00:00:00",
          "2012-02-25T03:00:00",
          "2012-02-25T06:00:00",
          "2012-02-25T09:00:00",
          "2012-02-25T12:00:00",
          "2012-02-25T15:00:00",
          "2012-02-25T18:00:00",
          "2012-02-25T21:00:00",
          "2012-04-12T00:00:00",
          "2012-04-12T03:00:00",
          "2012-04-12T06:00:00",
          "2012-04-12T09:00:00",
          "2012-04-12T12:00:00",
          "2012-04-12T15:00:00",
          "2012-04-12T18:00:00",
          "2012-04-12T21:00:00",
          "2012-04-13T00:00:00",
          "2012-04-13T03:00:00",
          "2012-04-13T06:00:00",
          "2012-04-13T09:00:00",
          "2012-04-13T12:00:00",
          "2012-04-13T15:00:00",
          "2012-04-13T18:00:00",
          "2012-04-13T21:00:00",
          "2012-04-14T00:00:00",
          "2012-04-14T03:00:00",
          "2012-04-14T06:00:00",
          "2012-04-14T09:00:00",
          "2012-04-14T12:00:00",
          "2012-04-14T15:00:00",
          "2012-04-14T18:00:00",
          "2012-04-14T21:00:00",
          "2012-05-24T00:00:00",
          "2012-05-24T03:00:00",
          "2012-05-24T06:00:00",
          "2012-05-24T09:00:00",
          "2012-05-24T12:00:00",
          "2012-05-24T15:00:00",
          "2012-05-24T18:00:00",
          "2012-05-24T21:00:00",
          "2012-05-25T00:00:00",
          "2012-05-25T03:00:00",
          "2012-05-25T06:00:00",
          "2012-05-25T09:00:00",
          "2012-05-25T12:00:00",
          "2012-05-25T15:00:00",
          "2012-05-25T18:00:00",
          "2012-05-25T21:00:00",
          "2012-05-26T00:00:00",
          "2012-05-26T03:00:00",
          "2012-05-26T06:00:00",
          "2012-05-26T09:00:00",
          "2012-05-26T12:00:00",
          "2012-05-26T15:00:00",
          "2012-05-26T18:00:00",
          "2012-05-26T21:00:00",
          "2012-07-12T00:00:00",
          "2012-07-12T03:00:00",
          "2012-07-12T06:00:00",
          "2012-07-12T09:00:00",
          "2012-07-12T12:00:00",
          "2012-07-12T15:00:00",
          "2012-07-12T18:00:00",
          "2012-07-12T21:00:00",
          "2012-07-13T00:00:00",
          "2012-07-13T03:00:00",
          "2012-07-13T06:00:00",
          "2012-07-13T09:00:00",
          "2012-07-13T12:00:00",
          "2012-07-13T15:00:00",
          "2012-07-13T18:00:00",
          "2012-07-13T21:00:00",
          "2012-07-14T00:00:00",
          "2012-07-14T03:00:00",
          "2012-07-14T06:00:00",
          "2012-07-14T09:00:00",
          "2012-07-14T12:00:00",
          "2012-07-14T15:00:00",
          "2012-07-14T18:00:00",
          "2012-07-14T21:00:00",
          "2012-08-23T00:00:00",
          "2012-08-23T03:00:00",
          "2012-08-23T06:00:00",
          "2012-08-23T09:00:00",
          "2012-08-23T12:00:00",
          "2012-08-23T15:00:00",
          "2012-08-23T18:00:00",
          "2012-08-23T21:00:00",
          "2012-08-24T00:00:00",
          "2012-08-24T03:00:00",
          "2012-08-24T06:00:00",
          "2012-08-24T09:00:00",
          "2012-08-24T12:00:00",
          "2012-08-24T15:00:00",
          "2012-08-24T18:00:00",
          "2012-08-24T21:00:00",
          "2012-08-25T00:00:00",
          "2012-08-25T03:00:00",
          "2012-08-25T06:00:00",
          "2012-08-25T09:00:00",
          "2012-08-25T12:00:00",
          "2012-08-25T15:00:00",
          "2012-08-25T18:00:00",
          "2012-08-25T21:00:00",
          "2012-10-11T00:00:00",
          "2012-10-11T03:00:00",
          "2012-10-11T06:00:00",
          "2012-10-11T09:00:00",
          "2012-10-11T12:00:00",
          "2012-10-11T15:00:00",
          "2012-10-11T18:00:00",
          "2012-10-11T21:00:00",
          "2012-10-12T00:00:00",
          "2012-10-12T03:00:00",
          "2012-10-12T06:00:00",
          "2012-10-12T09:00:00",
          "2012-10-12T12:00:00",
          "2012-10-12T15:00:00",
          "2012-10-12T18:00:00",
          "2012-10-12T21:00:00",
          "2012-10-13T00:00:00",
          "2012-10-13T03:00:00",
          "2012-10-13T06:00:00",
          "2012-10-13T09:00:00",
          "2012-10-13T12:00:00",
          "2012-10-13T15:00:00",
          "2012-10-13T18:00:00",
          "2012-10-13T21:00:00",
          "2012-11-22T00:00:00",
          "2012-11-22T03:00:00",
          "2012-11-22T06:00:00",
          "2012-11-22T09:00:00",
          "2012-11-22T12:00:00",
          "2012-11-22T15:00:00",
          "2012-11-22T18:00:00",
          "2012-11-22T21:00:00",
          "2012-11-23T00:00:00",
          "2012-11-23T03:00:00",
          "2012-11-23T06:00:00",
          "2012-11-23T09:00:00",
          "2012-11-23T12:00:00",
          "2012-11-23T15:00:00",
          "2012-11-23T18:00:00",
          "2012-11-23T21:00:00",
          "2012-11-24T00:00:00",
          "2012-11-24T03:00:00",
          "2012-11-24T06:00:00",
          "2012-11-24T09:00:00",
          "2012-11-24T12:00:00",
          "2012-11-24T15:00:00",
          "2012-11-24T18:00:00",
          "2012-11-24T21:00:00"
         ],
         "xaxis": "x",
         "y": [
          542.1266183038099,
          542.1266183038099,
          704.7646037949527,
          704.7646037949527,
          704.7646037949527,
          704.7646037949527,
          704.7646037949527,
          704.7646037949527,
          542.1266183038097,
          704.7646037949527,
          704.7646037949527,
          704.7646037949527,
          704.7646037949527,
          704.7646037949527,
          704.7646037949527,
          704.7646037949527,
          542.1266183038098,
          542.1266183038098,
          704.7646037949527,
          704.7646037949527,
          704.7646037949527,
          542.1266183038099,
          542.1266183038099,
          542.1266183038099,
          542.1266183038099,
          542.1266183038099,
          542.1266183038099,
          542.1266183038099,
          542.1266183038099,
          542.1266183038099,
          542.1266183038099,
          542.1266183038099,
          542.1266183038099,
          542.1266183038099,
          542.1266183038099,
          542.1266183038099,
          542.1266183038099,
          542.1266183038099,
          542.1266183038099,
          542.1266183038099,
          542.1266183038099,
          542.1266183038099,
          542.1266183038099,
          704.7646037949527,
          704.7646037949527,
          542.1266183038099,
          542.1266183038099,
          542.1266183038099,
          542.1266183038099,
          542.1266183038099,
          542.1266183038099,
          542.1266183038099,
          542.1266183038099,
          542.1266183038099,
          542.1266183038099,
          542.1266183038099,
          542.1266183038099,
          542.1266183038099,
          542.1266183038099,
          542.1266183038099,
          542.1266183038099,
          542.1266183038099,
          542.1266183038099,
          542.1266183038099,
          542.1266183038099,
          542.1266183038099,
          542.1266183038099,
          704.7646037949527,
          704.7646037949527,
          542.1266183038099,
          542.1266183038099,
          542.1266183038099,
          542.1266183038099,
          542.1266183038099,
          542.1266183038099,
          542.1266183038099,
          542.1266183038099,
          542.1266183038099,
          542.1266183038099,
          542.1266183038099,
          542.1266183038099,
          542.1266183038099,
          542.1266183038099,
          542.1266183038099,
          542.1266183038099,
          542.1266183038099,
          542.1266183038099,
          542.1266183038099,
          542.1266183038099,
          542.1266183038099,
          542.1266183038099,
          542.1266183038098,
          542.1266183038098,
          542.1266183038099,
          542.1266183038099,
          542.1266183038099,
          542.1266183038099,
          542.1266183038099,
          542.1266183038099,
          542.1266183038099,
          542.1266183038099,
          542.1266183038099,
          542.1266183038099,
          542.1266183038099,
          542.1266183038099,
          542.1266183038099,
          542.1266183038099,
          542.1266183038099,
          542.1266183038099,
          542.1266183038099,
          542.1266183038099,
          542.1266183038099,
          542.1266183038099,
          542.1266183038099,
          542.1266183038099,
          542.1266183038099,
          542.1266183038099,
          542.1266183038099,
          542.1266183038099,
          542.1266183038099,
          542.1266183038099,
          542.1266183038099,
          542.1266183038099,
          542.1266183038099,
          542.1266183038099,
          542.1266183038099,
          542.1266183038099,
          542.1266183038099,
          542.1266183038099,
          542.1266183038099,
          542.1266183038099,
          542.1266183038099,
          542.1266183038099,
          542.1266183038099,
          542.1266183038099,
          542.1266183038099,
          542.1266183038099,
          542.1266183038099,
          542.1266183038099,
          542.1266183038099,
          542.1266183038099,
          542.1266183038099,
          542.1266183038099,
          542.1266183038099,
          542.1266183038099,
          542.1266183038099,
          542.1266183038099,
          542.1266183038099,
          542.1266183038099,
          542.1266183038099,
          542.1266183038099,
          542.1266183038099,
          542.1266183038099,
          542.1266183038099,
          542.1266183038099,
          542.1266183038099,
          704.7646037949527,
          542.1266183038099,
          542.1266183038099,
          542.1266183038099,
          542.1266183038099,
          542.1266183038099,
          542.1266183038099,
          542.1266183038099,
          542.1266183038099,
          542.1266183038099,
          542.1266183038099,
          542.1266183038099,
          542.1266183038099,
          542.1266183038099,
          542.1266183038099,
          542.1266183038099,
          542.1266183038099,
          542.1266183038099,
          542.1266183038099,
          542.1266183038099,
          542.1266183038099,
          542.1266183038099,
          542.1266183038099,
          542.1266183038099,
          542.1266183038099,
          542.1266183038099,
          542.1266183038099,
          542.1266183038099,
          542.1266183038099,
          542.1266183038099,
          542.1266183038099,
          542.1266183038099,
          542.1266183038099,
          542.1266183038099,
          542.1266183038099,
          542.1266183038099
         ],
         "yaxis": "y"
        },
        {
         "line": {
          "color": "yellow"
         },
         "mode": "lines",
         "name": "P2H",
         "showlegend": true,
         "stackgroup": "one",
         "type": "scatter",
         "x": [
          "2012-01-12T00:00:00",
          "2012-01-12T03:00:00",
          "2012-01-12T06:00:00",
          "2012-01-12T09:00:00",
          "2012-01-12T12:00:00",
          "2012-01-12T15:00:00",
          "2012-01-12T18:00:00",
          "2012-01-12T21:00:00",
          "2012-01-13T00:00:00",
          "2012-01-13T03:00:00",
          "2012-01-13T06:00:00",
          "2012-01-13T09:00:00",
          "2012-01-13T12:00:00",
          "2012-01-13T15:00:00",
          "2012-01-13T18:00:00",
          "2012-01-13T21:00:00",
          "2012-01-14T00:00:00",
          "2012-01-14T03:00:00",
          "2012-01-14T06:00:00",
          "2012-01-14T09:00:00",
          "2012-01-14T12:00:00",
          "2012-01-14T15:00:00",
          "2012-01-14T18:00:00",
          "2012-01-14T21:00:00",
          "2012-02-23T00:00:00",
          "2012-02-23T03:00:00",
          "2012-02-23T06:00:00",
          "2012-02-23T09:00:00",
          "2012-02-23T12:00:00",
          "2012-02-23T15:00:00",
          "2012-02-23T18:00:00",
          "2012-02-23T21:00:00",
          "2012-02-24T00:00:00",
          "2012-02-24T03:00:00",
          "2012-02-24T06:00:00",
          "2012-02-24T09:00:00",
          "2012-02-24T12:00:00",
          "2012-02-24T15:00:00",
          "2012-02-24T18:00:00",
          "2012-02-24T21:00:00",
          "2012-02-25T00:00:00",
          "2012-02-25T03:00:00",
          "2012-02-25T06:00:00",
          "2012-02-25T09:00:00",
          "2012-02-25T12:00:00",
          "2012-02-25T15:00:00",
          "2012-02-25T18:00:00",
          "2012-02-25T21:00:00",
          "2012-04-12T00:00:00",
          "2012-04-12T03:00:00",
          "2012-04-12T06:00:00",
          "2012-04-12T09:00:00",
          "2012-04-12T12:00:00",
          "2012-04-12T15:00:00",
          "2012-04-12T18:00:00",
          "2012-04-12T21:00:00",
          "2012-04-13T00:00:00",
          "2012-04-13T03:00:00",
          "2012-04-13T06:00:00",
          "2012-04-13T09:00:00",
          "2012-04-13T12:00:00",
          "2012-04-13T15:00:00",
          "2012-04-13T18:00:00",
          "2012-04-13T21:00:00",
          "2012-04-14T00:00:00",
          "2012-04-14T03:00:00",
          "2012-04-14T06:00:00",
          "2012-04-14T09:00:00",
          "2012-04-14T12:00:00",
          "2012-04-14T15:00:00",
          "2012-04-14T18:00:00",
          "2012-04-14T21:00:00",
          "2012-05-24T00:00:00",
          "2012-05-24T03:00:00",
          "2012-05-24T06:00:00",
          "2012-05-24T09:00:00",
          "2012-05-24T12:00:00",
          "2012-05-24T15:00:00",
          "2012-05-24T18:00:00",
          "2012-05-24T21:00:00",
          "2012-05-25T00:00:00",
          "2012-05-25T03:00:00",
          "2012-05-25T06:00:00",
          "2012-05-25T09:00:00",
          "2012-05-25T12:00:00",
          "2012-05-25T15:00:00",
          "2012-05-25T18:00:00",
          "2012-05-25T21:00:00",
          "2012-05-26T00:00:00",
          "2012-05-26T03:00:00",
          "2012-05-26T06:00:00",
          "2012-05-26T09:00:00",
          "2012-05-26T12:00:00",
          "2012-05-26T15:00:00",
          "2012-05-26T18:00:00",
          "2012-05-26T21:00:00",
          "2012-07-12T00:00:00",
          "2012-07-12T03:00:00",
          "2012-07-12T06:00:00",
          "2012-07-12T09:00:00",
          "2012-07-12T12:00:00",
          "2012-07-12T15:00:00",
          "2012-07-12T18:00:00",
          "2012-07-12T21:00:00",
          "2012-07-13T00:00:00",
          "2012-07-13T03:00:00",
          "2012-07-13T06:00:00",
          "2012-07-13T09:00:00",
          "2012-07-13T12:00:00",
          "2012-07-13T15:00:00",
          "2012-07-13T18:00:00",
          "2012-07-13T21:00:00",
          "2012-07-14T00:00:00",
          "2012-07-14T03:00:00",
          "2012-07-14T06:00:00",
          "2012-07-14T09:00:00",
          "2012-07-14T12:00:00",
          "2012-07-14T15:00:00",
          "2012-07-14T18:00:00",
          "2012-07-14T21:00:00",
          "2012-08-23T00:00:00",
          "2012-08-23T03:00:00",
          "2012-08-23T06:00:00",
          "2012-08-23T09:00:00",
          "2012-08-23T12:00:00",
          "2012-08-23T15:00:00",
          "2012-08-23T18:00:00",
          "2012-08-23T21:00:00",
          "2012-08-24T00:00:00",
          "2012-08-24T03:00:00",
          "2012-08-24T06:00:00",
          "2012-08-24T09:00:00",
          "2012-08-24T12:00:00",
          "2012-08-24T15:00:00",
          "2012-08-24T18:00:00",
          "2012-08-24T21:00:00",
          "2012-08-25T00:00:00",
          "2012-08-25T03:00:00",
          "2012-08-25T06:00:00",
          "2012-08-25T09:00:00",
          "2012-08-25T12:00:00",
          "2012-08-25T15:00:00",
          "2012-08-25T18:00:00",
          "2012-08-25T21:00:00",
          "2012-10-11T00:00:00",
          "2012-10-11T03:00:00",
          "2012-10-11T06:00:00",
          "2012-10-11T09:00:00",
          "2012-10-11T12:00:00",
          "2012-10-11T15:00:00",
          "2012-10-11T18:00:00",
          "2012-10-11T21:00:00",
          "2012-10-12T00:00:00",
          "2012-10-12T03:00:00",
          "2012-10-12T06:00:00",
          "2012-10-12T09:00:00",
          "2012-10-12T12:00:00",
          "2012-10-12T15:00:00",
          "2012-10-12T18:00:00",
          "2012-10-12T21:00:00",
          "2012-10-13T00:00:00",
          "2012-10-13T03:00:00",
          "2012-10-13T06:00:00",
          "2012-10-13T09:00:00",
          "2012-10-13T12:00:00",
          "2012-10-13T15:00:00",
          "2012-10-13T18:00:00",
          "2012-10-13T21:00:00",
          "2012-11-22T00:00:00",
          "2012-11-22T03:00:00",
          "2012-11-22T06:00:00",
          "2012-11-22T09:00:00",
          "2012-11-22T12:00:00",
          "2012-11-22T15:00:00",
          "2012-11-22T18:00:00",
          "2012-11-22T21:00:00",
          "2012-11-23T00:00:00",
          "2012-11-23T03:00:00",
          "2012-11-23T06:00:00",
          "2012-11-23T09:00:00",
          "2012-11-23T12:00:00",
          "2012-11-23T15:00:00",
          "2012-11-23T18:00:00",
          "2012-11-23T21:00:00",
          "2012-11-24T00:00:00",
          "2012-11-24T03:00:00",
          "2012-11-24T06:00:00",
          "2012-11-24T09:00:00",
          "2012-11-24T12:00:00",
          "2012-11-24T15:00:00",
          "2012-11-24T18:00:00",
          "2012-11-24T21:00:00"
         ],
         "xaxis": "x",
         "y": [
          1085.6091591596974,
          1085.6091591596974,
          1085.6091591596974,
          1085.6091591596974,
          1085.6091591596974,
          1085.6091591596974,
          1085.6091591596974,
          1085.6091591596974,
          1085.6091591596974,
          1085.6091591596974,
          1085.6091591596974,
          1085.6091591596974,
          1085.6091591596974,
          1085.6091591596974,
          1085.6091591596974,
          1085.6091591596974,
          1085.6091591596974,
          1085.6091591596974,
          1085.6091591596974,
          1085.6091591596974,
          1085.6091591596974,
          1085.6091591596974,
          1085.6091591596974,
          425.211622477449,
          1085.6091591596974,
          1085.6091591596974,
          1085.6091591596974,
          1085.6091591596974,
          1085.6091591596974,
          1085.6091591596974,
          1085.6091591596974,
          1085.6091591596974,
          1085.6091591596974,
          1085.6091591596974,
          1085.6091591596974,
          1085.6091591596974,
          1085.6091591596974,
          1085.6091591596974,
          1085.6091591596974,
          1085.6091591596974,
          1085.6091591596974,
          1085.6091591596974,
          1085.6091591596974,
          1085.6091591596974,
          1085.6091591596974,
          1085.6091591596974,
          1085.6091591596974,
          1085.6091591596974,
          425.211622477449,
          425.211622477449,
          1085.6091591596974,
          1085.6091591596974,
          1085.6091591596974,
          1085.6091591596974,
          0,
          0,
          0,
          0,
          1085.6091591596974,
          1085.6091591596974,
          1085.6091591596974,
          1085.6091591596974,
          1085.6091591596974,
          1085.6091591596974,
          0,
          338.1019809104374,
          425.211622477449,
          1085.6091591596974,
          1085.6091591596974,
          1085.6091591596974,
          1085.6091591596974,
          1085.6091591596974,
          0,
          0,
          0,
          0,
          0,
          0,
          0,
          0,
          0,
          0,
          0,
          0,
          0,
          0,
          0,
          0,
          0,
          0,
          0,
          0,
          0,
          0,
          0,
          0,
          0,
          0,
          0,
          0,
          0,
          0,
          0,
          0,
          0,
          0,
          0,
          0,
          0,
          0,
          0,
          0,
          0,
          0,
          0,
          0,
          0,
          0,
          0,
          0,
          0,
          0,
          0,
          0,
          0,
          0,
          0,
          0,
          0,
          0,
          0,
          0,
          0,
          0,
          0,
          0,
          0,
          0,
          0,
          0,
          0,
          0,
          0,
          0,
          0,
          0,
          0,
          425.211622477449,
          989.0654239805401,
          1085.6091591596974,
          0,
          0,
          0,
          0,
          0,
          1085.6091591596974,
          724.790675998908,
          967.3806463467163,
          668.5083520642816,
          425.211622477449,
          425.211622477449,
          425.211622477449,
          773.3574639890658,
          1049.80878331652,
          742.2285200584736,
          0,
          0,
          0,
          425.211622477449,
          425.211622477449,
          1085.6091591596974,
          1085.6091591596974,
          1085.6091591596974,
          1085.6091591596974,
          1085.6091591596974,
          1085.6091591596974,
          1085.6091591596974,
          1085.6091591596974,
          1085.6091591596974,
          1085.6091591596974,
          1085.6091591596974,
          1085.6091591596974,
          514.5878154917625,
          425.211622477449,
          425.211622477449,
          425.211622477449,
          1085.6091591596974,
          1085.6091591596974,
          1085.6091591596974,
          425.211622477449,
          1001.1102045506825,
          425.211622477449
         ],
         "yaxis": "y"
        },
        {
         "line": {
          "color": "red"
         },
         "mode": "lines",
         "name": "DEMAND_HEATSTO",
         "showlegend": true,
         "type": "scatter",
         "x": [
          "2012-01-12T00:00:00",
          "2012-01-12T03:00:00",
          "2012-01-12T06:00:00",
          "2012-01-12T09:00:00",
          "2012-01-12T12:00:00",
          "2012-01-12T15:00:00",
          "2012-01-12T18:00:00",
          "2012-01-12T21:00:00",
          "2012-01-13T00:00:00",
          "2012-01-13T03:00:00",
          "2012-01-13T06:00:00",
          "2012-01-13T09:00:00",
          "2012-01-13T12:00:00",
          "2012-01-13T15:00:00",
          "2012-01-13T18:00:00",
          "2012-01-13T21:00:00",
          "2012-01-14T00:00:00",
          "2012-01-14T03:00:00",
          "2012-01-14T06:00:00",
          "2012-01-14T09:00:00",
          "2012-01-14T12:00:00",
          "2012-01-14T15:00:00",
          "2012-01-14T18:00:00",
          "2012-01-14T21:00:00",
          "2012-02-23T00:00:00",
          "2012-02-23T03:00:00",
          "2012-02-23T06:00:00",
          "2012-02-23T09:00:00",
          "2012-02-23T12:00:00",
          "2012-02-23T15:00:00",
          "2012-02-23T18:00:00",
          "2012-02-23T21:00:00",
          "2012-02-24T00:00:00",
          "2012-02-24T03:00:00",
          "2012-02-24T06:00:00",
          "2012-02-24T09:00:00",
          "2012-02-24T12:00:00",
          "2012-02-24T15:00:00",
          "2012-02-24T18:00:00",
          "2012-02-24T21:00:00",
          "2012-02-25T00:00:00",
          "2012-02-25T03:00:00",
          "2012-02-25T06:00:00",
          "2012-02-25T09:00:00",
          "2012-02-25T12:00:00",
          "2012-02-25T15:00:00",
          "2012-02-25T18:00:00",
          "2012-02-25T21:00:00",
          "2012-04-12T00:00:00",
          "2012-04-12T03:00:00",
          "2012-04-12T06:00:00",
          "2012-04-12T09:00:00",
          "2012-04-12T12:00:00",
          "2012-04-12T15:00:00",
          "2012-04-12T18:00:00",
          "2012-04-12T21:00:00",
          "2012-04-13T00:00:00",
          "2012-04-13T03:00:00",
          "2012-04-13T06:00:00",
          "2012-04-13T09:00:00",
          "2012-04-13T12:00:00",
          "2012-04-13T15:00:00",
          "2012-04-13T18:00:00",
          "2012-04-13T21:00:00",
          "2012-04-14T00:00:00",
          "2012-04-14T03:00:00",
          "2012-04-14T06:00:00",
          "2012-04-14T09:00:00",
          "2012-04-14T12:00:00",
          "2012-04-14T15:00:00",
          "2012-04-14T18:00:00",
          "2012-04-14T21:00:00",
          "2012-05-24T00:00:00",
          "2012-05-24T03:00:00",
          "2012-05-24T06:00:00",
          "2012-05-24T09:00:00",
          "2012-05-24T12:00:00",
          "2012-05-24T15:00:00",
          "2012-05-24T18:00:00",
          "2012-05-24T21:00:00",
          "2012-05-25T00:00:00",
          "2012-05-25T03:00:00",
          "2012-05-25T06:00:00",
          "2012-05-25T09:00:00",
          "2012-05-25T12:00:00",
          "2012-05-25T15:00:00",
          "2012-05-25T18:00:00",
          "2012-05-25T21:00:00",
          "2012-05-26T00:00:00",
          "2012-05-26T03:00:00",
          "2012-05-26T06:00:00",
          "2012-05-26T09:00:00",
          "2012-05-26T12:00:00",
          "2012-05-26T15:00:00",
          "2012-05-26T18:00:00",
          "2012-05-26T21:00:00",
          "2012-07-12T00:00:00",
          "2012-07-12T03:00:00",
          "2012-07-12T06:00:00",
          "2012-07-12T09:00:00",
          "2012-07-12T12:00:00",
          "2012-07-12T15:00:00",
          "2012-07-12T18:00:00",
          "2012-07-12T21:00:00",
          "2012-07-13T00:00:00",
          "2012-07-13T03:00:00",
          "2012-07-13T06:00:00",
          "2012-07-13T09:00:00",
          "2012-07-13T12:00:00",
          "2012-07-13T15:00:00",
          "2012-07-13T18:00:00",
          "2012-07-13T21:00:00",
          "2012-07-14T00:00:00",
          "2012-07-14T03:00:00",
          "2012-07-14T06:00:00",
          "2012-07-14T09:00:00",
          "2012-07-14T12:00:00",
          "2012-07-14T15:00:00",
          "2012-07-14T18:00:00",
          "2012-07-14T21:00:00",
          "2012-08-23T00:00:00",
          "2012-08-23T03:00:00",
          "2012-08-23T06:00:00",
          "2012-08-23T09:00:00",
          "2012-08-23T12:00:00",
          "2012-08-23T15:00:00",
          "2012-08-23T18:00:00",
          "2012-08-23T21:00:00",
          "2012-08-24T00:00:00",
          "2012-08-24T03:00:00",
          "2012-08-24T06:00:00",
          "2012-08-24T09:00:00",
          "2012-08-24T12:00:00",
          "2012-08-24T15:00:00",
          "2012-08-24T18:00:00",
          "2012-08-24T21:00:00",
          "2012-08-25T00:00:00",
          "2012-08-25T03:00:00",
          "2012-08-25T06:00:00",
          "2012-08-25T09:00:00",
          "2012-08-25T12:00:00",
          "2012-08-25T15:00:00",
          "2012-08-25T18:00:00",
          "2012-08-25T21:00:00",
          "2012-10-11T00:00:00",
          "2012-10-11T03:00:00",
          "2012-10-11T06:00:00",
          "2012-10-11T09:00:00",
          "2012-10-11T12:00:00",
          "2012-10-11T15:00:00",
          "2012-10-11T18:00:00",
          "2012-10-11T21:00:00",
          "2012-10-12T00:00:00",
          "2012-10-12T03:00:00",
          "2012-10-12T06:00:00",
          "2012-10-12T09:00:00",
          "2012-10-12T12:00:00",
          "2012-10-12T15:00:00",
          "2012-10-12T18:00:00",
          "2012-10-12T21:00:00",
          "2012-10-13T00:00:00",
          "2012-10-13T03:00:00",
          "2012-10-13T06:00:00",
          "2012-10-13T09:00:00",
          "2012-10-13T12:00:00",
          "2012-10-13T15:00:00",
          "2012-10-13T18:00:00",
          "2012-10-13T21:00:00",
          "2012-11-22T00:00:00",
          "2012-11-22T03:00:00",
          "2012-11-22T06:00:00",
          "2012-11-22T09:00:00",
          "2012-11-22T12:00:00",
          "2012-11-22T15:00:00",
          "2012-11-22T18:00:00",
          "2012-11-22T21:00:00",
          "2012-11-23T00:00:00",
          "2012-11-23T03:00:00",
          "2012-11-23T06:00:00",
          "2012-11-23T09:00:00",
          "2012-11-23T12:00:00",
          "2012-11-23T15:00:00",
          "2012-11-23T18:00:00",
          "2012-11-23T21:00:00",
          "2012-11-24T00:00:00",
          "2012-11-24T03:00:00",
          "2012-11-24T06:00:00",
          "2012-11-24T09:00:00",
          "2012-11-24T12:00:00",
          "2012-11-24T15:00:00",
          "2012-11-24T18:00:00",
          "2012-11-24T21:00:00"
         ],
         "xaxis": "x",
         "y": [
          633.7008405231402,
          514.7229262678107,
          0,
          544.0541272971244,
          1035.1056380716202,
          1035.1056380716202,
          0,
          277.3322843460568,
          1035.1056380716202,
          1035.1056380716202,
          0,
          408.02840536601786,
          1035.1056380716202,
          0,
          0,
          0,
          367.4253578410865,
          118.95119659582411,
          0,
          0,
          14.892865381826482,
          0,
          0,
          0,
          1151.3350328679678,
          843.0603428891917,
          0,
          59.036563220293715,
          733.2252393495752,
          614.286561605421,
          0,
          0,
          613.7289457211361,
          381.91091621199155,
          0,
          431.61034152819127,
          977.7034782673024,
          857.4865757891599,
          0,
          0,
          1020.01289253354,
          792.2900646981268,
          0,
          169.3701499431528,
          843.4149732756888,
          0,
          0,
          0,
          299.70527175726534,
          14.826735069031542,
          0,
          1035.1056380716202,
          1035.1056380716202,
          453.4232970190907,
          0,
          0,
          0,
          0,
          0,
          1069.6012796382813,
          1327.2525596481955,
          527.2914960977803,
          0,
          341.71370347476795,
          0,
          0,
          0,
          1286.2670511615643,
          1666.4645805486443,
          0,
          0,
          422.78840428469334,
          1008.9966759703,
          931.7889429019176,
          625.172257000866,
          1432.0475154490769,
          1540.0953688660197,
          1870.5099860976402,
          1173.728080853983,
          1384.7819318212864,
          1035.1056380716202,
          1447.3068289488033,
          1142.0846879095484,
          1783.7984270936015,
          1888.904491923665,
          1639.3726215721204,
          1729.3081447772959,
          1454.2196513759682,
          1648.6802404872565,
          1507.9227592106542,
          872.9243659821555,
          1244.9915864971845,
          1291.8824631702391,
          957.024312898792,
          870.6792801353627,
          1403.5052049577323,
          1454.6160903527398,
          1473.566879023175,
          734.4346695260306,
          904.9113753279515,
          1664.5509694712716,
          1732.0738536560032,
          1067.6035105369142,
          1438.3940992669702,
          1720.891295059811,
          1904.2453309321104,
          632.6175033597625,
          1647.6199231803084,
          1632.1477419619332,
          1293.3099334942128,
          1032.0729385874133,
          1391.9419163693747,
          620.8237423248204,
          898.2575601101771,
          458.49361638755795,
          1904.2453309321104,
          1904.2453309321104,
          1045.5022794822394,
          1448.7948429137743,
          840.27278987896,
          159.06054069702896,
          191.1091978715781,
          1220.5150812784718,
          1258.4875961766252,
          1449.753698870791,
          1404.5425086224068,
          855.7352112389102,
          1058.6632971782108,
          119.2597012086261,
          973.5236702632436,
          670.9748537142559,
          151.7245619944619,
          315.57588176394233,
          950.2993222244731,
          778.3725729139196,
          970.6897689259358,
          1154.079146694005,
          1030.1517730882738,
          507.72407303272234,
          1144.9360931813228,
          1282.905562619634,
          1051.1353249311865,
          787.1859054409929,
          869.1396928604902,
          0,
          0,
          0,
          405.9368144016795,
          1035.1056380716202,
          721.1053368731505,
          0,
          0,
          0,
          0,
          0,
          1842.4405373152267,
          1904.2453309321104,
          1035.1056380716202,
          0,
          352.3119079480008,
          493.0620180606834,
          423.6567815628499,
          0,
          1904.2453309321104,
          1904.2453309321104,
          0,
          0,
          0,
          227.60021805265097,
          110.02660567901106,
          0,
          1035.1056380716202,
          1582.3825944185037,
          757.7804892701604,
          0,
          221.39092613089713,
          797.1876101007084,
          675.374549259956,
          0,
          1035.1056380716202,
          1035.1056380716202,
          472.10765520872235,
          0,
          0,
          62.12916995476655,
          0,
          0,
          0,
          151.37079816389263,
          0,
          0,
          0
         ],
         "yaxis": "y"
        },
        {
         "line": {
          "color": "blue"
         },
         "mode": "lines",
         "name": "DEMAND_EXO",
         "showlegend": true,
         "type": "scatter",
         "x": [
          "2012-01-12T00:00:00",
          "2012-01-12T03:00:00",
          "2012-01-12T06:00:00",
          "2012-01-12T09:00:00",
          "2012-01-12T12:00:00",
          "2012-01-12T15:00:00",
          "2012-01-12T18:00:00",
          "2012-01-12T21:00:00",
          "2012-01-13T00:00:00",
          "2012-01-13T03:00:00",
          "2012-01-13T06:00:00",
          "2012-01-13T09:00:00",
          "2012-01-13T12:00:00",
          "2012-01-13T15:00:00",
          "2012-01-13T18:00:00",
          "2012-01-13T21:00:00",
          "2012-01-14T00:00:00",
          "2012-01-14T03:00:00",
          "2012-01-14T06:00:00",
          "2012-01-14T09:00:00",
          "2012-01-14T12:00:00",
          "2012-01-14T15:00:00",
          "2012-01-14T18:00:00",
          "2012-01-14T21:00:00",
          "2012-02-23T00:00:00",
          "2012-02-23T03:00:00",
          "2012-02-23T06:00:00",
          "2012-02-23T09:00:00",
          "2012-02-23T12:00:00",
          "2012-02-23T15:00:00",
          "2012-02-23T18:00:00",
          "2012-02-23T21:00:00",
          "2012-02-24T00:00:00",
          "2012-02-24T03:00:00",
          "2012-02-24T06:00:00",
          "2012-02-24T09:00:00",
          "2012-02-24T12:00:00",
          "2012-02-24T15:00:00",
          "2012-02-24T18:00:00",
          "2012-02-24T21:00:00",
          "2012-02-25T00:00:00",
          "2012-02-25T03:00:00",
          "2012-02-25T06:00:00",
          "2012-02-25T09:00:00",
          "2012-02-25T12:00:00",
          "2012-02-25T15:00:00",
          "2012-02-25T18:00:00",
          "2012-02-25T21:00:00",
          "2012-04-12T00:00:00",
          "2012-04-12T03:00:00",
          "2012-04-12T06:00:00",
          "2012-04-12T09:00:00",
          "2012-04-12T12:00:00",
          "2012-04-12T15:00:00",
          "2012-04-12T18:00:00",
          "2012-04-12T21:00:00",
          "2012-04-13T00:00:00",
          "2012-04-13T03:00:00",
          "2012-04-13T06:00:00",
          "2012-04-13T09:00:00",
          "2012-04-13T12:00:00",
          "2012-04-13T15:00:00",
          "2012-04-13T18:00:00",
          "2012-04-13T21:00:00",
          "2012-04-14T00:00:00",
          "2012-04-14T03:00:00",
          "2012-04-14T06:00:00",
          "2012-04-14T09:00:00",
          "2012-04-14T12:00:00",
          "2012-04-14T15:00:00",
          "2012-04-14T18:00:00",
          "2012-04-14T21:00:00",
          "2012-05-24T00:00:00",
          "2012-05-24T03:00:00",
          "2012-05-24T06:00:00",
          "2012-05-24T09:00:00",
          "2012-05-24T12:00:00",
          "2012-05-24T15:00:00",
          "2012-05-24T18:00:00",
          "2012-05-24T21:00:00",
          "2012-05-25T00:00:00",
          "2012-05-25T03:00:00",
          "2012-05-25T06:00:00",
          "2012-05-25T09:00:00",
          "2012-05-25T12:00:00",
          "2012-05-25T15:00:00",
          "2012-05-25T18:00:00",
          "2012-05-25T21:00:00",
          "2012-05-26T00:00:00",
          "2012-05-26T03:00:00",
          "2012-05-26T06:00:00",
          "2012-05-26T09:00:00",
          "2012-05-26T12:00:00",
          "2012-05-26T15:00:00",
          "2012-05-26T18:00:00",
          "2012-05-26T21:00:00",
          "2012-07-12T00:00:00",
          "2012-07-12T03:00:00",
          "2012-07-12T06:00:00",
          "2012-07-12T09:00:00",
          "2012-07-12T12:00:00",
          "2012-07-12T15:00:00",
          "2012-07-12T18:00:00",
          "2012-07-12T21:00:00",
          "2012-07-13T00:00:00",
          "2012-07-13T03:00:00",
          "2012-07-13T06:00:00",
          "2012-07-13T09:00:00",
          "2012-07-13T12:00:00",
          "2012-07-13T15:00:00",
          "2012-07-13T18:00:00",
          "2012-07-13T21:00:00",
          "2012-07-14T00:00:00",
          "2012-07-14T03:00:00",
          "2012-07-14T06:00:00",
          "2012-07-14T09:00:00",
          "2012-07-14T12:00:00",
          "2012-07-14T15:00:00",
          "2012-07-14T18:00:00",
          "2012-07-14T21:00:00",
          "2012-08-23T00:00:00",
          "2012-08-23T03:00:00",
          "2012-08-23T06:00:00",
          "2012-08-23T09:00:00",
          "2012-08-23T12:00:00",
          "2012-08-23T15:00:00",
          "2012-08-23T18:00:00",
          "2012-08-23T21:00:00",
          "2012-08-24T00:00:00",
          "2012-08-24T03:00:00",
          "2012-08-24T06:00:00",
          "2012-08-24T09:00:00",
          "2012-08-24T12:00:00",
          "2012-08-24T15:00:00",
          "2012-08-24T18:00:00",
          "2012-08-24T21:00:00",
          "2012-08-25T00:00:00",
          "2012-08-25T03:00:00",
          "2012-08-25T06:00:00",
          "2012-08-25T09:00:00",
          "2012-08-25T12:00:00",
          "2012-08-25T15:00:00",
          "2012-08-25T18:00:00",
          "2012-08-25T21:00:00",
          "2012-10-11T00:00:00",
          "2012-10-11T03:00:00",
          "2012-10-11T06:00:00",
          "2012-10-11T09:00:00",
          "2012-10-11T12:00:00",
          "2012-10-11T15:00:00",
          "2012-10-11T18:00:00",
          "2012-10-11T21:00:00",
          "2012-10-12T00:00:00",
          "2012-10-12T03:00:00",
          "2012-10-12T06:00:00",
          "2012-10-12T09:00:00",
          "2012-10-12T12:00:00",
          "2012-10-12T15:00:00",
          "2012-10-12T18:00:00",
          "2012-10-12T21:00:00",
          "2012-10-13T00:00:00",
          "2012-10-13T03:00:00",
          "2012-10-13T06:00:00",
          "2012-10-13T09:00:00",
          "2012-10-13T12:00:00",
          "2012-10-13T15:00:00",
          "2012-10-13T18:00:00",
          "2012-10-13T21:00:00",
          "2012-11-22T00:00:00",
          "2012-11-22T03:00:00",
          "2012-11-22T06:00:00",
          "2012-11-22T09:00:00",
          "2012-11-22T12:00:00",
          "2012-11-22T15:00:00",
          "2012-11-22T18:00:00",
          "2012-11-22T21:00:00",
          "2012-11-23T00:00:00",
          "2012-11-23T03:00:00",
          "2012-11-23T06:00:00",
          "2012-11-23T09:00:00",
          "2012-11-23T12:00:00",
          "2012-11-23T15:00:00",
          "2012-11-23T18:00:00",
          "2012-11-23T21:00:00",
          "2012-11-24T00:00:00",
          "2012-11-24T03:00:00",
          "2012-11-24T06:00:00",
          "2012-11-24T09:00:00",
          "2012-11-24T12:00:00",
          "2012-11-24T15:00:00",
          "2012-11-24T18:00:00",
          "2012-11-24T21:00:00"
         ],
         "xaxis": "x",
         "y": [
          927.6756579800365,
          956.1377151110639,
          1116.2045763261208,
          1151.1917171121759,
          1042.942434390415,
          1073.693038730624,
          1151.1917171121759,
          1007.5193415400252,
          915.0753087737044,
          948.6181098937284,
          1110.006172773142,
          1132.402050631234,
          1032.2473641799518,
          1059.4022749834783,
          1132.402050631234,
          997.1558731657325,
          903.3130740983337,
          922.0088017117495,
          966.3073369645643,
          1097.8836576955014,
          1097.8836576955014,
          1047.187666688603,
          1123.2966650474525,
          1004.6384906544985,
          836.6205007221785,
          878.7929000761437,
          997.1558731657325,
          1024.0249921198804,
          969.7303971277504,
          986.5121498929423,
          1024.0249921198804,
          956.1377151110639,
          1016.8497426554883,
          1066.9699026017315,
          1209.098640155818,
          1266.2452972514038,
          1178.4697185930054,
          1199.3054540602127,
          1266.2452972514038,
          1169.357175198797,
          1080.4161748595166,
          1087.005394862262,
          1159.6355672075404,
          1340.910370032435,
          1340.910370032435,
          1226.671715484592,
          1415.0835060235536,
          1187.6174003293568,
          595.3419031599277,
          582.2071908690934,
          708.3591631324016,
          854.9861408791529,
          739.4720946537386,
          664.3333049638981,
          786.4019534179512,
          739.4720946537386,
          653.2264654403933,
          640.6656794044618,
          795.0682398670236,
          943.5894227078946,
          827.3720890717086,
          758.5665300550434,
          884.3383693443176,
          827.3720890717086,
          627.4302371995017,
          617.450948032572,
          777.85045221986,
          909.2482595247643,
          806.5378206598657,
          719.5097303705647,
          874.2126704184856,
          806.5378206598657,
          313.30332188838827,
          303.81196250745194,
          357.6544441640821,
          392.9550083140168,
          366.52023831128844,
          348.71290736826995,
          381.1063248960423,
          366.52023831128844,
          299.19402646483,
          323.69440776667653,
          420.12768350162366,
          376.2086600905262,
          323.69440776667653,
          316.9423341795534,
          388.7087739223663,
          342.7606851698987,
          284.17548564318673,
          279.29395903552916,
          330.6517995098162,
          366.52023831128844,
          336.0839269201912,
          308.84686101639494,
          353.06485611294937,
          336.0839269201912,
          154.40852333274523,
          193.9280417432531,
          274.0556431077106,
          235.88915673047433,
          179.70216680125398,
          160.53537244355402,
          252.13810219971379,
          196.17534470630372,
          167.38969171642486,
          199.66074513510864,
          292.62040053679556,
          242.76169588445342,
          186.31981691718516,
          174.37792711544057,
          259.0867093573197,
          204.60926484407165,
          189.68883856935767,
          179.70216680125398,
          229.846677002136,
          266.1846544690072,
          208.41721999566616,
          182.77687821807194,
          229.846677002136,
          225.29443601903958,
          142.15151240547127,
          167.38969171642486,
          269.8402749755481,
          210.74119724459376,
          150.191034944425,
          147.17108965075562,
          222.3772929007002,
          174.37792711544057,
          164.10726130948734,
          199.66074513510864,
          292.62040053679556,
          242.76169588445342,
          186.31981691718516,
          174.37792711544057,
          259.0867093573197,
          204.60926484407165,
          170.2626025695516,
          154.40852333274523,
          217.8264871679256,
          248.1127348129732,
          191.7196413677273,
          160.53537244355402,
          217.8264871679256,
          213.39515179841774,
          434.98144157501105,
          484.6123977135013,
          571.7125393508223,
          546.3367999375006,
          484.6123977135013,
          462.1199544855404,
          556.7740588302805,
          516.2876610199528,
          384.91320828992474,
          413.7635618482033,
          534.4541839048143,
          497.11852410610993,
          413.7635618482033,
          407.23421900018764,
          506.7885958622298,
          424.7874180950229,
          402.6854008908077,
          397.41464957024635,
          442.5026084964383,
          525.2245127034793,
          453.33146469103553,
          429.39054091498,
          469.4013998283888,
          453.33146469103553,
          607.0827945459936,
          691.3351687661121,
          981.4466916743204,
          889.8093027352351,
          691.3351687661121,
          675.2652336287595,
          934.1134281788494,
          739.4720946537386,
          767.3120729869338,
          865.8087502573701,
          1141.2523578794946,
          990.3097528393604,
          865.8087502573701,
          849.1063249615539,
          1037.1394022574834,
          896.3634908756744,
          842.6174444469067,
          817.1480027878862,
          962.0933196097446,
          1053.8597871503912,
          975.5106544092982,
          938.9199274639003,
          1012.6354841551823,
          975.5106544092982
         ],
         "yaxis": "y"
        },
        {
         "line": {
          "color": "Black"
         },
         "name": "Price",
         "type": "scatter",
         "x": [
          "2012-01-12T00:00:00",
          "2012-01-12T03:00:00",
          "2012-01-12T06:00:00",
          "2012-01-12T09:00:00",
          "2012-01-12T12:00:00",
          "2012-01-12T15:00:00",
          "2012-01-12T18:00:00",
          "2012-01-12T21:00:00",
          "2012-01-13T00:00:00",
          "2012-01-13T03:00:00",
          "2012-01-13T06:00:00",
          "2012-01-13T09:00:00",
          "2012-01-13T12:00:00",
          "2012-01-13T15:00:00",
          "2012-01-13T18:00:00",
          "2012-01-13T21:00:00",
          "2012-01-14T00:00:00",
          "2012-01-14T03:00:00",
          "2012-01-14T06:00:00",
          "2012-01-14T09:00:00",
          "2012-01-14T12:00:00",
          "2012-01-14T15:00:00",
          "2012-01-14T18:00:00",
          "2012-01-14T21:00:00",
          "2012-02-23T00:00:00",
          "2012-02-23T03:00:00",
          "2012-02-23T06:00:00",
          "2012-02-23T09:00:00",
          "2012-02-23T12:00:00",
          "2012-02-23T15:00:00",
          "2012-02-23T18:00:00",
          "2012-02-23T21:00:00",
          "2012-02-24T00:00:00",
          "2012-02-24T03:00:00",
          "2012-02-24T06:00:00",
          "2012-02-24T09:00:00",
          "2012-02-24T12:00:00",
          "2012-02-24T15:00:00",
          "2012-02-24T18:00:00",
          "2012-02-24T21:00:00",
          "2012-02-25T00:00:00",
          "2012-02-25T03:00:00",
          "2012-02-25T06:00:00",
          "2012-02-25T09:00:00",
          "2012-02-25T12:00:00",
          "2012-02-25T15:00:00",
          "2012-02-25T18:00:00",
          "2012-02-25T21:00:00",
          "2012-04-12T00:00:00",
          "2012-04-12T03:00:00",
          "2012-04-12T06:00:00",
          "2012-04-12T09:00:00",
          "2012-04-12T12:00:00",
          "2012-04-12T15:00:00",
          "2012-04-12T18:00:00",
          "2012-04-12T21:00:00",
          "2012-04-13T00:00:00",
          "2012-04-13T03:00:00",
          "2012-04-13T06:00:00",
          "2012-04-13T09:00:00",
          "2012-04-13T12:00:00",
          "2012-04-13T15:00:00",
          "2012-04-13T18:00:00",
          "2012-04-13T21:00:00",
          "2012-04-14T00:00:00",
          "2012-04-14T03:00:00",
          "2012-04-14T06:00:00",
          "2012-04-14T09:00:00",
          "2012-04-14T12:00:00",
          "2012-04-14T15:00:00",
          "2012-04-14T18:00:00",
          "2012-04-14T21:00:00",
          "2012-05-24T00:00:00",
          "2012-05-24T03:00:00",
          "2012-05-24T06:00:00",
          "2012-05-24T09:00:00",
          "2012-05-24T12:00:00",
          "2012-05-24T15:00:00",
          "2012-05-24T18:00:00",
          "2012-05-24T21:00:00",
          "2012-05-25T00:00:00",
          "2012-05-25T03:00:00",
          "2012-05-25T06:00:00",
          "2012-05-25T09:00:00",
          "2012-05-25T12:00:00",
          "2012-05-25T15:00:00",
          "2012-05-25T18:00:00",
          "2012-05-25T21:00:00",
          "2012-05-26T00:00:00",
          "2012-05-26T03:00:00",
          "2012-05-26T06:00:00",
          "2012-05-26T09:00:00",
          "2012-05-26T12:00:00",
          "2012-05-26T15:00:00",
          "2012-05-26T18:00:00",
          "2012-05-26T21:00:00",
          "2012-07-12T00:00:00",
          "2012-07-12T03:00:00",
          "2012-07-12T06:00:00",
          "2012-07-12T09:00:00",
          "2012-07-12T12:00:00",
          "2012-07-12T15:00:00",
          "2012-07-12T18:00:00",
          "2012-07-12T21:00:00",
          "2012-07-13T00:00:00",
          "2012-07-13T03:00:00",
          "2012-07-13T06:00:00",
          "2012-07-13T09:00:00",
          "2012-07-13T12:00:00",
          "2012-07-13T15:00:00",
          "2012-07-13T18:00:00",
          "2012-07-13T21:00:00",
          "2012-07-14T00:00:00",
          "2012-07-14T03:00:00",
          "2012-07-14T06:00:00",
          "2012-07-14T09:00:00",
          "2012-07-14T12:00:00",
          "2012-07-14T15:00:00",
          "2012-07-14T18:00:00",
          "2012-07-14T21:00:00",
          "2012-08-23T00:00:00",
          "2012-08-23T03:00:00",
          "2012-08-23T06:00:00",
          "2012-08-23T09:00:00",
          "2012-08-23T12:00:00",
          "2012-08-23T15:00:00",
          "2012-08-23T18:00:00",
          "2012-08-23T21:00:00",
          "2012-08-24T00:00:00",
          "2012-08-24T03:00:00",
          "2012-08-24T06:00:00",
          "2012-08-24T09:00:00",
          "2012-08-24T12:00:00",
          "2012-08-24T15:00:00",
          "2012-08-24T18:00:00",
          "2012-08-24T21:00:00",
          "2012-08-25T00:00:00",
          "2012-08-25T03:00:00",
          "2012-08-25T06:00:00",
          "2012-08-25T09:00:00",
          "2012-08-25T12:00:00",
          "2012-08-25T15:00:00",
          "2012-08-25T18:00:00",
          "2012-08-25T21:00:00",
          "2012-10-11T00:00:00",
          "2012-10-11T03:00:00",
          "2012-10-11T06:00:00",
          "2012-10-11T09:00:00",
          "2012-10-11T12:00:00",
          "2012-10-11T15:00:00",
          "2012-10-11T18:00:00",
          "2012-10-11T21:00:00",
          "2012-10-12T00:00:00",
          "2012-10-12T03:00:00",
          "2012-10-12T06:00:00",
          "2012-10-12T09:00:00",
          "2012-10-12T12:00:00",
          "2012-10-12T15:00:00",
          "2012-10-12T18:00:00",
          "2012-10-12T21:00:00",
          "2012-10-13T00:00:00",
          "2012-10-13T03:00:00",
          "2012-10-13T06:00:00",
          "2012-10-13T09:00:00",
          "2012-10-13T12:00:00",
          "2012-10-13T15:00:00",
          "2012-10-13T18:00:00",
          "2012-10-13T21:00:00",
          "2012-11-22T00:00:00",
          "2012-11-22T03:00:00",
          "2012-11-22T06:00:00",
          "2012-11-22T09:00:00",
          "2012-11-22T12:00:00",
          "2012-11-22T15:00:00",
          "2012-11-22T18:00:00",
          "2012-11-22T21:00:00",
          "2012-11-23T00:00:00",
          "2012-11-23T03:00:00",
          "2012-11-23T06:00:00",
          "2012-11-23T09:00:00",
          "2012-11-23T12:00:00",
          "2012-11-23T15:00:00",
          "2012-11-23T18:00:00",
          "2012-11-23T21:00:00",
          "2012-11-24T00:00:00",
          "2012-11-24T03:00:00",
          "2012-11-24T06:00:00",
          "2012-11-24T09:00:00",
          "2012-11-24T12:00:00",
          "2012-11-24T15:00:00",
          "2012-11-24T18:00:00",
          "2012-11-24T21:00:00"
         ],
         "xaxis": "x",
         "y": [
          32.85999628470049,
          32.85999628470049,
          33.53060845377601,
          32.85999628470049,
          30.333055824603054,
          32.8599962847005,
          33.53060845377601,
          32.85999628470049,
          32.25027897115564,
          32.8599962847005,
          33.801097976779275,
          32.85999628470049,
          31.436355240006066,
          33.4153757173318,
          33.53060845377601,
          33.53060845377601,
          32.85999628470049,
          32.85999628470049,
          39.51695946242526,
          34.0607857492241,
          32.85999628470049,
          39.51695946242526,
          42.20950369804227,
          39.51695946242525,
          21.186264068728192,
          21.186264068728192,
          27.45309070161681,
          21.186264068728192,
          21.186264068728192,
          21.186264068728192,
          30.266091526754558,
          21.61863680482469,
          21.186264068728192,
          21.186264068728192,
          21.61863680482469,
          21.186264068728192,
          21.186264068728192,
          21.186264068728192,
          21.61863680482469,
          21.61863680482469,
          21.186264068728192,
          21.186264068728192,
          22.74177644818129,
          21.186264068728192,
          21.186264068728192,
          21.61863680482469,
          22.74072524873349,
          21.61863680482469,
          28.65832748231124,
          28.65832748231124,
          29.243191308480867,
          28.559631540640822,
          26.11649885073773,
          28.65832748231124,
          82.73947874768177,
          30.266091526754565,
          29.243191308480867,
          30.266091526754565,
          29.243191308480867,
          21.1862640687282,
          21.1862640687282,
          28.65832748231124,
          29.243191308480867,
          28.65832748231124,
          29.243191308480867,
          29.243191308480867,
          30.266091526754565,
          21.1862640687282,
          21.1862640687282,
          29.243191308480867,
          29.243191308480867,
          28.65832748231124,
          2.220446049250313e-16,
          2.220446049250313e-16,
          2.220446049250313e-16,
          2.220446049250313e-16,
          2.220446049250313e-16,
          2.220446049250313e-16,
          2.220446049250313e-16,
          2.220446049250313e-16,
          2.220446049250313e-16,
          2.220446049250313e-16,
          2.220446049250313e-16,
          2.220446049250313e-16,
          2.220446049250313e-16,
          2.220446049250313e-16,
          2.220446049250313e-16,
          2.220446049250313e-16,
          2.220446049250313e-16,
          2.220446049250313e-16,
          2.220446049250313e-16,
          2.220446049250313e-16,
          2.220446049250313e-16,
          2.220446049250313e-16,
          2.220446049250313e-16,
          2.220446049250313e-16,
          2.220446049250313e-16,
          2.220446049250313e-16,
          2.220446049250313e-16,
          2.220446049250313e-16,
          2.220446049250313e-16,
          2.220446049250313e-16,
          2.220446049250313e-16,
          2.220446049250313e-16,
          2.220446049250313e-16,
          2.220446049250313e-16,
          2.220446049250313e-16,
          2.220446049250313e-16,
          2.220446049250313e-16,
          2.220446049250313e-16,
          2.220446049250313e-16,
          2.220446049250313e-16,
          2.220446049250313e-16,
          2.220446049250313e-16,
          2.220446049250313e-16,
          2.220446049250313e-16,
          2.220446049250313e-16,
          2.220446049250313e-16,
          2.220446049250313e-16,
          2.220446049250313e-16,
          2.220446049250313e-16,
          2.220446049250313e-16,
          2.220446049250313e-16,
          2.220446049250313e-16,
          2.220446049250313e-16,
          2.220446049250313e-16,
          2.220446049250313e-16,
          2.220446049250313e-16,
          2.220446049250313e-16,
          2.220446049250313e-16,
          2.220446049250313e-16,
          2.220446049250313e-16,
          2.220446049250313e-16,
          2.220446049250313e-16,
          2.220446049250313e-16,
          2.220446049250313e-16,
          2.220446049250313e-16,
          2.220446049250313e-16,
          2.220446049250313e-16,
          2.220446049250313e-16,
          2.220446049250313e-16,
          2.220446049250313e-16,
          2.220446049250313e-16,
          2.220446049250313e-16,
          14.330247057450862,
          14.330247057450862,
          14.330247057450862,
          14.043642116301843,
          13.215576442282892,
          14.043642116301843,
          14.330247057450862,
          14.330247057450862,
          14.330247057450862,
          14.330247057450862,
          14.330247057450862,
          10.031172940215605,
          3.05769429373369,
          12.743263662770747,
          14.330247057450862,
          14.043642116301843,
          14.043642116301843,
          14.043642116301843,
          14.21604793821792,
          7.107017335753115,
          6.899776925250755,
          14.330247057450862,
          15.741724910176293,
          14.330247057450862,
          26.612107763797418,
          26.612107763797418,
          27.15521200387492,
          22.426745145658398,
          19.496246253382626,
          26.61210776379742,
          27.15521200387492,
          26.61210776379742,
          26.61210776379742,
          26.61210776379742,
          27.15521200387492,
          24.1560559543639,
          20.77644356572143,
          26.61210776379742,
          27.38803661537857,
          27.15521200387492,
          26.61210776379742,
          27.15521200387492,
          30.053608625938615,
          27.15521200387492,
          26.61210776379742,
          27.15521200387492,
          28.393215602840154,
          27.38803661537857
         ],
         "yaxis": "y2"
        }
       ],
       "layout": {
        "annotations": [
         {
          "font": {
           "size": 16
          },
          "showarrow": false,
          "text": "DayAhead TEST2 2045",
          "x": 0.47,
          "xanchor": "center",
          "xref": "paper",
          "y": 1,
          "yanchor": "bottom",
          "yref": "paper"
         }
        ],
        "height": 500,
        "legend": {
         "orientation": "h"
        },
        "template": {
         "data": {
          "bar": [
           {
            "error_x": {
             "color": "#2a3f5f"
            },
            "error_y": {
             "color": "#2a3f5f"
            },
            "marker": {
             "line": {
              "color": "#E5ECF6",
              "width": 0.5
             }
            },
            "type": "bar"
           }
          ],
          "barpolar": [
           {
            "marker": {
             "line": {
              "color": "#E5ECF6",
              "width": 0.5
             }
            },
            "type": "barpolar"
           }
          ],
          "carpet": [
           {
            "aaxis": {
             "endlinecolor": "#2a3f5f",
             "gridcolor": "white",
             "linecolor": "white",
             "minorgridcolor": "white",
             "startlinecolor": "#2a3f5f"
            },
            "baxis": {
             "endlinecolor": "#2a3f5f",
             "gridcolor": "white",
             "linecolor": "white",
             "minorgridcolor": "white",
             "startlinecolor": "#2a3f5f"
            },
            "type": "carpet"
           }
          ],
          "choropleth": [
           {
            "colorbar": {
             "outlinewidth": 0,
             "ticks": ""
            },
            "type": "choropleth"
           }
          ],
          "contour": [
           {
            "colorbar": {
             "outlinewidth": 0,
             "ticks": ""
            },
            "colorscale": [
             [
              0,
              "#0d0887"
             ],
             [
              0.1111111111111111,
              "#46039f"
             ],
             [
              0.2222222222222222,
              "#7201a8"
             ],
             [
              0.3333333333333333,
              "#9c179e"
             ],
             [
              0.4444444444444444,
              "#bd3786"
             ],
             [
              0.5555555555555556,
              "#d8576b"
             ],
             [
              0.6666666666666666,
              "#ed7953"
             ],
             [
              0.7777777777777778,
              "#fb9f3a"
             ],
             [
              0.8888888888888888,
              "#fdca26"
             ],
             [
              1,
              "#f0f921"
             ]
            ],
            "type": "contour"
           }
          ],
          "contourcarpet": [
           {
            "colorbar": {
             "outlinewidth": 0,
             "ticks": ""
            },
            "type": "contourcarpet"
           }
          ],
          "heatmap": [
           {
            "colorbar": {
             "outlinewidth": 0,
             "ticks": ""
            },
            "colorscale": [
             [
              0,
              "#0d0887"
             ],
             [
              0.1111111111111111,
              "#46039f"
             ],
             [
              0.2222222222222222,
              "#7201a8"
             ],
             [
              0.3333333333333333,
              "#9c179e"
             ],
             [
              0.4444444444444444,
              "#bd3786"
             ],
             [
              0.5555555555555556,
              "#d8576b"
             ],
             [
              0.6666666666666666,
              "#ed7953"
             ],
             [
              0.7777777777777778,
              "#fb9f3a"
             ],
             [
              0.8888888888888888,
              "#fdca26"
             ],
             [
              1,
              "#f0f921"
             ]
            ],
            "type": "heatmap"
           }
          ],
          "heatmapgl": [
           {
            "colorbar": {
             "outlinewidth": 0,
             "ticks": ""
            },
            "colorscale": [
             [
              0,
              "#0d0887"
             ],
             [
              0.1111111111111111,
              "#46039f"
             ],
             [
              0.2222222222222222,
              "#7201a8"
             ],
             [
              0.3333333333333333,
              "#9c179e"
             ],
             [
              0.4444444444444444,
              "#bd3786"
             ],
             [
              0.5555555555555556,
              "#d8576b"
             ],
             [
              0.6666666666666666,
              "#ed7953"
             ],
             [
              0.7777777777777778,
              "#fb9f3a"
             ],
             [
              0.8888888888888888,
              "#fdca26"
             ],
             [
              1,
              "#f0f921"
             ]
            ],
            "type": "heatmapgl"
           }
          ],
          "histogram": [
           {
            "marker": {
             "colorbar": {
              "outlinewidth": 0,
              "ticks": ""
             }
            },
            "type": "histogram"
           }
          ],
          "histogram2d": [
           {
            "colorbar": {
             "outlinewidth": 0,
             "ticks": ""
            },
            "colorscale": [
             [
              0,
              "#0d0887"
             ],
             [
              0.1111111111111111,
              "#46039f"
             ],
             [
              0.2222222222222222,
              "#7201a8"
             ],
             [
              0.3333333333333333,
              "#9c179e"
             ],
             [
              0.4444444444444444,
              "#bd3786"
             ],
             [
              0.5555555555555556,
              "#d8576b"
             ],
             [
              0.6666666666666666,
              "#ed7953"
             ],
             [
              0.7777777777777778,
              "#fb9f3a"
             ],
             [
              0.8888888888888888,
              "#fdca26"
             ],
             [
              1,
              "#f0f921"
             ]
            ],
            "type": "histogram2d"
           }
          ],
          "histogram2dcontour": [
           {
            "colorbar": {
             "outlinewidth": 0,
             "ticks": ""
            },
            "colorscale": [
             [
              0,
              "#0d0887"
             ],
             [
              0.1111111111111111,
              "#46039f"
             ],
             [
              0.2222222222222222,
              "#7201a8"
             ],
             [
              0.3333333333333333,
              "#9c179e"
             ],
             [
              0.4444444444444444,
              "#bd3786"
             ],
             [
              0.5555555555555556,
              "#d8576b"
             ],
             [
              0.6666666666666666,
              "#ed7953"
             ],
             [
              0.7777777777777778,
              "#fb9f3a"
             ],
             [
              0.8888888888888888,
              "#fdca26"
             ],
             [
              1,
              "#f0f921"
             ]
            ],
            "type": "histogram2dcontour"
           }
          ],
          "mesh3d": [
           {
            "colorbar": {
             "outlinewidth": 0,
             "ticks": ""
            },
            "type": "mesh3d"
           }
          ],
          "parcoords": [
           {
            "line": {
             "colorbar": {
              "outlinewidth": 0,
              "ticks": ""
             }
            },
            "type": "parcoords"
           }
          ],
          "pie": [
           {
            "automargin": true,
            "type": "pie"
           }
          ],
          "scatter": [
           {
            "marker": {
             "colorbar": {
              "outlinewidth": 0,
              "ticks": ""
             }
            },
            "type": "scatter"
           }
          ],
          "scatter3d": [
           {
            "line": {
             "colorbar": {
              "outlinewidth": 0,
              "ticks": ""
             }
            },
            "marker": {
             "colorbar": {
              "outlinewidth": 0,
              "ticks": ""
             }
            },
            "type": "scatter3d"
           }
          ],
          "scattercarpet": [
           {
            "marker": {
             "colorbar": {
              "outlinewidth": 0,
              "ticks": ""
             }
            },
            "type": "scattercarpet"
           }
          ],
          "scattergeo": [
           {
            "marker": {
             "colorbar": {
              "outlinewidth": 0,
              "ticks": ""
             }
            },
            "type": "scattergeo"
           }
          ],
          "scattergl": [
           {
            "marker": {
             "colorbar": {
              "outlinewidth": 0,
              "ticks": ""
             }
            },
            "type": "scattergl"
           }
          ],
          "scattermapbox": [
           {
            "marker": {
             "colorbar": {
              "outlinewidth": 0,
              "ticks": ""
             }
            },
            "type": "scattermapbox"
           }
          ],
          "scatterpolar": [
           {
            "marker": {
             "colorbar": {
              "outlinewidth": 0,
              "ticks": ""
             }
            },
            "type": "scatterpolar"
           }
          ],
          "scatterpolargl": [
           {
            "marker": {
             "colorbar": {
              "outlinewidth": 0,
              "ticks": ""
             }
            },
            "type": "scatterpolargl"
           }
          ],
          "scatterternary": [
           {
            "marker": {
             "colorbar": {
              "outlinewidth": 0,
              "ticks": ""
             }
            },
            "type": "scatterternary"
           }
          ],
          "surface": [
           {
            "colorbar": {
             "outlinewidth": 0,
             "ticks": ""
            },
            "colorscale": [
             [
              0,
              "#0d0887"
             ],
             [
              0.1111111111111111,
              "#46039f"
             ],
             [
              0.2222222222222222,
              "#7201a8"
             ],
             [
              0.3333333333333333,
              "#9c179e"
             ],
             [
              0.4444444444444444,
              "#bd3786"
             ],
             [
              0.5555555555555556,
              "#d8576b"
             ],
             [
              0.6666666666666666,
              "#ed7953"
             ],
             [
              0.7777777777777778,
              "#fb9f3a"
             ],
             [
              0.8888888888888888,
              "#fdca26"
             ],
             [
              1,
              "#f0f921"
             ]
            ],
            "type": "surface"
           }
          ],
          "table": [
           {
            "cells": {
             "fill": {
              "color": "#EBF0F8"
             },
             "line": {
              "color": "white"
             }
            },
            "header": {
             "fill": {
              "color": "#C8D4E3"
             },
             "line": {
              "color": "white"
             }
            },
            "type": "table"
           }
          ]
         },
         "layout": {
          "annotationdefaults": {
           "arrowcolor": "#2a3f5f",
           "arrowhead": 0,
           "arrowwidth": 1
          },
          "coloraxis": {
           "colorbar": {
            "outlinewidth": 0,
            "ticks": ""
           }
          },
          "colorscale": {
           "diverging": [
            [
             0,
             "#8e0152"
            ],
            [
             0.1,
             "#c51b7d"
            ],
            [
             0.2,
             "#de77ae"
            ],
            [
             0.3,
             "#f1b6da"
            ],
            [
             0.4,
             "#fde0ef"
            ],
            [
             0.5,
             "#f7f7f7"
            ],
            [
             0.6,
             "#e6f5d0"
            ],
            [
             0.7,
             "#b8e186"
            ],
            [
             0.8,
             "#7fbc41"
            ],
            [
             0.9,
             "#4d9221"
            ],
            [
             1,
             "#276419"
            ]
           ],
           "sequential": [
            [
             0,
             "#0d0887"
            ],
            [
             0.1111111111111111,
             "#46039f"
            ],
            [
             0.2222222222222222,
             "#7201a8"
            ],
            [
             0.3333333333333333,
             "#9c179e"
            ],
            [
             0.4444444444444444,
             "#bd3786"
            ],
            [
             0.5555555555555556,
             "#d8576b"
            ],
            [
             0.6666666666666666,
             "#ed7953"
            ],
            [
             0.7777777777777778,
             "#fb9f3a"
            ],
            [
             0.8888888888888888,
             "#fdca26"
            ],
            [
             1,
             "#f0f921"
            ]
           ],
           "sequentialminus": [
            [
             0,
             "#0d0887"
            ],
            [
             0.1111111111111111,
             "#46039f"
            ],
            [
             0.2222222222222222,
             "#7201a8"
            ],
            [
             0.3333333333333333,
             "#9c179e"
            ],
            [
             0.4444444444444444,
             "#bd3786"
            ],
            [
             0.5555555555555556,
             "#d8576b"
            ],
            [
             0.6666666666666666,
             "#ed7953"
            ],
            [
             0.7777777777777778,
             "#fb9f3a"
            ],
            [
             0.8888888888888888,
             "#fdca26"
            ],
            [
             1,
             "#f0f921"
            ]
           ]
          },
          "colorway": [
           "#636efa",
           "#EF553B",
           "#00cc96",
           "#ab63fa",
           "#FFA15A",
           "#19d3f3",
           "#FF6692",
           "#B6E880",
           "#FF97FF",
           "#FECB52"
          ],
          "font": {
           "color": "#2a3f5f"
          },
          "geo": {
           "bgcolor": "white",
           "lakecolor": "white",
           "landcolor": "#E5ECF6",
           "showlakes": true,
           "showland": true,
           "subunitcolor": "white"
          },
          "hoverlabel": {
           "align": "left"
          },
          "hovermode": "closest",
          "mapbox": {
           "style": "light"
          },
          "paper_bgcolor": "white",
          "plot_bgcolor": "#E5ECF6",
          "polar": {
           "angularaxis": {
            "gridcolor": "white",
            "linecolor": "white",
            "ticks": ""
           },
           "bgcolor": "#E5ECF6",
           "radialaxis": {
            "gridcolor": "white",
            "linecolor": "white",
            "ticks": ""
           }
          },
          "scene": {
           "xaxis": {
            "backgroundcolor": "#E5ECF6",
            "gridcolor": "white",
            "gridwidth": 2,
            "linecolor": "white",
            "showbackground": true,
            "ticks": "",
            "zerolinecolor": "white"
           },
           "yaxis": {
            "backgroundcolor": "#E5ECF6",
            "gridcolor": "white",
            "gridwidth": 2,
            "linecolor": "white",
            "showbackground": true,
            "ticks": "",
            "zerolinecolor": "white"
           },
           "zaxis": {
            "backgroundcolor": "#E5ECF6",
            "gridcolor": "white",
            "gridwidth": 2,
            "linecolor": "white",
            "showbackground": true,
            "ticks": "",
            "zerolinecolor": "white"
           }
          },
          "shapedefaults": {
           "line": {
            "color": "#2a3f5f"
           }
          },
          "ternary": {
           "aaxis": {
            "gridcolor": "white",
            "linecolor": "white",
            "ticks": ""
           },
           "baxis": {
            "gridcolor": "white",
            "linecolor": "white",
            "ticks": ""
           },
           "bgcolor": "#E5ECF6",
           "caxis": {
            "gridcolor": "white",
            "linecolor": "white",
            "ticks": ""
           }
          },
          "title": {
           "x": 0.05
          },
          "xaxis": {
           "automargin": true,
           "gridcolor": "white",
           "linecolor": "white",
           "ticks": "",
           "title": {
            "standoff": 15
           },
           "zerolinecolor": "white",
           "zerolinewidth": 2
          },
          "yaxis": {
           "automargin": true,
           "gridcolor": "white",
           "linecolor": "white",
           "ticks": "",
           "title": {
            "standoff": 15
           },
           "zerolinecolor": "white",
           "zerolinewidth": 2
          }
         }
        },
        "title": {
         "text": "Heat balance"
        },
        "width": 1000,
        "xaxis": {
         "anchor": "y",
         "domain": [
          0,
          0.94
         ]
        },
        "yaxis": {
         "anchor": "x",
         "constraintoward": "middle",
         "domain": [
          0,
          1
         ],
         "title": {
          "text": "Heat (MWh/h)"
         }
        },
        "yaxis2": {
         "anchor": "x",
         "constraintoward": "middle",
         "overlaying": "y",
         "side": "right",
         "title": {
          "text": "Price (€/MWh)"
         }
        }
       }
      },
      "text/html": [
       "<div>\n",
       "        \n",
       "        \n",
       "            <div id=\"272f6c75-f839-4949-9203-3fcdab3858e7\" class=\"plotly-graph-div\" style=\"height:500px; width:1000px;\"></div>\n",
       "            <script type=\"text/javascript\">\n",
       "                require([\"plotly\"], function(Plotly) {\n",
       "                    window.PLOTLYENV=window.PLOTLYENV || {};\n",
       "                    \n",
       "                if (document.getElementById(\"272f6c75-f839-4949-9203-3fcdab3858e7\")) {\n",
       "                    Plotly.newPlot(\n",
       "                        '272f6c75-f839-4949-9203-3fcdab3858e7',\n",
       "                        [{\"line\": {\"color\": \"lightgreen\"}, \"mode\": \"lines\", \"name\": \"HEATSTO\", \"showlegend\": true, \"stackgroup\": \"one\", \"type\": \"scatter\", \"x\": [\"2012-01-12T00:00:00\", \"2012-01-12T03:00:00\", \"2012-01-12T06:00:00\", \"2012-01-12T09:00:00\", \"2012-01-12T12:00:00\", \"2012-01-12T15:00:00\", \"2012-01-12T18:00:00\", \"2012-01-12T21:00:00\", \"2012-01-13T00:00:00\", \"2012-01-13T03:00:00\", \"2012-01-13T06:00:00\", \"2012-01-13T09:00:00\", \"2012-01-13T12:00:00\", \"2012-01-13T15:00:00\", \"2012-01-13T18:00:00\", \"2012-01-13T21:00:00\", \"2012-01-14T00:00:00\", \"2012-01-14T03:00:00\", \"2012-01-14T06:00:00\", \"2012-01-14T09:00:00\", \"2012-01-14T12:00:00\", \"2012-01-14T15:00:00\", \"2012-01-14T18:00:00\", \"2012-01-14T21:00:00\", \"2012-02-23T00:00:00\", \"2012-02-23T03:00:00\", \"2012-02-23T06:00:00\", \"2012-02-23T09:00:00\", \"2012-02-23T12:00:00\", \"2012-02-23T15:00:00\", \"2012-02-23T18:00:00\", \"2012-02-23T21:00:00\", \"2012-02-24T00:00:00\", \"2012-02-24T03:00:00\", \"2012-02-24T06:00:00\", \"2012-02-24T09:00:00\", \"2012-02-24T12:00:00\", \"2012-02-24T15:00:00\", \"2012-02-24T18:00:00\", \"2012-02-24T21:00:00\", \"2012-02-25T00:00:00\", \"2012-02-25T03:00:00\", \"2012-02-25T06:00:00\", \"2012-02-25T09:00:00\", \"2012-02-25T12:00:00\", \"2012-02-25T15:00:00\", \"2012-02-25T18:00:00\", \"2012-02-25T21:00:00\", \"2012-04-12T00:00:00\", \"2012-04-12T03:00:00\", \"2012-04-12T06:00:00\", \"2012-04-12T09:00:00\", \"2012-04-12T12:00:00\", \"2012-04-12T15:00:00\", \"2012-04-12T18:00:00\", \"2012-04-12T21:00:00\", \"2012-04-13T00:00:00\", \"2012-04-13T03:00:00\", \"2012-04-13T06:00:00\", \"2012-04-13T09:00:00\", \"2012-04-13T12:00:00\", \"2012-04-13T15:00:00\", \"2012-04-13T18:00:00\", \"2012-04-13T21:00:00\", \"2012-04-14T00:00:00\", \"2012-04-14T03:00:00\", \"2012-04-14T06:00:00\", \"2012-04-14T09:00:00\", \"2012-04-14T12:00:00\", \"2012-04-14T15:00:00\", \"2012-04-14T18:00:00\", \"2012-04-14T21:00:00\", \"2012-05-24T00:00:00\", \"2012-05-24T03:00:00\", \"2012-05-24T06:00:00\", \"2012-05-24T09:00:00\", \"2012-05-24T12:00:00\", \"2012-05-24T15:00:00\", \"2012-05-24T18:00:00\", \"2012-05-24T21:00:00\", \"2012-05-25T00:00:00\", \"2012-05-25T03:00:00\", \"2012-05-25T06:00:00\", \"2012-05-25T09:00:00\", \"2012-05-25T12:00:00\", \"2012-05-25T15:00:00\", \"2012-05-25T18:00:00\", \"2012-05-25T21:00:00\", \"2012-05-26T00:00:00\", \"2012-05-26T03:00:00\", \"2012-05-26T06:00:00\", \"2012-05-26T09:00:00\", \"2012-05-26T12:00:00\", \"2012-05-26T15:00:00\", \"2012-05-26T18:00:00\", \"2012-05-26T21:00:00\", \"2012-07-12T00:00:00\", \"2012-07-12T03:00:00\", \"2012-07-12T06:00:00\", \"2012-07-12T09:00:00\", \"2012-07-12T12:00:00\", \"2012-07-12T15:00:00\", \"2012-07-12T18:00:00\", \"2012-07-12T21:00:00\", \"2012-07-13T00:00:00\", \"2012-07-13T03:00:00\", \"2012-07-13T06:00:00\", \"2012-07-13T09:00:00\", \"2012-07-13T12:00:00\", \"2012-07-13T15:00:00\", \"2012-07-13T18:00:00\", \"2012-07-13T21:00:00\", \"2012-07-14T00:00:00\", \"2012-07-14T03:00:00\", \"2012-07-14T06:00:00\", \"2012-07-14T09:00:00\", \"2012-07-14T12:00:00\", \"2012-07-14T15:00:00\", \"2012-07-14T18:00:00\", \"2012-07-14T21:00:00\", \"2012-08-23T00:00:00\", \"2012-08-23T03:00:00\", \"2012-08-23T06:00:00\", \"2012-08-23T09:00:00\", \"2012-08-23T12:00:00\", \"2012-08-23T15:00:00\", \"2012-08-23T18:00:00\", \"2012-08-23T21:00:00\", \"2012-08-24T00:00:00\", \"2012-08-24T03:00:00\", \"2012-08-24T06:00:00\", \"2012-08-24T09:00:00\", \"2012-08-24T12:00:00\", \"2012-08-24T15:00:00\", \"2012-08-24T18:00:00\", \"2012-08-24T21:00:00\", \"2012-08-25T00:00:00\", \"2012-08-25T03:00:00\", \"2012-08-25T06:00:00\", \"2012-08-25T09:00:00\", \"2012-08-25T12:00:00\", \"2012-08-25T15:00:00\", \"2012-08-25T18:00:00\", \"2012-08-25T21:00:00\", \"2012-10-11T00:00:00\", \"2012-10-11T03:00:00\", \"2012-10-11T06:00:00\", \"2012-10-11T09:00:00\", \"2012-10-11T12:00:00\", \"2012-10-11T15:00:00\", \"2012-10-11T18:00:00\", \"2012-10-11T21:00:00\", \"2012-10-12T00:00:00\", \"2012-10-12T03:00:00\", \"2012-10-12T06:00:00\", \"2012-10-12T09:00:00\", \"2012-10-12T12:00:00\", \"2012-10-12T15:00:00\", \"2012-10-12T18:00:00\", \"2012-10-12T21:00:00\", \"2012-10-13T00:00:00\", \"2012-10-13T03:00:00\", \"2012-10-13T06:00:00\", \"2012-10-13T09:00:00\", \"2012-10-13T12:00:00\", \"2012-10-13T15:00:00\", \"2012-10-13T18:00:00\", \"2012-10-13T21:00:00\", \"2012-11-22T00:00:00\", \"2012-11-22T03:00:00\", \"2012-11-22T06:00:00\", \"2012-11-22T09:00:00\", \"2012-11-22T12:00:00\", \"2012-11-22T15:00:00\", \"2012-11-22T18:00:00\", \"2012-11-22T21:00:00\", \"2012-11-23T00:00:00\", \"2012-11-23T03:00:00\", \"2012-11-23T06:00:00\", \"2012-11-23T09:00:00\", \"2012-11-23T12:00:00\", \"2012-11-23T15:00:00\", \"2012-11-23T18:00:00\", \"2012-11-23T21:00:00\", \"2012-11-24T00:00:00\", \"2012-11-24T03:00:00\", \"2012-11-24T06:00:00\", \"2012-11-24T09:00:00\", \"2012-11-24T12:00:00\", \"2012-11-24T15:00:00\", \"2012-11-24T18:00:00\", \"2012-11-24T21:00:00\"], \"xaxis\": \"x\", \"y\": [0.0, 0.0, 684.1617660325346, 0.0, 0.0, 0.0, 55.28813744918773, 0.0, 0.0, 0.0, 1035.1056380716202, 0.0, 0.0, 0.0, 926.6678842934524, 16.79185389255207, 0.0, 0.0, 2184.3872938741642, 1035.1056380716202, 0.0, 1489.7975986593583, 2193.958561885607, 1731.5140012201132, 0.0, 0.0, 1035.1056380716202, 0.0, 0.0, 0.0, 1155.5286903500037, 221.92247782095637, 0.0, 0.0, 952.3365670309925, 0.0, 0.0, 0.0, 716.3100746815924, 57.08427982043753, 0.0, 0.0, 1035.1056380716202, 0.0, 0.0, 419.57497081660495, 1035.1056380716202, 181.04554488155168, 0.0, 0.0, 617.3949354259793, 0.0, 0.0, 0.0, 2193.958561885607, 1399.19691075452, 983.2005770183684, 1503.396760377902, 586.5997136493626, 0.0, 0.0, 0.0, 619.9907968063558, 0.0, 156.89444072545956, 248.103053910163, 1634.151430804432, 0.0, 0.0, 114.8433551197088, 637.5256564678249, 0.0, 1035.1056380716202, 1035.1056380716202, 1035.1056380716202, 385.10099521407665, 318.0184946235563, 611.3248218500773, 1380.5005377933721, 1582.6337400355299, 1057.2312038208906, 1643.5034230739634, 1643.5034230739634, 608.3977850023431, 608.3977850023431, 318.0184946235563, 1933.88271345275, 1643.5034230739634, 1643.5034230739634, 1603.1391799137434, 1322.5578916026727, 27.376405098195505, 0.0, 1035.1056380716202, 1035.1056380716202, 1582.6337400355299, 1356.0511695429107, 1646.4304599216975, 1386.617410635416, 0.0, 611.3248218500773, 611.3248218500773, 1646.4304599216975, 1646.4304599216975, 1646.4304599216975, 2090.642400586814, 1158.852923813987, 770.3499207790959, 547.5281019639096, 611.3248218500773, 1582.6337400355299, 1632.7482057836019, 547.5281019639096, 1035.1056380716202, 1132.5834069118669, 994.4237910909578, 738.9306851769934, 898.7770753811299, 1933.88271345275, 1035.1056380716202, 0.0, 0.0, 1356.0511695429109, 0.0, 0.0, 0.0, 1035.1056380716202, 1035.1056380716202, 0.0, 1035.1056380716202, 1053.0038947394366, 0.0, 0.0, 1035.1056380716202, 1035.1056380716202, 1035.1056380716202, 1035.1056380716202, 1035.1056380716202, 1035.1056380716202, 0.0, 0.0, 1035.1056380716202, 1035.1056380716202, 955.7394322504281, 530.2631451773298, 863.1777017581003, 1753.389104216187, 0.0, 0.0, 0.0, 1461.9769516422816, 813.5392522911341, 536.5126632990502, 952.475158408009, 1524.7278793196363, 0.0, 0.0, 0.0, 135.8416632025578, 0.0, 0.0, 0.0, 0.0, 0.0, 0.0, 453.63542930274065, 1094.0431564474368, 764.2557513194761, 0.0, 0.0, 565.4177422719675, 0.0, 0.0, 0.0, 255.34137565596248, 0.0, 0.0, 0.0, 322.48316022535823, 0.0, 0.0, 0.0, 1035.1056380716202, 706.0332814385911, 0.0, 22.189998001695926, 1359.2619891386173, 420.9376741403049, 0.0, 1030.256978603531, 1035.1056380716202, 1035.1056380716202], \"yaxis\": \"y\"}, {\"line\": {\"color\": \"grey\"}, \"mode\": \"lines\", \"name\": \"CHP\", \"showlegend\": true, \"stackgroup\": \"one\", \"type\": \"scatter\", \"x\": [\"2012-01-12T00:00:00\", \"2012-01-12T03:00:00\", \"2012-01-12T06:00:00\", \"2012-01-12T09:00:00\", \"2012-01-12T12:00:00\", \"2012-01-12T15:00:00\", \"2012-01-12T18:00:00\", \"2012-01-12T21:00:00\", \"2012-01-13T00:00:00\", \"2012-01-13T03:00:00\", \"2012-01-13T06:00:00\", \"2012-01-13T09:00:00\", \"2012-01-13T12:00:00\", \"2012-01-13T15:00:00\", \"2012-01-13T18:00:00\", \"2012-01-13T21:00:00\", \"2012-01-14T00:00:00\", \"2012-01-14T03:00:00\", \"2012-01-14T06:00:00\", \"2012-01-14T09:00:00\", \"2012-01-14T12:00:00\", \"2012-01-14T15:00:00\", \"2012-01-14T18:00:00\", \"2012-01-14T21:00:00\", \"2012-02-23T00:00:00\", \"2012-02-23T03:00:00\", \"2012-02-23T06:00:00\", \"2012-02-23T09:00:00\", \"2012-02-23T12:00:00\", \"2012-02-23T15:00:00\", \"2012-02-23T18:00:00\", \"2012-02-23T21:00:00\", \"2012-02-24T00:00:00\", \"2012-02-24T03:00:00\", \"2012-02-24T06:00:00\", \"2012-02-24T09:00:00\", \"2012-02-24T12:00:00\", \"2012-02-24T15:00:00\", \"2012-02-24T18:00:00\", \"2012-02-24T21:00:00\", \"2012-02-25T00:00:00\", \"2012-02-25T03:00:00\", \"2012-02-25T06:00:00\", \"2012-02-25T09:00:00\", \"2012-02-25T12:00:00\", \"2012-02-25T15:00:00\", \"2012-02-25T18:00:00\", \"2012-02-25T21:00:00\", \"2012-04-12T00:00:00\", \"2012-04-12T03:00:00\", \"2012-04-12T06:00:00\", \"2012-04-12T09:00:00\", \"2012-04-12T12:00:00\", \"2012-04-12T15:00:00\", \"2012-04-12T18:00:00\", \"2012-04-12T21:00:00\", \"2012-04-13T00:00:00\", \"2012-04-13T03:00:00\", \"2012-04-13T06:00:00\", \"2012-04-13T09:00:00\", \"2012-04-13T12:00:00\", \"2012-04-13T15:00:00\", \"2012-04-13T18:00:00\", \"2012-04-13T21:00:00\", \"2012-04-14T00:00:00\", \"2012-04-14T03:00:00\", \"2012-04-14T06:00:00\", \"2012-04-14T09:00:00\", \"2012-04-14T12:00:00\", \"2012-04-14T15:00:00\", \"2012-04-14T18:00:00\", \"2012-04-14T21:00:00\", \"2012-05-24T00:00:00\", \"2012-05-24T03:00:00\", \"2012-05-24T06:00:00\", \"2012-05-24T09:00:00\", \"2012-05-24T12:00:00\", \"2012-05-24T15:00:00\", \"2012-05-24T18:00:00\", \"2012-05-24T21:00:00\", \"2012-05-25T00:00:00\", \"2012-05-25T03:00:00\", \"2012-05-25T06:00:00\", \"2012-05-25T09:00:00\", \"2012-05-25T12:00:00\", \"2012-05-25T15:00:00\", \"2012-05-25T18:00:00\", \"2012-05-25T21:00:00\", \"2012-05-26T00:00:00\", \"2012-05-26T03:00:00\", \"2012-05-26T06:00:00\", \"2012-05-26T09:00:00\", \"2012-05-26T12:00:00\", \"2012-05-26T15:00:00\", \"2012-05-26T18:00:00\", \"2012-05-26T21:00:00\", \"2012-07-12T00:00:00\", \"2012-07-12T03:00:00\", \"2012-07-12T06:00:00\", \"2012-07-12T09:00:00\", \"2012-07-12T12:00:00\", \"2012-07-12T15:00:00\", \"2012-07-12T18:00:00\", \"2012-07-12T21:00:00\", \"2012-07-13T00:00:00\", \"2012-07-13T03:00:00\", \"2012-07-13T06:00:00\", \"2012-07-13T09:00:00\", \"2012-07-13T12:00:00\", \"2012-07-13T15:00:00\", \"2012-07-13T18:00:00\", \"2012-07-13T21:00:00\", \"2012-07-14T00:00:00\", \"2012-07-14T03:00:00\", \"2012-07-14T06:00:00\", \"2012-07-14T09:00:00\", \"2012-07-14T12:00:00\", \"2012-07-14T15:00:00\", \"2012-07-14T18:00:00\", \"2012-07-14T21:00:00\", \"2012-08-23T00:00:00\", \"2012-08-23T03:00:00\", \"2012-08-23T06:00:00\", \"2012-08-23T09:00:00\", \"2012-08-23T12:00:00\", \"2012-08-23T15:00:00\", \"2012-08-23T18:00:00\", \"2012-08-23T21:00:00\", \"2012-08-24T00:00:00\", \"2012-08-24T03:00:00\", \"2012-08-24T06:00:00\", \"2012-08-24T09:00:00\", \"2012-08-24T12:00:00\", \"2012-08-24T15:00:00\", \"2012-08-24T18:00:00\", \"2012-08-24T21:00:00\", \"2012-08-25T00:00:00\", \"2012-08-25T03:00:00\", \"2012-08-25T06:00:00\", \"2012-08-25T09:00:00\", \"2012-08-25T12:00:00\", \"2012-08-25T15:00:00\", \"2012-08-25T18:00:00\", \"2012-08-25T21:00:00\", \"2012-10-11T00:00:00\", \"2012-10-11T03:00:00\", \"2012-10-11T06:00:00\", \"2012-10-11T09:00:00\", \"2012-10-11T12:00:00\", \"2012-10-11T15:00:00\", \"2012-10-11T18:00:00\", \"2012-10-11T21:00:00\", \"2012-10-12T00:00:00\", \"2012-10-12T03:00:00\", \"2012-10-12T06:00:00\", \"2012-10-12T09:00:00\", \"2012-10-12T12:00:00\", \"2012-10-12T15:00:00\", \"2012-10-12T18:00:00\", \"2012-10-12T21:00:00\", \"2012-10-13T00:00:00\", \"2012-10-13T03:00:00\", \"2012-10-13T06:00:00\", \"2012-10-13T09:00:00\", \"2012-10-13T12:00:00\", \"2012-10-13T15:00:00\", \"2012-10-13T18:00:00\", \"2012-10-13T21:00:00\", \"2012-11-22T00:00:00\", \"2012-11-22T03:00:00\", \"2012-11-22T06:00:00\", \"2012-11-22T09:00:00\", \"2012-11-22T12:00:00\", \"2012-11-22T15:00:00\", \"2012-11-22T18:00:00\", \"2012-11-22T21:00:00\", \"2012-11-23T00:00:00\", \"2012-11-23T03:00:00\", \"2012-11-23T06:00:00\", \"2012-11-23T09:00:00\", \"2012-11-23T12:00:00\", \"2012-11-23T15:00:00\", \"2012-11-23T18:00:00\", \"2012-11-23T21:00:00\", \"2012-11-24T00:00:00\", \"2012-11-24T03:00:00\", \"2012-11-24T06:00:00\", \"2012-11-24T09:00:00\", \"2012-11-24T12:00:00\", \"2012-11-24T15:00:00\", \"2012-11-24T18:00:00\", \"2012-11-24T21:00:00\"], \"xaxis\": \"x\", \"y\": [542.1266183038099, 542.1266183038099, 704.7646037949527, 704.7646037949527, 704.7646037949527, 704.7646037949527, 704.7646037949527, 704.7646037949527, 542.1266183038097, 704.7646037949527, 704.7646037949527, 704.7646037949527, 704.7646037949527, 704.7646037949527, 704.7646037949527, 704.7646037949527, 542.1266183038098, 542.1266183038098, 704.7646037949527, 704.7646037949527, 704.7646037949527, 542.1266183038099, 542.1266183038099, 542.1266183038099, 542.1266183038099, 542.1266183038099, 542.1266183038099, 542.1266183038099, 542.1266183038099, 542.1266183038099, 542.1266183038099, 542.1266183038099, 542.1266183038099, 542.1266183038099, 542.1266183038099, 542.1266183038099, 542.1266183038099, 542.1266183038099, 542.1266183038099, 542.1266183038099, 542.1266183038099, 542.1266183038099, 542.1266183038099, 704.7646037949527, 704.7646037949527, 542.1266183038099, 542.1266183038099, 542.1266183038099, 542.1266183038099, 542.1266183038099, 542.1266183038099, 542.1266183038099, 542.1266183038099, 542.1266183038099, 542.1266183038099, 542.1266183038099, 542.1266183038099, 542.1266183038099, 542.1266183038099, 542.1266183038099, 542.1266183038099, 542.1266183038099, 542.1266183038099, 542.1266183038099, 542.1266183038099, 542.1266183038099, 542.1266183038099, 704.7646037949527, 704.7646037949527, 542.1266183038099, 542.1266183038099, 542.1266183038099, 542.1266183038099, 542.1266183038099, 542.1266183038099, 542.1266183038099, 542.1266183038099, 542.1266183038099, 542.1266183038099, 542.1266183038099, 542.1266183038099, 542.1266183038099, 542.1266183038099, 542.1266183038099, 542.1266183038099, 542.1266183038099, 542.1266183038099, 542.1266183038099, 542.1266183038099, 542.1266183038099, 542.1266183038099, 542.1266183038098, 542.1266183038098, 542.1266183038099, 542.1266183038099, 542.1266183038099, 542.1266183038099, 542.1266183038099, 542.1266183038099, 542.1266183038099, 542.1266183038099, 542.1266183038099, 542.1266183038099, 542.1266183038099, 542.1266183038099, 542.1266183038099, 542.1266183038099, 542.1266183038099, 542.1266183038099, 542.1266183038099, 542.1266183038099, 542.1266183038099, 542.1266183038099, 542.1266183038099, 542.1266183038099, 542.1266183038099, 542.1266183038099, 542.1266183038099, 542.1266183038099, 542.1266183038099, 542.1266183038099, 542.1266183038099, 542.1266183038099, 542.1266183038099, 542.1266183038099, 542.1266183038099, 542.1266183038099, 542.1266183038099, 542.1266183038099, 542.1266183038099, 542.1266183038099, 542.1266183038099, 542.1266183038099, 542.1266183038099, 542.1266183038099, 542.1266183038099, 542.1266183038099, 542.1266183038099, 542.1266183038099, 542.1266183038099, 542.1266183038099, 542.1266183038099, 542.1266183038099, 542.1266183038099, 542.1266183038099, 542.1266183038099, 542.1266183038099, 542.1266183038099, 542.1266183038099, 542.1266183038099, 542.1266183038099, 542.1266183038099, 542.1266183038099, 542.1266183038099, 542.1266183038099, 542.1266183038099, 704.7646037949527, 542.1266183038099, 542.1266183038099, 542.1266183038099, 542.1266183038099, 542.1266183038099, 542.1266183038099, 542.1266183038099, 542.1266183038099, 542.1266183038099, 542.1266183038099, 542.1266183038099, 542.1266183038099, 542.1266183038099, 542.1266183038099, 542.1266183038099, 542.1266183038099, 542.1266183038099, 542.1266183038099, 542.1266183038099, 542.1266183038099, 542.1266183038099, 542.1266183038099, 542.1266183038099, 542.1266183038099, 542.1266183038099, 542.1266183038099, 542.1266183038099, 542.1266183038099, 542.1266183038099, 542.1266183038099, 542.1266183038099, 542.1266183038099, 542.1266183038099, 542.1266183038099, 542.1266183038099], \"yaxis\": \"y\"}, {\"line\": {\"color\": \"yellow\"}, \"mode\": \"lines\", \"name\": \"P2H\", \"showlegend\": true, \"stackgroup\": \"one\", \"type\": \"scatter\", \"x\": [\"2012-01-12T00:00:00\", \"2012-01-12T03:00:00\", \"2012-01-12T06:00:00\", \"2012-01-12T09:00:00\", \"2012-01-12T12:00:00\", \"2012-01-12T15:00:00\", \"2012-01-12T18:00:00\", \"2012-01-12T21:00:00\", \"2012-01-13T00:00:00\", \"2012-01-13T03:00:00\", \"2012-01-13T06:00:00\", \"2012-01-13T09:00:00\", \"2012-01-13T12:00:00\", \"2012-01-13T15:00:00\", \"2012-01-13T18:00:00\", \"2012-01-13T21:00:00\", \"2012-01-14T00:00:00\", \"2012-01-14T03:00:00\", \"2012-01-14T06:00:00\", \"2012-01-14T09:00:00\", \"2012-01-14T12:00:00\", \"2012-01-14T15:00:00\", \"2012-01-14T18:00:00\", \"2012-01-14T21:00:00\", \"2012-02-23T00:00:00\", \"2012-02-23T03:00:00\", \"2012-02-23T06:00:00\", \"2012-02-23T09:00:00\", \"2012-02-23T12:00:00\", \"2012-02-23T15:00:00\", \"2012-02-23T18:00:00\", \"2012-02-23T21:00:00\", \"2012-02-24T00:00:00\", \"2012-02-24T03:00:00\", \"2012-02-24T06:00:00\", \"2012-02-24T09:00:00\", \"2012-02-24T12:00:00\", \"2012-02-24T15:00:00\", \"2012-02-24T18:00:00\", \"2012-02-24T21:00:00\", \"2012-02-25T00:00:00\", \"2012-02-25T03:00:00\", \"2012-02-25T06:00:00\", \"2012-02-25T09:00:00\", \"2012-02-25T12:00:00\", \"2012-02-25T15:00:00\", \"2012-02-25T18:00:00\", \"2012-02-25T21:00:00\", \"2012-04-12T00:00:00\", \"2012-04-12T03:00:00\", \"2012-04-12T06:00:00\", \"2012-04-12T09:00:00\", \"2012-04-12T12:00:00\", \"2012-04-12T15:00:00\", \"2012-04-12T18:00:00\", \"2012-04-12T21:00:00\", \"2012-04-13T00:00:00\", \"2012-04-13T03:00:00\", \"2012-04-13T06:00:00\", \"2012-04-13T09:00:00\", \"2012-04-13T12:00:00\", \"2012-04-13T15:00:00\", \"2012-04-13T18:00:00\", \"2012-04-13T21:00:00\", \"2012-04-14T00:00:00\", \"2012-04-14T03:00:00\", \"2012-04-14T06:00:00\", \"2012-04-14T09:00:00\", \"2012-04-14T12:00:00\", \"2012-04-14T15:00:00\", \"2012-04-14T18:00:00\", \"2012-04-14T21:00:00\", \"2012-05-24T00:00:00\", \"2012-05-24T03:00:00\", \"2012-05-24T06:00:00\", \"2012-05-24T09:00:00\", \"2012-05-24T12:00:00\", \"2012-05-24T15:00:00\", \"2012-05-24T18:00:00\", \"2012-05-24T21:00:00\", \"2012-05-25T00:00:00\", \"2012-05-25T03:00:00\", \"2012-05-25T06:00:00\", \"2012-05-25T09:00:00\", \"2012-05-25T12:00:00\", \"2012-05-25T15:00:00\", \"2012-05-25T18:00:00\", \"2012-05-25T21:00:00\", \"2012-05-26T00:00:00\", \"2012-05-26T03:00:00\", \"2012-05-26T06:00:00\", \"2012-05-26T09:00:00\", \"2012-05-26T12:00:00\", \"2012-05-26T15:00:00\", \"2012-05-26T18:00:00\", \"2012-05-26T21:00:00\", \"2012-07-12T00:00:00\", \"2012-07-12T03:00:00\", \"2012-07-12T06:00:00\", \"2012-07-12T09:00:00\", \"2012-07-12T12:00:00\", \"2012-07-12T15:00:00\", \"2012-07-12T18:00:00\", \"2012-07-12T21:00:00\", \"2012-07-13T00:00:00\", \"2012-07-13T03:00:00\", \"2012-07-13T06:00:00\", \"2012-07-13T09:00:00\", \"2012-07-13T12:00:00\", \"2012-07-13T15:00:00\", \"2012-07-13T18:00:00\", \"2012-07-13T21:00:00\", \"2012-07-14T00:00:00\", \"2012-07-14T03:00:00\", \"2012-07-14T06:00:00\", \"2012-07-14T09:00:00\", \"2012-07-14T12:00:00\", \"2012-07-14T15:00:00\", \"2012-07-14T18:00:00\", \"2012-07-14T21:00:00\", \"2012-08-23T00:00:00\", \"2012-08-23T03:00:00\", \"2012-08-23T06:00:00\", \"2012-08-23T09:00:00\", \"2012-08-23T12:00:00\", \"2012-08-23T15:00:00\", \"2012-08-23T18:00:00\", \"2012-08-23T21:00:00\", \"2012-08-24T00:00:00\", \"2012-08-24T03:00:00\", \"2012-08-24T06:00:00\", \"2012-08-24T09:00:00\", \"2012-08-24T12:00:00\", \"2012-08-24T15:00:00\", \"2012-08-24T18:00:00\", \"2012-08-24T21:00:00\", \"2012-08-25T00:00:00\", \"2012-08-25T03:00:00\", \"2012-08-25T06:00:00\", \"2012-08-25T09:00:00\", \"2012-08-25T12:00:00\", \"2012-08-25T15:00:00\", \"2012-08-25T18:00:00\", \"2012-08-25T21:00:00\", \"2012-10-11T00:00:00\", \"2012-10-11T03:00:00\", \"2012-10-11T06:00:00\", \"2012-10-11T09:00:00\", \"2012-10-11T12:00:00\", \"2012-10-11T15:00:00\", \"2012-10-11T18:00:00\", \"2012-10-11T21:00:00\", \"2012-10-12T00:00:00\", \"2012-10-12T03:00:00\", \"2012-10-12T06:00:00\", \"2012-10-12T09:00:00\", \"2012-10-12T12:00:00\", \"2012-10-12T15:00:00\", \"2012-10-12T18:00:00\", \"2012-10-12T21:00:00\", \"2012-10-13T00:00:00\", \"2012-10-13T03:00:00\", \"2012-10-13T06:00:00\", \"2012-10-13T09:00:00\", \"2012-10-13T12:00:00\", \"2012-10-13T15:00:00\", \"2012-10-13T18:00:00\", \"2012-10-13T21:00:00\", \"2012-11-22T00:00:00\", \"2012-11-22T03:00:00\", \"2012-11-22T06:00:00\", \"2012-11-22T09:00:00\", \"2012-11-22T12:00:00\", \"2012-11-22T15:00:00\", \"2012-11-22T18:00:00\", \"2012-11-22T21:00:00\", \"2012-11-23T00:00:00\", \"2012-11-23T03:00:00\", \"2012-11-23T06:00:00\", \"2012-11-23T09:00:00\", \"2012-11-23T12:00:00\", \"2012-11-23T15:00:00\", \"2012-11-23T18:00:00\", \"2012-11-23T21:00:00\", \"2012-11-24T00:00:00\", \"2012-11-24T03:00:00\", \"2012-11-24T06:00:00\", \"2012-11-24T09:00:00\", \"2012-11-24T12:00:00\", \"2012-11-24T15:00:00\", \"2012-11-24T18:00:00\", \"2012-11-24T21:00:00\"], \"xaxis\": \"x\", \"y\": [1085.6091591596974, 1085.6091591596974, 1085.6091591596974, 1085.6091591596974, 1085.6091591596974, 1085.6091591596974, 1085.6091591596974, 1085.6091591596974, 1085.6091591596974, 1085.6091591596974, 1085.6091591596974, 1085.6091591596974, 1085.6091591596974, 1085.6091591596974, 1085.6091591596974, 1085.6091591596974, 1085.6091591596974, 1085.6091591596974, 1085.6091591596974, 1085.6091591596974, 1085.6091591596974, 1085.6091591596974, 1085.6091591596974, 425.211622477449, 1085.6091591596974, 1085.6091591596974, 1085.6091591596974, 1085.6091591596974, 1085.6091591596974, 1085.6091591596974, 1085.6091591596974, 1085.6091591596974, 1085.6091591596974, 1085.6091591596974, 1085.6091591596974, 1085.6091591596974, 1085.6091591596974, 1085.6091591596974, 1085.6091591596974, 1085.6091591596974, 1085.6091591596974, 1085.6091591596974, 1085.6091591596974, 1085.6091591596974, 1085.6091591596974, 1085.6091591596974, 1085.6091591596974, 1085.6091591596974, 425.211622477449, 425.211622477449, 1085.6091591596974, 1085.6091591596974, 1085.6091591596974, 1085.6091591596974, 0.0, 0.0, 0.0, 0.0, 1085.6091591596974, 1085.6091591596974, 1085.6091591596974, 1085.6091591596974, 1085.6091591596974, 1085.6091591596974, 0.0, 338.1019809104374, 425.211622477449, 1085.6091591596974, 1085.6091591596974, 1085.6091591596974, 1085.6091591596974, 1085.6091591596974, 0.0, 0.0, 0.0, 0.0, 0.0, 0.0, 0.0, 0.0, 0.0, 0.0, 0.0, 0.0, 0.0, 0.0, 0.0, 0.0, 0.0, 0.0, 0.0, 0.0, 0.0, 0.0, 0.0, 0.0, 0.0, 0.0, 0.0, 0.0, 0.0, 0.0, 0.0, 0.0, 0.0, 0.0, 0.0, 0.0, 0.0, 0.0, 0.0, 0.0, 0.0, 0.0, 0.0, 0.0, 0.0, 0.0, 0.0, 0.0, 0.0, 0.0, 0.0, 0.0, 0.0, 0.0, 0.0, 0.0, 0.0, 0.0, 0.0, 0.0, 0.0, 0.0, 0.0, 0.0, 0.0, 0.0, 0.0, 0.0, 0.0, 0.0, 0.0, 0.0, 0.0, 0.0, 0.0, 425.211622477449, 989.0654239805401, 1085.6091591596974, 0.0, 0.0, 0.0, 0.0, 0.0, 1085.6091591596974, 724.790675998908, 967.3806463467163, 668.5083520642816, 425.211622477449, 425.211622477449, 425.211622477449, 773.3574639890658, 1049.80878331652, 742.2285200584736, 0.0, 0.0, 0.0, 425.211622477449, 425.211622477449, 1085.6091591596974, 1085.6091591596974, 1085.6091591596974, 1085.6091591596974, 1085.6091591596974, 1085.6091591596974, 1085.6091591596974, 1085.6091591596974, 1085.6091591596974, 1085.6091591596974, 1085.6091591596974, 1085.6091591596974, 514.5878154917625, 425.211622477449, 425.211622477449, 425.211622477449, 1085.6091591596974, 1085.6091591596974, 1085.6091591596974, 425.211622477449, 1001.1102045506825, 425.211622477449], \"yaxis\": \"y\"}, {\"line\": {\"color\": \"red\"}, \"mode\": \"lines\", \"name\": \"DEMAND_HEATSTO\", \"showlegend\": true, \"type\": \"scatter\", \"x\": [\"2012-01-12T00:00:00\", \"2012-01-12T03:00:00\", \"2012-01-12T06:00:00\", \"2012-01-12T09:00:00\", \"2012-01-12T12:00:00\", \"2012-01-12T15:00:00\", \"2012-01-12T18:00:00\", \"2012-01-12T21:00:00\", \"2012-01-13T00:00:00\", \"2012-01-13T03:00:00\", \"2012-01-13T06:00:00\", \"2012-01-13T09:00:00\", \"2012-01-13T12:00:00\", \"2012-01-13T15:00:00\", \"2012-01-13T18:00:00\", \"2012-01-13T21:00:00\", \"2012-01-14T00:00:00\", \"2012-01-14T03:00:00\", \"2012-01-14T06:00:00\", \"2012-01-14T09:00:00\", \"2012-01-14T12:00:00\", \"2012-01-14T15:00:00\", \"2012-01-14T18:00:00\", \"2012-01-14T21:00:00\", \"2012-02-23T00:00:00\", \"2012-02-23T03:00:00\", \"2012-02-23T06:00:00\", \"2012-02-23T09:00:00\", \"2012-02-23T12:00:00\", \"2012-02-23T15:00:00\", \"2012-02-23T18:00:00\", \"2012-02-23T21:00:00\", \"2012-02-24T00:00:00\", \"2012-02-24T03:00:00\", \"2012-02-24T06:00:00\", \"2012-02-24T09:00:00\", \"2012-02-24T12:00:00\", \"2012-02-24T15:00:00\", \"2012-02-24T18:00:00\", \"2012-02-24T21:00:00\", \"2012-02-25T00:00:00\", \"2012-02-25T03:00:00\", \"2012-02-25T06:00:00\", \"2012-02-25T09:00:00\", \"2012-02-25T12:00:00\", \"2012-02-25T15:00:00\", \"2012-02-25T18:00:00\", \"2012-02-25T21:00:00\", \"2012-04-12T00:00:00\", \"2012-04-12T03:00:00\", \"2012-04-12T06:00:00\", \"2012-04-12T09:00:00\", \"2012-04-12T12:00:00\", \"2012-04-12T15:00:00\", \"2012-04-12T18:00:00\", \"2012-04-12T21:00:00\", \"2012-04-13T00:00:00\", \"2012-04-13T03:00:00\", \"2012-04-13T06:00:00\", \"2012-04-13T09:00:00\", \"2012-04-13T12:00:00\", \"2012-04-13T15:00:00\", \"2012-04-13T18:00:00\", \"2012-04-13T21:00:00\", \"2012-04-14T00:00:00\", \"2012-04-14T03:00:00\", \"2012-04-14T06:00:00\", \"2012-04-14T09:00:00\", \"2012-04-14T12:00:00\", \"2012-04-14T15:00:00\", \"2012-04-14T18:00:00\", \"2012-04-14T21:00:00\", \"2012-05-24T00:00:00\", \"2012-05-24T03:00:00\", \"2012-05-24T06:00:00\", \"2012-05-24T09:00:00\", \"2012-05-24T12:00:00\", \"2012-05-24T15:00:00\", \"2012-05-24T18:00:00\", \"2012-05-24T21:00:00\", \"2012-05-25T00:00:00\", \"2012-05-25T03:00:00\", \"2012-05-25T06:00:00\", \"2012-05-25T09:00:00\", \"2012-05-25T12:00:00\", \"2012-05-25T15:00:00\", \"2012-05-25T18:00:00\", \"2012-05-25T21:00:00\", \"2012-05-26T00:00:00\", \"2012-05-26T03:00:00\", \"2012-05-26T06:00:00\", \"2012-05-26T09:00:00\", \"2012-05-26T12:00:00\", \"2012-05-26T15:00:00\", \"2012-05-26T18:00:00\", \"2012-05-26T21:00:00\", \"2012-07-12T00:00:00\", \"2012-07-12T03:00:00\", \"2012-07-12T06:00:00\", \"2012-07-12T09:00:00\", \"2012-07-12T12:00:00\", \"2012-07-12T15:00:00\", \"2012-07-12T18:00:00\", \"2012-07-12T21:00:00\", \"2012-07-13T00:00:00\", \"2012-07-13T03:00:00\", \"2012-07-13T06:00:00\", \"2012-07-13T09:00:00\", \"2012-07-13T12:00:00\", \"2012-07-13T15:00:00\", \"2012-07-13T18:00:00\", \"2012-07-13T21:00:00\", \"2012-07-14T00:00:00\", \"2012-07-14T03:00:00\", \"2012-07-14T06:00:00\", \"2012-07-14T09:00:00\", \"2012-07-14T12:00:00\", \"2012-07-14T15:00:00\", \"2012-07-14T18:00:00\", \"2012-07-14T21:00:00\", \"2012-08-23T00:00:00\", \"2012-08-23T03:00:00\", \"2012-08-23T06:00:00\", \"2012-08-23T09:00:00\", \"2012-08-23T12:00:00\", \"2012-08-23T15:00:00\", \"2012-08-23T18:00:00\", \"2012-08-23T21:00:00\", \"2012-08-24T00:00:00\", \"2012-08-24T03:00:00\", \"2012-08-24T06:00:00\", \"2012-08-24T09:00:00\", \"2012-08-24T12:00:00\", \"2012-08-24T15:00:00\", \"2012-08-24T18:00:00\", \"2012-08-24T21:00:00\", \"2012-08-25T00:00:00\", \"2012-08-25T03:00:00\", \"2012-08-25T06:00:00\", \"2012-08-25T09:00:00\", \"2012-08-25T12:00:00\", \"2012-08-25T15:00:00\", \"2012-08-25T18:00:00\", \"2012-08-25T21:00:00\", \"2012-10-11T00:00:00\", \"2012-10-11T03:00:00\", \"2012-10-11T06:00:00\", \"2012-10-11T09:00:00\", \"2012-10-11T12:00:00\", \"2012-10-11T15:00:00\", \"2012-10-11T18:00:00\", \"2012-10-11T21:00:00\", \"2012-10-12T00:00:00\", \"2012-10-12T03:00:00\", \"2012-10-12T06:00:00\", \"2012-10-12T09:00:00\", \"2012-10-12T12:00:00\", \"2012-10-12T15:00:00\", \"2012-10-12T18:00:00\", \"2012-10-12T21:00:00\", \"2012-10-13T00:00:00\", \"2012-10-13T03:00:00\", \"2012-10-13T06:00:00\", \"2012-10-13T09:00:00\", \"2012-10-13T12:00:00\", \"2012-10-13T15:00:00\", \"2012-10-13T18:00:00\", \"2012-10-13T21:00:00\", \"2012-11-22T00:00:00\", \"2012-11-22T03:00:00\", \"2012-11-22T06:00:00\", \"2012-11-22T09:00:00\", \"2012-11-22T12:00:00\", \"2012-11-22T15:00:00\", \"2012-11-22T18:00:00\", \"2012-11-22T21:00:00\", \"2012-11-23T00:00:00\", \"2012-11-23T03:00:00\", \"2012-11-23T06:00:00\", \"2012-11-23T09:00:00\", \"2012-11-23T12:00:00\", \"2012-11-23T15:00:00\", \"2012-11-23T18:00:00\", \"2012-11-23T21:00:00\", \"2012-11-24T00:00:00\", \"2012-11-24T03:00:00\", \"2012-11-24T06:00:00\", \"2012-11-24T09:00:00\", \"2012-11-24T12:00:00\", \"2012-11-24T15:00:00\", \"2012-11-24T18:00:00\", \"2012-11-24T21:00:00\"], \"xaxis\": \"x\", \"y\": [633.7008405231402, 514.7229262678107, 0.0, 544.0541272971244, 1035.1056380716202, 1035.1056380716202, 0.0, 277.3322843460568, 1035.1056380716202, 1035.1056380716202, 0.0, 408.02840536601786, 1035.1056380716202, 0.0, 0.0, 0.0, 367.4253578410865, 118.95119659582411, 0.0, 0.0, 14.892865381826482, 0.0, 0.0, 0.0, 1151.3350328679678, 843.0603428891917, 0.0, 59.036563220293715, 733.2252393495752, 614.286561605421, 0.0, 0.0, 613.7289457211361, 381.91091621199155, 0.0, 431.61034152819127, 977.7034782673024, 857.4865757891599, 0.0, 0.0, 1020.01289253354, 792.2900646981268, 0.0, 169.3701499431528, 843.4149732756888, 0.0, 0.0, 0.0, 299.70527175726534, 14.826735069031542, 0.0, 1035.1056380716202, 1035.1056380716202, 453.4232970190907, 0.0, 0.0, 0.0, 0.0, 0.0, 1069.6012796382813, 1327.2525596481955, 527.2914960977803, 0.0, 341.71370347476795, 0.0, 0.0, 0.0, 1286.2670511615643, 1666.4645805486443, 0.0, 0.0, 422.78840428469334, 1008.9966759703, 931.7889429019176, 625.172257000866, 1432.0475154490769, 1540.0953688660197, 1870.5099860976402, 1173.728080853983, 1384.7819318212864, 1035.1056380716202, 1447.3068289488033, 1142.0846879095484, 1783.7984270936015, 1888.904491923665, 1639.3726215721204, 1729.3081447772959, 1454.2196513759682, 1648.6802404872565, 1507.9227592106542, 872.9243659821555, 1244.9915864971845, 1291.8824631702391, 957.024312898792, 870.6792801353627, 1403.5052049577323, 1454.6160903527398, 1473.566879023175, 734.4346695260306, 904.9113753279515, 1664.5509694712716, 1732.0738536560032, 1067.6035105369142, 1438.3940992669702, 1720.891295059811, 1904.2453309321104, 632.6175033597625, 1647.6199231803084, 1632.1477419619332, 1293.3099334942128, 1032.0729385874133, 1391.9419163693747, 620.8237423248204, 898.2575601101771, 458.49361638755795, 1904.2453309321104, 1904.2453309321104, 1045.5022794822394, 1448.7948429137743, 840.27278987896, 159.06054069702896, 191.1091978715781, 1220.5150812784718, 1258.4875961766252, 1449.753698870791, 1404.5425086224068, 855.7352112389102, 1058.6632971782108, 119.2597012086261, 973.5236702632436, 670.9748537142559, 151.7245619944619, 315.57588176394233, 950.2993222244731, 778.3725729139196, 970.6897689259358, 1154.079146694005, 1030.1517730882738, 507.72407303272234, 1144.9360931813228, 1282.905562619634, 1051.1353249311865, 787.1859054409929, 869.1396928604902, 0.0, 0.0, 0.0, 405.9368144016795, 1035.1056380716202, 721.1053368731505, 0.0, 0.0, 0.0, 0.0, 0.0, 1842.4405373152267, 1904.2453309321104, 1035.1056380716202, 0.0, 352.3119079480008, 493.0620180606834, 423.6567815628499, 0.0, 1904.2453309321104, 1904.2453309321104, 0.0, 0.0, 0.0, 227.60021805265097, 110.02660567901106, 0.0, 1035.1056380716202, 1582.3825944185037, 757.7804892701604, 0.0, 221.39092613089713, 797.1876101007084, 675.374549259956, 0.0, 1035.1056380716202, 1035.1056380716202, 472.10765520872235, 0.0, 0.0, 62.12916995476655, 0.0, 0.0, 0.0, 151.37079816389263, 0.0, 0.0, 0.0], \"yaxis\": \"y\"}, {\"line\": {\"color\": \"blue\"}, \"mode\": \"lines\", \"name\": \"DEMAND_EXO\", \"showlegend\": true, \"type\": \"scatter\", \"x\": [\"2012-01-12T00:00:00\", \"2012-01-12T03:00:00\", \"2012-01-12T06:00:00\", \"2012-01-12T09:00:00\", \"2012-01-12T12:00:00\", \"2012-01-12T15:00:00\", \"2012-01-12T18:00:00\", \"2012-01-12T21:00:00\", \"2012-01-13T00:00:00\", \"2012-01-13T03:00:00\", \"2012-01-13T06:00:00\", \"2012-01-13T09:00:00\", \"2012-01-13T12:00:00\", \"2012-01-13T15:00:00\", \"2012-01-13T18:00:00\", \"2012-01-13T21:00:00\", \"2012-01-14T00:00:00\", \"2012-01-14T03:00:00\", \"2012-01-14T06:00:00\", \"2012-01-14T09:00:00\", \"2012-01-14T12:00:00\", \"2012-01-14T15:00:00\", \"2012-01-14T18:00:00\", \"2012-01-14T21:00:00\", \"2012-02-23T00:00:00\", \"2012-02-23T03:00:00\", \"2012-02-23T06:00:00\", \"2012-02-23T09:00:00\", \"2012-02-23T12:00:00\", \"2012-02-23T15:00:00\", \"2012-02-23T18:00:00\", \"2012-02-23T21:00:00\", \"2012-02-24T00:00:00\", \"2012-02-24T03:00:00\", \"2012-02-24T06:00:00\", \"2012-02-24T09:00:00\", \"2012-02-24T12:00:00\", \"2012-02-24T15:00:00\", \"2012-02-24T18:00:00\", \"2012-02-24T21:00:00\", \"2012-02-25T00:00:00\", \"2012-02-25T03:00:00\", \"2012-02-25T06:00:00\", \"2012-02-25T09:00:00\", \"2012-02-25T12:00:00\", \"2012-02-25T15:00:00\", \"2012-02-25T18:00:00\", \"2012-02-25T21:00:00\", \"2012-04-12T00:00:00\", \"2012-04-12T03:00:00\", \"2012-04-12T06:00:00\", \"2012-04-12T09:00:00\", \"2012-04-12T12:00:00\", \"2012-04-12T15:00:00\", \"2012-04-12T18:00:00\", \"2012-04-12T21:00:00\", \"2012-04-13T00:00:00\", \"2012-04-13T03:00:00\", \"2012-04-13T06:00:00\", \"2012-04-13T09:00:00\", \"2012-04-13T12:00:00\", \"2012-04-13T15:00:00\", \"2012-04-13T18:00:00\", \"2012-04-13T21:00:00\", \"2012-04-14T00:00:00\", \"2012-04-14T03:00:00\", \"2012-04-14T06:00:00\", \"2012-04-14T09:00:00\", \"2012-04-14T12:00:00\", \"2012-04-14T15:00:00\", \"2012-04-14T18:00:00\", \"2012-04-14T21:00:00\", \"2012-05-24T00:00:00\", \"2012-05-24T03:00:00\", \"2012-05-24T06:00:00\", \"2012-05-24T09:00:00\", \"2012-05-24T12:00:00\", \"2012-05-24T15:00:00\", \"2012-05-24T18:00:00\", \"2012-05-24T21:00:00\", \"2012-05-25T00:00:00\", \"2012-05-25T03:00:00\", \"2012-05-25T06:00:00\", \"2012-05-25T09:00:00\", \"2012-05-25T12:00:00\", \"2012-05-25T15:00:00\", \"2012-05-25T18:00:00\", \"2012-05-25T21:00:00\", \"2012-05-26T00:00:00\", \"2012-05-26T03:00:00\", \"2012-05-26T06:00:00\", \"2012-05-26T09:00:00\", \"2012-05-26T12:00:00\", \"2012-05-26T15:00:00\", \"2012-05-26T18:00:00\", \"2012-05-26T21:00:00\", \"2012-07-12T00:00:00\", \"2012-07-12T03:00:00\", \"2012-07-12T06:00:00\", \"2012-07-12T09:00:00\", \"2012-07-12T12:00:00\", \"2012-07-12T15:00:00\", \"2012-07-12T18:00:00\", \"2012-07-12T21:00:00\", \"2012-07-13T00:00:00\", \"2012-07-13T03:00:00\", \"2012-07-13T06:00:00\", \"2012-07-13T09:00:00\", \"2012-07-13T12:00:00\", \"2012-07-13T15:00:00\", \"2012-07-13T18:00:00\", \"2012-07-13T21:00:00\", \"2012-07-14T00:00:00\", \"2012-07-14T03:00:00\", \"2012-07-14T06:00:00\", \"2012-07-14T09:00:00\", \"2012-07-14T12:00:00\", \"2012-07-14T15:00:00\", \"2012-07-14T18:00:00\", \"2012-07-14T21:00:00\", \"2012-08-23T00:00:00\", \"2012-08-23T03:00:00\", \"2012-08-23T06:00:00\", \"2012-08-23T09:00:00\", \"2012-08-23T12:00:00\", \"2012-08-23T15:00:00\", \"2012-08-23T18:00:00\", \"2012-08-23T21:00:00\", \"2012-08-24T00:00:00\", \"2012-08-24T03:00:00\", \"2012-08-24T06:00:00\", \"2012-08-24T09:00:00\", \"2012-08-24T12:00:00\", \"2012-08-24T15:00:00\", \"2012-08-24T18:00:00\", \"2012-08-24T21:00:00\", \"2012-08-25T00:00:00\", \"2012-08-25T03:00:00\", \"2012-08-25T06:00:00\", \"2012-08-25T09:00:00\", \"2012-08-25T12:00:00\", \"2012-08-25T15:00:00\", \"2012-08-25T18:00:00\", \"2012-08-25T21:00:00\", \"2012-10-11T00:00:00\", \"2012-10-11T03:00:00\", \"2012-10-11T06:00:00\", \"2012-10-11T09:00:00\", \"2012-10-11T12:00:00\", \"2012-10-11T15:00:00\", \"2012-10-11T18:00:00\", \"2012-10-11T21:00:00\", \"2012-10-12T00:00:00\", \"2012-10-12T03:00:00\", \"2012-10-12T06:00:00\", \"2012-10-12T09:00:00\", \"2012-10-12T12:00:00\", \"2012-10-12T15:00:00\", \"2012-10-12T18:00:00\", \"2012-10-12T21:00:00\", \"2012-10-13T00:00:00\", \"2012-10-13T03:00:00\", \"2012-10-13T06:00:00\", \"2012-10-13T09:00:00\", \"2012-10-13T12:00:00\", \"2012-10-13T15:00:00\", \"2012-10-13T18:00:00\", \"2012-10-13T21:00:00\", \"2012-11-22T00:00:00\", \"2012-11-22T03:00:00\", \"2012-11-22T06:00:00\", \"2012-11-22T09:00:00\", \"2012-11-22T12:00:00\", \"2012-11-22T15:00:00\", \"2012-11-22T18:00:00\", \"2012-11-22T21:00:00\", \"2012-11-23T00:00:00\", \"2012-11-23T03:00:00\", \"2012-11-23T06:00:00\", \"2012-11-23T09:00:00\", \"2012-11-23T12:00:00\", \"2012-11-23T15:00:00\", \"2012-11-23T18:00:00\", \"2012-11-23T21:00:00\", \"2012-11-24T00:00:00\", \"2012-11-24T03:00:00\", \"2012-11-24T06:00:00\", \"2012-11-24T09:00:00\", \"2012-11-24T12:00:00\", \"2012-11-24T15:00:00\", \"2012-11-24T18:00:00\", \"2012-11-24T21:00:00\"], \"xaxis\": \"x\", \"y\": [927.6756579800365, 956.1377151110639, 1116.2045763261208, 1151.1917171121759, 1042.942434390415, 1073.693038730624, 1151.1917171121759, 1007.5193415400252, 915.0753087737044, 948.6181098937284, 1110.006172773142, 1132.402050631234, 1032.2473641799518, 1059.4022749834783, 1132.402050631234, 997.1558731657325, 903.3130740983337, 922.0088017117495, 966.3073369645643, 1097.8836576955014, 1097.8836576955014, 1047.187666688603, 1123.2966650474525, 1004.6384906544985, 836.6205007221785, 878.7929000761437, 997.1558731657325, 1024.0249921198804, 969.7303971277504, 986.5121498929423, 1024.0249921198804, 956.1377151110639, 1016.8497426554883, 1066.9699026017315, 1209.098640155818, 1266.2452972514038, 1178.4697185930054, 1199.3054540602127, 1266.2452972514038, 1169.357175198797, 1080.4161748595166, 1087.005394862262, 1159.6355672075404, 1340.910370032435, 1340.910370032435, 1226.671715484592, 1415.0835060235536, 1187.6174003293568, 595.3419031599277, 582.2071908690934, 708.3591631324016, 854.9861408791529, 739.4720946537386, 664.3333049638981, 786.4019534179512, 739.4720946537386, 653.2264654403933, 640.6656794044618, 795.0682398670236, 943.5894227078946, 827.3720890717086, 758.5665300550434, 884.3383693443176, 827.3720890717086, 627.4302371995017, 617.450948032572, 777.85045221986, 909.2482595247643, 806.5378206598657, 719.5097303705647, 874.2126704184856, 806.5378206598657, 313.30332188838827, 303.81196250745194, 357.6544441640821, 392.9550083140168, 366.52023831128844, 348.71290736826995, 381.1063248960423, 366.52023831128844, 299.19402646483, 323.69440776667653, 420.12768350162366, 376.2086600905262, 323.69440776667653, 316.9423341795534, 388.7087739223663, 342.7606851698987, 284.17548564318673, 279.29395903552916, 330.6517995098162, 366.52023831128844, 336.0839269201912, 308.84686101639494, 353.06485611294937, 336.0839269201912, 154.40852333274523, 193.9280417432531, 274.0556431077106, 235.88915673047433, 179.70216680125398, 160.53537244355402, 252.13810219971379, 196.17534470630372, 167.38969171642486, 199.66074513510864, 292.62040053679556, 242.76169588445342, 186.31981691718516, 174.37792711544057, 259.0867093573197, 204.60926484407165, 189.68883856935767, 179.70216680125398, 229.846677002136, 266.1846544690072, 208.41721999566616, 182.77687821807194, 229.846677002136, 225.29443601903958, 142.15151240547127, 167.38969171642486, 269.8402749755481, 210.74119724459376, 150.191034944425, 147.17108965075562, 222.3772929007002, 174.37792711544057, 164.10726130948734, 199.66074513510864, 292.62040053679556, 242.76169588445342, 186.31981691718516, 174.37792711544057, 259.0867093573197, 204.60926484407165, 170.2626025695516, 154.40852333274523, 217.8264871679256, 248.1127348129732, 191.7196413677273, 160.53537244355402, 217.8264871679256, 213.39515179841774, 434.98144157501105, 484.6123977135013, 571.7125393508223, 546.3367999375006, 484.6123977135013, 462.1199544855404, 556.7740588302805, 516.2876610199528, 384.91320828992474, 413.7635618482033, 534.4541839048143, 497.11852410610993, 413.7635618482033, 407.23421900018764, 506.7885958622298, 424.7874180950229, 402.6854008908077, 397.41464957024635, 442.5026084964383, 525.2245127034793, 453.33146469103553, 429.39054091498, 469.4013998283888, 453.33146469103553, 607.0827945459936, 691.3351687661121, 981.4466916743204, 889.8093027352351, 691.3351687661121, 675.2652336287595, 934.1134281788494, 739.4720946537386, 767.3120729869338, 865.8087502573701, 1141.2523578794946, 990.3097528393604, 865.8087502573701, 849.1063249615539, 1037.1394022574834, 896.3634908756744, 842.6174444469067, 817.1480027878862, 962.0933196097446, 1053.8597871503912, 975.5106544092982, 938.9199274639003, 1012.6354841551823, 975.5106544092982], \"yaxis\": \"y\"}, {\"line\": {\"color\": \"Black\"}, \"name\": \"Price\", \"type\": \"scatter\", \"x\": [\"2012-01-12T00:00:00\", \"2012-01-12T03:00:00\", \"2012-01-12T06:00:00\", \"2012-01-12T09:00:00\", \"2012-01-12T12:00:00\", \"2012-01-12T15:00:00\", \"2012-01-12T18:00:00\", \"2012-01-12T21:00:00\", \"2012-01-13T00:00:00\", \"2012-01-13T03:00:00\", \"2012-01-13T06:00:00\", \"2012-01-13T09:00:00\", \"2012-01-13T12:00:00\", \"2012-01-13T15:00:00\", \"2012-01-13T18:00:00\", \"2012-01-13T21:00:00\", \"2012-01-14T00:00:00\", \"2012-01-14T03:00:00\", \"2012-01-14T06:00:00\", \"2012-01-14T09:00:00\", \"2012-01-14T12:00:00\", \"2012-01-14T15:00:00\", \"2012-01-14T18:00:00\", \"2012-01-14T21:00:00\", \"2012-02-23T00:00:00\", \"2012-02-23T03:00:00\", \"2012-02-23T06:00:00\", \"2012-02-23T09:00:00\", \"2012-02-23T12:00:00\", \"2012-02-23T15:00:00\", \"2012-02-23T18:00:00\", \"2012-02-23T21:00:00\", \"2012-02-24T00:00:00\", \"2012-02-24T03:00:00\", \"2012-02-24T06:00:00\", \"2012-02-24T09:00:00\", \"2012-02-24T12:00:00\", \"2012-02-24T15:00:00\", \"2012-02-24T18:00:00\", \"2012-02-24T21:00:00\", \"2012-02-25T00:00:00\", \"2012-02-25T03:00:00\", \"2012-02-25T06:00:00\", \"2012-02-25T09:00:00\", \"2012-02-25T12:00:00\", \"2012-02-25T15:00:00\", \"2012-02-25T18:00:00\", \"2012-02-25T21:00:00\", \"2012-04-12T00:00:00\", \"2012-04-12T03:00:00\", \"2012-04-12T06:00:00\", \"2012-04-12T09:00:00\", \"2012-04-12T12:00:00\", \"2012-04-12T15:00:00\", \"2012-04-12T18:00:00\", \"2012-04-12T21:00:00\", \"2012-04-13T00:00:00\", \"2012-04-13T03:00:00\", \"2012-04-13T06:00:00\", \"2012-04-13T09:00:00\", \"2012-04-13T12:00:00\", \"2012-04-13T15:00:00\", \"2012-04-13T18:00:00\", \"2012-04-13T21:00:00\", \"2012-04-14T00:00:00\", \"2012-04-14T03:00:00\", \"2012-04-14T06:00:00\", \"2012-04-14T09:00:00\", \"2012-04-14T12:00:00\", \"2012-04-14T15:00:00\", \"2012-04-14T18:00:00\", \"2012-04-14T21:00:00\", \"2012-05-24T00:00:00\", \"2012-05-24T03:00:00\", \"2012-05-24T06:00:00\", \"2012-05-24T09:00:00\", \"2012-05-24T12:00:00\", \"2012-05-24T15:00:00\", \"2012-05-24T18:00:00\", \"2012-05-24T21:00:00\", \"2012-05-25T00:00:00\", \"2012-05-25T03:00:00\", \"2012-05-25T06:00:00\", \"2012-05-25T09:00:00\", \"2012-05-25T12:00:00\", \"2012-05-25T15:00:00\", \"2012-05-25T18:00:00\", \"2012-05-25T21:00:00\", \"2012-05-26T00:00:00\", \"2012-05-26T03:00:00\", \"2012-05-26T06:00:00\", \"2012-05-26T09:00:00\", \"2012-05-26T12:00:00\", \"2012-05-26T15:00:00\", \"2012-05-26T18:00:00\", \"2012-05-26T21:00:00\", \"2012-07-12T00:00:00\", \"2012-07-12T03:00:00\", \"2012-07-12T06:00:00\", \"2012-07-12T09:00:00\", \"2012-07-12T12:00:00\", \"2012-07-12T15:00:00\", \"2012-07-12T18:00:00\", \"2012-07-12T21:00:00\", \"2012-07-13T00:00:00\", \"2012-07-13T03:00:00\", \"2012-07-13T06:00:00\", \"2012-07-13T09:00:00\", \"2012-07-13T12:00:00\", \"2012-07-13T15:00:00\", \"2012-07-13T18:00:00\", \"2012-07-13T21:00:00\", \"2012-07-14T00:00:00\", \"2012-07-14T03:00:00\", \"2012-07-14T06:00:00\", \"2012-07-14T09:00:00\", \"2012-07-14T12:00:00\", \"2012-07-14T15:00:00\", \"2012-07-14T18:00:00\", \"2012-07-14T21:00:00\", \"2012-08-23T00:00:00\", \"2012-08-23T03:00:00\", \"2012-08-23T06:00:00\", \"2012-08-23T09:00:00\", \"2012-08-23T12:00:00\", \"2012-08-23T15:00:00\", \"2012-08-23T18:00:00\", \"2012-08-23T21:00:00\", \"2012-08-24T00:00:00\", \"2012-08-24T03:00:00\", \"2012-08-24T06:00:00\", \"2012-08-24T09:00:00\", \"2012-08-24T12:00:00\", \"2012-08-24T15:00:00\", \"2012-08-24T18:00:00\", \"2012-08-24T21:00:00\", \"2012-08-25T00:00:00\", \"2012-08-25T03:00:00\", \"2012-08-25T06:00:00\", \"2012-08-25T09:00:00\", \"2012-08-25T12:00:00\", \"2012-08-25T15:00:00\", \"2012-08-25T18:00:00\", \"2012-08-25T21:00:00\", \"2012-10-11T00:00:00\", \"2012-10-11T03:00:00\", \"2012-10-11T06:00:00\", \"2012-10-11T09:00:00\", \"2012-10-11T12:00:00\", \"2012-10-11T15:00:00\", \"2012-10-11T18:00:00\", \"2012-10-11T21:00:00\", \"2012-10-12T00:00:00\", \"2012-10-12T03:00:00\", \"2012-10-12T06:00:00\", \"2012-10-12T09:00:00\", \"2012-10-12T12:00:00\", \"2012-10-12T15:00:00\", \"2012-10-12T18:00:00\", \"2012-10-12T21:00:00\", \"2012-10-13T00:00:00\", \"2012-10-13T03:00:00\", \"2012-10-13T06:00:00\", \"2012-10-13T09:00:00\", \"2012-10-13T12:00:00\", \"2012-10-13T15:00:00\", \"2012-10-13T18:00:00\", \"2012-10-13T21:00:00\", \"2012-11-22T00:00:00\", \"2012-11-22T03:00:00\", \"2012-11-22T06:00:00\", \"2012-11-22T09:00:00\", \"2012-11-22T12:00:00\", \"2012-11-22T15:00:00\", \"2012-11-22T18:00:00\", \"2012-11-22T21:00:00\", \"2012-11-23T00:00:00\", \"2012-11-23T03:00:00\", \"2012-11-23T06:00:00\", \"2012-11-23T09:00:00\", \"2012-11-23T12:00:00\", \"2012-11-23T15:00:00\", \"2012-11-23T18:00:00\", \"2012-11-23T21:00:00\", \"2012-11-24T00:00:00\", \"2012-11-24T03:00:00\", \"2012-11-24T06:00:00\", \"2012-11-24T09:00:00\", \"2012-11-24T12:00:00\", \"2012-11-24T15:00:00\", \"2012-11-24T18:00:00\", \"2012-11-24T21:00:00\"], \"xaxis\": \"x\", \"y\": [32.85999628470049, 32.85999628470049, 33.53060845377601, 32.85999628470049, 30.333055824603054, 32.8599962847005, 33.53060845377601, 32.85999628470049, 32.25027897115564, 32.8599962847005, 33.801097976779275, 32.85999628470049, 31.436355240006066, 33.4153757173318, 33.53060845377601, 33.53060845377601, 32.85999628470049, 32.85999628470049, 39.51695946242526, 34.0607857492241, 32.85999628470049, 39.51695946242526, 42.20950369804227, 39.51695946242525, 21.186264068728192, 21.186264068728192, 27.45309070161681, 21.186264068728192, 21.186264068728192, 21.186264068728192, 30.266091526754558, 21.61863680482469, 21.186264068728192, 21.186264068728192, 21.61863680482469, 21.186264068728192, 21.186264068728192, 21.186264068728192, 21.61863680482469, 21.61863680482469, 21.186264068728192, 21.186264068728192, 22.74177644818129, 21.186264068728192, 21.186264068728192, 21.61863680482469, 22.74072524873349, 21.61863680482469, 28.65832748231124, 28.65832748231124, 29.243191308480867, 28.559631540640822, 26.11649885073773, 28.65832748231124, 82.73947874768177, 30.266091526754565, 29.243191308480867, 30.266091526754565, 29.243191308480867, 21.1862640687282, 21.1862640687282, 28.65832748231124, 29.243191308480867, 28.65832748231124, 29.243191308480867, 29.243191308480867, 30.266091526754565, 21.1862640687282, 21.1862640687282, 29.243191308480867, 29.243191308480867, 28.65832748231124, 2.220446049250313e-16, 2.220446049250313e-16, 2.220446049250313e-16, 2.220446049250313e-16, 2.220446049250313e-16, 2.220446049250313e-16, 2.220446049250313e-16, 2.220446049250313e-16, 2.220446049250313e-16, 2.220446049250313e-16, 2.220446049250313e-16, 2.220446049250313e-16, 2.220446049250313e-16, 2.220446049250313e-16, 2.220446049250313e-16, 2.220446049250313e-16, 2.220446049250313e-16, 2.220446049250313e-16, 2.220446049250313e-16, 2.220446049250313e-16, 2.220446049250313e-16, 2.220446049250313e-16, 2.220446049250313e-16, 2.220446049250313e-16, 2.220446049250313e-16, 2.220446049250313e-16, 2.220446049250313e-16, 2.220446049250313e-16, 2.220446049250313e-16, 2.220446049250313e-16, 2.220446049250313e-16, 2.220446049250313e-16, 2.220446049250313e-16, 2.220446049250313e-16, 2.220446049250313e-16, 2.220446049250313e-16, 2.220446049250313e-16, 2.220446049250313e-16, 2.220446049250313e-16, 2.220446049250313e-16, 2.220446049250313e-16, 2.220446049250313e-16, 2.220446049250313e-16, 2.220446049250313e-16, 2.220446049250313e-16, 2.220446049250313e-16, 2.220446049250313e-16, 2.220446049250313e-16, 2.220446049250313e-16, 2.220446049250313e-16, 2.220446049250313e-16, 2.220446049250313e-16, 2.220446049250313e-16, 2.220446049250313e-16, 2.220446049250313e-16, 2.220446049250313e-16, 2.220446049250313e-16, 2.220446049250313e-16, 2.220446049250313e-16, 2.220446049250313e-16, 2.220446049250313e-16, 2.220446049250313e-16, 2.220446049250313e-16, 2.220446049250313e-16, 2.220446049250313e-16, 2.220446049250313e-16, 2.220446049250313e-16, 2.220446049250313e-16, 2.220446049250313e-16, 2.220446049250313e-16, 2.220446049250313e-16, 2.220446049250313e-16, 14.330247057450862, 14.330247057450862, 14.330247057450862, 14.043642116301843, 13.215576442282892, 14.043642116301843, 14.330247057450862, 14.330247057450862, 14.330247057450862, 14.330247057450862, 14.330247057450862, 10.031172940215605, 3.05769429373369, 12.743263662770747, 14.330247057450862, 14.043642116301843, 14.043642116301843, 14.043642116301843, 14.21604793821792, 7.107017335753115, 6.899776925250755, 14.330247057450862, 15.741724910176293, 14.330247057450862, 26.612107763797418, 26.612107763797418, 27.15521200387492, 22.426745145658398, 19.496246253382626, 26.61210776379742, 27.15521200387492, 26.61210776379742, 26.61210776379742, 26.61210776379742, 27.15521200387492, 24.1560559543639, 20.77644356572143, 26.61210776379742, 27.38803661537857, 27.15521200387492, 26.61210776379742, 27.15521200387492, 30.053608625938615, 27.15521200387492, 26.61210776379742, 27.15521200387492, 28.393215602840154, 27.38803661537857], \"yaxis\": \"y2\"}],\n",
       "                        {\"annotations\": [{\"font\": {\"size\": 16}, \"showarrow\": false, \"text\": \"DayAhead TEST2 2045\", \"x\": 0.47, \"xanchor\": \"center\", \"xref\": \"paper\", \"y\": 1.0, \"yanchor\": \"bottom\", \"yref\": \"paper\"}], \"height\": 500, \"legend\": {\"orientation\": \"h\"}, \"template\": {\"data\": {\"bar\": [{\"error_x\": {\"color\": \"#2a3f5f\"}, \"error_y\": {\"color\": \"#2a3f5f\"}, \"marker\": {\"line\": {\"color\": \"#E5ECF6\", \"width\": 0.5}}, \"type\": \"bar\"}], \"barpolar\": [{\"marker\": {\"line\": {\"color\": \"#E5ECF6\", \"width\": 0.5}}, \"type\": \"barpolar\"}], \"carpet\": [{\"aaxis\": {\"endlinecolor\": \"#2a3f5f\", \"gridcolor\": \"white\", \"linecolor\": \"white\", \"minorgridcolor\": \"white\", \"startlinecolor\": \"#2a3f5f\"}, \"baxis\": {\"endlinecolor\": \"#2a3f5f\", \"gridcolor\": \"white\", \"linecolor\": \"white\", \"minorgridcolor\": \"white\", \"startlinecolor\": \"#2a3f5f\"}, \"type\": \"carpet\"}], \"choropleth\": [{\"colorbar\": {\"outlinewidth\": 0, \"ticks\": \"\"}, \"type\": \"choropleth\"}], \"contour\": [{\"colorbar\": {\"outlinewidth\": 0, \"ticks\": \"\"}, \"colorscale\": [[0.0, \"#0d0887\"], [0.1111111111111111, \"#46039f\"], [0.2222222222222222, \"#7201a8\"], [0.3333333333333333, \"#9c179e\"], [0.4444444444444444, \"#bd3786\"], [0.5555555555555556, \"#d8576b\"], [0.6666666666666666, \"#ed7953\"], [0.7777777777777778, \"#fb9f3a\"], [0.8888888888888888, \"#fdca26\"], [1.0, \"#f0f921\"]], \"type\": \"contour\"}], \"contourcarpet\": [{\"colorbar\": {\"outlinewidth\": 0, \"ticks\": \"\"}, \"type\": \"contourcarpet\"}], \"heatmap\": [{\"colorbar\": {\"outlinewidth\": 0, \"ticks\": \"\"}, \"colorscale\": [[0.0, \"#0d0887\"], [0.1111111111111111, \"#46039f\"], [0.2222222222222222, \"#7201a8\"], [0.3333333333333333, \"#9c179e\"], [0.4444444444444444, \"#bd3786\"], [0.5555555555555556, \"#d8576b\"], [0.6666666666666666, \"#ed7953\"], [0.7777777777777778, \"#fb9f3a\"], [0.8888888888888888, \"#fdca26\"], [1.0, \"#f0f921\"]], \"type\": \"heatmap\"}], \"heatmapgl\": [{\"colorbar\": {\"outlinewidth\": 0, \"ticks\": \"\"}, \"colorscale\": [[0.0, \"#0d0887\"], [0.1111111111111111, \"#46039f\"], [0.2222222222222222, \"#7201a8\"], [0.3333333333333333, \"#9c179e\"], [0.4444444444444444, \"#bd3786\"], [0.5555555555555556, \"#d8576b\"], [0.6666666666666666, \"#ed7953\"], [0.7777777777777778, \"#fb9f3a\"], [0.8888888888888888, \"#fdca26\"], [1.0, \"#f0f921\"]], \"type\": \"heatmapgl\"}], \"histogram\": [{\"marker\": {\"colorbar\": {\"outlinewidth\": 0, \"ticks\": \"\"}}, \"type\": \"histogram\"}], \"histogram2d\": [{\"colorbar\": {\"outlinewidth\": 0, \"ticks\": \"\"}, \"colorscale\": [[0.0, \"#0d0887\"], [0.1111111111111111, \"#46039f\"], [0.2222222222222222, \"#7201a8\"], [0.3333333333333333, \"#9c179e\"], [0.4444444444444444, \"#bd3786\"], [0.5555555555555556, \"#d8576b\"], [0.6666666666666666, \"#ed7953\"], [0.7777777777777778, \"#fb9f3a\"], [0.8888888888888888, \"#fdca26\"], [1.0, \"#f0f921\"]], \"type\": \"histogram2d\"}], \"histogram2dcontour\": [{\"colorbar\": {\"outlinewidth\": 0, \"ticks\": \"\"}, \"colorscale\": [[0.0, \"#0d0887\"], [0.1111111111111111, \"#46039f\"], [0.2222222222222222, \"#7201a8\"], [0.3333333333333333, \"#9c179e\"], [0.4444444444444444, \"#bd3786\"], [0.5555555555555556, \"#d8576b\"], [0.6666666666666666, \"#ed7953\"], [0.7777777777777778, \"#fb9f3a\"], [0.8888888888888888, \"#fdca26\"], [1.0, \"#f0f921\"]], \"type\": \"histogram2dcontour\"}], \"mesh3d\": [{\"colorbar\": {\"outlinewidth\": 0, \"ticks\": \"\"}, \"type\": \"mesh3d\"}], \"parcoords\": [{\"line\": {\"colorbar\": {\"outlinewidth\": 0, \"ticks\": \"\"}}, \"type\": \"parcoords\"}], \"pie\": [{\"automargin\": true, \"type\": \"pie\"}], \"scatter\": [{\"marker\": {\"colorbar\": {\"outlinewidth\": 0, \"ticks\": \"\"}}, \"type\": \"scatter\"}], \"scatter3d\": [{\"line\": {\"colorbar\": {\"outlinewidth\": 0, \"ticks\": \"\"}}, \"marker\": {\"colorbar\": {\"outlinewidth\": 0, \"ticks\": \"\"}}, \"type\": \"scatter3d\"}], \"scattercarpet\": [{\"marker\": {\"colorbar\": {\"outlinewidth\": 0, \"ticks\": \"\"}}, \"type\": \"scattercarpet\"}], \"scattergeo\": [{\"marker\": {\"colorbar\": {\"outlinewidth\": 0, \"ticks\": \"\"}}, \"type\": \"scattergeo\"}], \"scattergl\": [{\"marker\": {\"colorbar\": {\"outlinewidth\": 0, \"ticks\": \"\"}}, \"type\": \"scattergl\"}], \"scattermapbox\": [{\"marker\": {\"colorbar\": {\"outlinewidth\": 0, \"ticks\": \"\"}}, \"type\": \"scattermapbox\"}], \"scatterpolar\": [{\"marker\": {\"colorbar\": {\"outlinewidth\": 0, \"ticks\": \"\"}}, \"type\": \"scatterpolar\"}], \"scatterpolargl\": [{\"marker\": {\"colorbar\": {\"outlinewidth\": 0, \"ticks\": \"\"}}, \"type\": \"scatterpolargl\"}], \"scatterternary\": [{\"marker\": {\"colorbar\": {\"outlinewidth\": 0, \"ticks\": \"\"}}, \"type\": \"scatterternary\"}], \"surface\": [{\"colorbar\": {\"outlinewidth\": 0, \"ticks\": \"\"}, \"colorscale\": [[0.0, \"#0d0887\"], [0.1111111111111111, \"#46039f\"], [0.2222222222222222, \"#7201a8\"], [0.3333333333333333, \"#9c179e\"], [0.4444444444444444, \"#bd3786\"], [0.5555555555555556, \"#d8576b\"], [0.6666666666666666, \"#ed7953\"], [0.7777777777777778, \"#fb9f3a\"], [0.8888888888888888, \"#fdca26\"], [1.0, \"#f0f921\"]], \"type\": \"surface\"}], \"table\": [{\"cells\": {\"fill\": {\"color\": \"#EBF0F8\"}, \"line\": {\"color\": \"white\"}}, \"header\": {\"fill\": {\"color\": \"#C8D4E3\"}, \"line\": {\"color\": \"white\"}}, \"type\": \"table\"}]}, \"layout\": {\"annotationdefaults\": {\"arrowcolor\": \"#2a3f5f\", \"arrowhead\": 0, \"arrowwidth\": 1}, \"coloraxis\": {\"colorbar\": {\"outlinewidth\": 0, \"ticks\": \"\"}}, \"colorscale\": {\"diverging\": [[0, \"#8e0152\"], [0.1, \"#c51b7d\"], [0.2, \"#de77ae\"], [0.3, \"#f1b6da\"], [0.4, \"#fde0ef\"], [0.5, \"#f7f7f7\"], [0.6, \"#e6f5d0\"], [0.7, \"#b8e186\"], [0.8, \"#7fbc41\"], [0.9, \"#4d9221\"], [1, \"#276419\"]], \"sequential\": [[0.0, \"#0d0887\"], [0.1111111111111111, \"#46039f\"], [0.2222222222222222, \"#7201a8\"], [0.3333333333333333, \"#9c179e\"], [0.4444444444444444, \"#bd3786\"], [0.5555555555555556, \"#d8576b\"], [0.6666666666666666, \"#ed7953\"], [0.7777777777777778, \"#fb9f3a\"], [0.8888888888888888, \"#fdca26\"], [1.0, \"#f0f921\"]], \"sequentialminus\": [[0.0, \"#0d0887\"], [0.1111111111111111, \"#46039f\"], [0.2222222222222222, \"#7201a8\"], [0.3333333333333333, \"#9c179e\"], [0.4444444444444444, \"#bd3786\"], [0.5555555555555556, \"#d8576b\"], [0.6666666666666666, \"#ed7953\"], [0.7777777777777778, \"#fb9f3a\"], [0.8888888888888888, \"#fdca26\"], [1.0, \"#f0f921\"]]}, \"colorway\": [\"#636efa\", \"#EF553B\", \"#00cc96\", \"#ab63fa\", \"#FFA15A\", \"#19d3f3\", \"#FF6692\", \"#B6E880\", \"#FF97FF\", \"#FECB52\"], \"font\": {\"color\": \"#2a3f5f\"}, \"geo\": {\"bgcolor\": \"white\", \"lakecolor\": \"white\", \"landcolor\": \"#E5ECF6\", \"showlakes\": true, \"showland\": true, \"subunitcolor\": \"white\"}, \"hoverlabel\": {\"align\": \"left\"}, \"hovermode\": \"closest\", \"mapbox\": {\"style\": \"light\"}, \"paper_bgcolor\": \"white\", \"plot_bgcolor\": \"#E5ECF6\", \"polar\": {\"angularaxis\": {\"gridcolor\": \"white\", \"linecolor\": \"white\", \"ticks\": \"\"}, \"bgcolor\": \"#E5ECF6\", \"radialaxis\": {\"gridcolor\": \"white\", \"linecolor\": \"white\", \"ticks\": \"\"}}, \"scene\": {\"xaxis\": {\"backgroundcolor\": \"#E5ECF6\", \"gridcolor\": \"white\", \"gridwidth\": 2, \"linecolor\": \"white\", \"showbackground\": true, \"ticks\": \"\", \"zerolinecolor\": \"white\"}, \"yaxis\": {\"backgroundcolor\": \"#E5ECF6\", \"gridcolor\": \"white\", \"gridwidth\": 2, \"linecolor\": \"white\", \"showbackground\": true, \"ticks\": \"\", \"zerolinecolor\": \"white\"}, \"zaxis\": {\"backgroundcolor\": \"#E5ECF6\", \"gridcolor\": \"white\", \"gridwidth\": 2, \"linecolor\": \"white\", \"showbackground\": true, \"ticks\": \"\", \"zerolinecolor\": \"white\"}}, \"shapedefaults\": {\"line\": {\"color\": \"#2a3f5f\"}}, \"ternary\": {\"aaxis\": {\"gridcolor\": \"white\", \"linecolor\": \"white\", \"ticks\": \"\"}, \"baxis\": {\"gridcolor\": \"white\", \"linecolor\": \"white\", \"ticks\": \"\"}, \"bgcolor\": \"#E5ECF6\", \"caxis\": {\"gridcolor\": \"white\", \"linecolor\": \"white\", \"ticks\": \"\"}}, \"title\": {\"x\": 0.05}, \"xaxis\": {\"automargin\": true, \"gridcolor\": \"white\", \"linecolor\": \"white\", \"ticks\": \"\", \"title\": {\"standoff\": 15}, \"zerolinecolor\": \"white\", \"zerolinewidth\": 2}, \"yaxis\": {\"automargin\": true, \"gridcolor\": \"white\", \"linecolor\": \"white\", \"ticks\": \"\", \"title\": {\"standoff\": 15}, \"zerolinecolor\": \"white\", \"zerolinewidth\": 2}}}, \"title\": {\"text\": \"Heat balance\"}, \"width\": 1000, \"xaxis\": {\"anchor\": \"y\", \"domain\": [0.0, 0.94]}, \"yaxis\": {\"anchor\": \"x\", \"constraintoward\": \"middle\", \"domain\": [0.0, 1.0], \"title\": {\"text\": \"Heat (MWh/h)\"}}, \"yaxis2\": {\"anchor\": \"x\", \"constraintoward\": \"middle\", \"overlaying\": \"y\", \"side\": \"right\", \"title\": {\"text\": \"Price (\\u20ac/MWh)\"}}},\n",
       "                        {\"responsive\": true}\n",
       "                    ).then(function(){\n",
       "                            \n",
       "var gd = document.getElementById('272f6c75-f839-4949-9203-3fcdab3858e7');\n",
       "var x = new MutationObserver(function (mutations, observer) {{\n",
       "        var display = window.getComputedStyle(gd).display;\n",
       "        if (!display || display === 'none') {{\n",
       "            console.log([gd, 'removed!']);\n",
       "            Plotly.purge(gd);\n",
       "            observer.disconnect();\n",
       "        }}\n",
       "}});\n",
       "\n",
       "// Listen for the removal of the full notebook cells\n",
       "var notebookContainer = gd.closest('#notebook-container');\n",
       "if (notebookContainer) {{\n",
       "    x.observe(notebookContainer, {childList: true});\n",
       "}}\n",
       "\n",
       "// Listen for the clearing of the current output cell\n",
       "var outputEl = gd.closest('.output');\n",
       "if (outputEl) {{\n",
       "    x.observe(outputEl, {childList: true});\n",
       "}}\n",
       "\n",
       "                        })\n",
       "                };\n",
       "                });\n",
       "            </script>\n",
       "        </div>"
      ]
     },
     "metadata": {},
     "output_type": "display_data"
    }
   ],
   "source": [
    "figA = make_subplots(rows=1*len(y)*1, cols=1,subplot_titles=title_subplots,specs=plot_spec,vertical_spacing = 0.05)\n",
    "    \n",
    "for year in y:\n",
    "    #Production\n",
    "    for i in prod_list:\n",
    "        figA.add_trace(go.Scatter(x=table.loc[(table['YYY'] == int(year))].timestamp, \n",
    "                                 y=table.loc[(table['YYY'] == int(year))][i],\n",
    "                                 name=i,\n",
    "                                 mode = 'lines',\n",
    "                                 stackgroup = stackgroup,\n",
    "                                 line =  dict(color = prodcolors[prod_list.index(i)]), \n",
    "                                 showlegend= legend_condition), \n",
    "                        row= name_subplots.index(market+scenario+str(year))+1, col=1)\n",
    "    #Demand    \n",
    "    for i in dem_list:\n",
    "        figA.add_trace(go.Scatter(x=table.loc[(table['YYY'] == int(year))].timestamp, \n",
    "                                 y=table.loc[(table['YYY'] == int(year))][i],\n",
    "                                 name=i,\n",
    "#                                 stackgroup = stackgroup, \n",
    "                                 mode = 'lines',\n",
    "                                 line =  dict(color = demcolors[dem_list.index(i)]), \n",
    "                                 showlegend= legend_condition), \n",
    "                        row = name_subplots.index(market+scenario+str(year))+1, col=1)\n",
    "\n",
    "    figA.add_trace(\n",
    "    go.Scatter(x=table.loc[(table['YYY'] == int(year))].timestamp, \n",
    "               y=table.loc[(table['YYY'] == int(year))]['PRICE'], \n",
    "               name=\"Price\", line = dict(color = price_dict['Price'])),\n",
    "    secondary_y=True,row=name_subplots.index(market+scenario+str(year))+1, col=1)  \n",
    "\n",
    "#Layout updates\n",
    "figA.update_layout(title=\"Heat balance\") \n",
    "figA.update_yaxes(title_text=\"Heat (MWh/h)\", secondary_y=False, constraintoward='middle')\n",
    "figA.update_yaxes(title_text=\"Price (€/MWh)\", secondary_y=True, constraintoward='middle')\n",
    "figA.update_layout(legend_orientation=\"h\",width=1000,height=500)\n",
    "figA.show()\n",
    "\n"
   ]
  },
  {
   "cell_type": "markdown",
   "metadata": {},
   "source": [
    "### 12.2 Plot B: Heat production"
   ]
  },
  {
   "cell_type": "code",
   "execution_count": 22,
   "metadata": {},
   "outputs": [
    {
     "data": {
      "application/vnd.plotly.v1+json": {
       "config": {
        "plotlyServerURL": "https://plot.ly"
       },
       "data": [
        {
         "line": {
          "color": "lightgreen"
         },
         "mode": "lines",
         "name": "HEATSTO",
         "showlegend": true,
         "stackgroup": "one",
         "type": "scatter",
         "x": [
          "2012-01-12T00:00:00",
          "2012-01-12T03:00:00",
          "2012-01-12T06:00:00",
          "2012-01-12T09:00:00",
          "2012-01-12T12:00:00",
          "2012-01-12T15:00:00",
          "2012-01-12T18:00:00",
          "2012-01-12T21:00:00",
          "2012-01-13T00:00:00",
          "2012-01-13T03:00:00",
          "2012-01-13T06:00:00",
          "2012-01-13T09:00:00",
          "2012-01-13T12:00:00",
          "2012-01-13T15:00:00",
          "2012-01-13T18:00:00",
          "2012-01-13T21:00:00",
          "2012-01-14T00:00:00",
          "2012-01-14T03:00:00",
          "2012-01-14T06:00:00",
          "2012-01-14T09:00:00",
          "2012-01-14T12:00:00",
          "2012-01-14T15:00:00",
          "2012-01-14T18:00:00",
          "2012-01-14T21:00:00",
          "2012-02-23T00:00:00",
          "2012-02-23T03:00:00",
          "2012-02-23T06:00:00",
          "2012-02-23T09:00:00",
          "2012-02-23T12:00:00",
          "2012-02-23T15:00:00",
          "2012-02-23T18:00:00",
          "2012-02-23T21:00:00",
          "2012-02-24T00:00:00",
          "2012-02-24T03:00:00",
          "2012-02-24T06:00:00",
          "2012-02-24T09:00:00",
          "2012-02-24T12:00:00",
          "2012-02-24T15:00:00",
          "2012-02-24T18:00:00",
          "2012-02-24T21:00:00",
          "2012-02-25T00:00:00",
          "2012-02-25T03:00:00",
          "2012-02-25T06:00:00",
          "2012-02-25T09:00:00",
          "2012-02-25T12:00:00",
          "2012-02-25T15:00:00",
          "2012-02-25T18:00:00",
          "2012-02-25T21:00:00",
          "2012-04-12T00:00:00",
          "2012-04-12T03:00:00",
          "2012-04-12T06:00:00",
          "2012-04-12T09:00:00",
          "2012-04-12T12:00:00",
          "2012-04-12T15:00:00",
          "2012-04-12T18:00:00",
          "2012-04-12T21:00:00",
          "2012-04-13T00:00:00",
          "2012-04-13T03:00:00",
          "2012-04-13T06:00:00",
          "2012-04-13T09:00:00",
          "2012-04-13T12:00:00",
          "2012-04-13T15:00:00",
          "2012-04-13T18:00:00",
          "2012-04-13T21:00:00",
          "2012-04-14T00:00:00",
          "2012-04-14T03:00:00",
          "2012-04-14T06:00:00",
          "2012-04-14T09:00:00",
          "2012-04-14T12:00:00",
          "2012-04-14T15:00:00",
          "2012-04-14T18:00:00",
          "2012-04-14T21:00:00",
          "2012-05-24T00:00:00",
          "2012-05-24T03:00:00",
          "2012-05-24T06:00:00",
          "2012-05-24T09:00:00",
          "2012-05-24T12:00:00",
          "2012-05-24T15:00:00",
          "2012-05-24T18:00:00",
          "2012-05-24T21:00:00",
          "2012-05-25T00:00:00",
          "2012-05-25T03:00:00",
          "2012-05-25T06:00:00",
          "2012-05-25T09:00:00",
          "2012-05-25T12:00:00",
          "2012-05-25T15:00:00",
          "2012-05-25T18:00:00",
          "2012-05-25T21:00:00",
          "2012-05-26T00:00:00",
          "2012-05-26T03:00:00",
          "2012-05-26T06:00:00",
          "2012-05-26T09:00:00",
          "2012-05-26T12:00:00",
          "2012-05-26T15:00:00",
          "2012-05-26T18:00:00",
          "2012-05-26T21:00:00",
          "2012-07-12T00:00:00",
          "2012-07-12T03:00:00",
          "2012-07-12T06:00:00",
          "2012-07-12T09:00:00",
          "2012-07-12T12:00:00",
          "2012-07-12T15:00:00",
          "2012-07-12T18:00:00",
          "2012-07-12T21:00:00",
          "2012-07-13T00:00:00",
          "2012-07-13T03:00:00",
          "2012-07-13T06:00:00",
          "2012-07-13T09:00:00",
          "2012-07-13T12:00:00",
          "2012-07-13T15:00:00",
          "2012-07-13T18:00:00",
          "2012-07-13T21:00:00",
          "2012-07-14T00:00:00",
          "2012-07-14T03:00:00",
          "2012-07-14T06:00:00",
          "2012-07-14T09:00:00",
          "2012-07-14T12:00:00",
          "2012-07-14T15:00:00",
          "2012-07-14T18:00:00",
          "2012-07-14T21:00:00",
          "2012-08-23T00:00:00",
          "2012-08-23T03:00:00",
          "2012-08-23T06:00:00",
          "2012-08-23T09:00:00",
          "2012-08-23T12:00:00",
          "2012-08-23T15:00:00",
          "2012-08-23T18:00:00",
          "2012-08-23T21:00:00",
          "2012-08-24T00:00:00",
          "2012-08-24T03:00:00",
          "2012-08-24T06:00:00",
          "2012-08-24T09:00:00",
          "2012-08-24T12:00:00",
          "2012-08-24T15:00:00",
          "2012-08-24T18:00:00",
          "2012-08-24T21:00:00",
          "2012-08-25T00:00:00",
          "2012-08-25T03:00:00",
          "2012-08-25T06:00:00",
          "2012-08-25T09:00:00",
          "2012-08-25T12:00:00",
          "2012-08-25T15:00:00",
          "2012-08-25T18:00:00",
          "2012-08-25T21:00:00",
          "2012-10-11T00:00:00",
          "2012-10-11T03:00:00",
          "2012-10-11T06:00:00",
          "2012-10-11T09:00:00",
          "2012-10-11T12:00:00",
          "2012-10-11T15:00:00",
          "2012-10-11T18:00:00",
          "2012-10-11T21:00:00",
          "2012-10-12T00:00:00",
          "2012-10-12T03:00:00",
          "2012-10-12T06:00:00",
          "2012-10-12T09:00:00",
          "2012-10-12T12:00:00",
          "2012-10-12T15:00:00",
          "2012-10-12T18:00:00",
          "2012-10-12T21:00:00",
          "2012-10-13T00:00:00",
          "2012-10-13T03:00:00",
          "2012-10-13T06:00:00",
          "2012-10-13T09:00:00",
          "2012-10-13T12:00:00",
          "2012-10-13T15:00:00",
          "2012-10-13T18:00:00",
          "2012-10-13T21:00:00",
          "2012-11-22T00:00:00",
          "2012-11-22T03:00:00",
          "2012-11-22T06:00:00",
          "2012-11-22T09:00:00",
          "2012-11-22T12:00:00",
          "2012-11-22T15:00:00",
          "2012-11-22T18:00:00",
          "2012-11-22T21:00:00",
          "2012-11-23T00:00:00",
          "2012-11-23T03:00:00",
          "2012-11-23T06:00:00",
          "2012-11-23T09:00:00",
          "2012-11-23T12:00:00",
          "2012-11-23T15:00:00",
          "2012-11-23T18:00:00",
          "2012-11-23T21:00:00",
          "2012-11-24T00:00:00",
          "2012-11-24T03:00:00",
          "2012-11-24T06:00:00",
          "2012-11-24T09:00:00",
          "2012-11-24T12:00:00",
          "2012-11-24T15:00:00",
          "2012-11-24T18:00:00",
          "2012-11-24T21:00:00"
         ],
         "xaxis": "x",
         "y": [
          0,
          0,
          684.1617660325346,
          0,
          0,
          0,
          55.28813744918773,
          0,
          0,
          0,
          1035.1056380716202,
          0,
          0,
          0,
          926.6678842934524,
          16.79185389255207,
          0,
          0,
          2184.3872938741642,
          1035.1056380716202,
          0,
          1489.7975986593583,
          2193.958561885607,
          1731.5140012201132,
          0,
          0,
          1035.1056380716202,
          0,
          0,
          0,
          1155.5286903500037,
          221.92247782095637,
          0,
          0,
          952.3365670309925,
          0,
          0,
          0,
          716.3100746815924,
          57.08427982043753,
          0,
          0,
          1035.1056380716202,
          0,
          0,
          419.57497081660495,
          1035.1056380716202,
          181.04554488155168,
          0,
          0,
          617.3949354259793,
          0,
          0,
          0,
          2193.958561885607,
          1399.19691075452,
          983.2005770183684,
          1503.396760377902,
          586.5997136493626,
          0,
          0,
          0,
          619.9907968063558,
          0,
          156.89444072545956,
          248.103053910163,
          1634.151430804432,
          0,
          0,
          114.8433551197088,
          637.5256564678249,
          0,
          1035.1056380716202,
          1035.1056380716202,
          1035.1056380716202,
          385.10099521407665,
          318.0184946235563,
          611.3248218500773,
          1380.5005377933721,
          1582.6337400355299,
          1057.2312038208906,
          1643.5034230739634,
          1643.5034230739634,
          608.3977850023431,
          608.3977850023431,
          318.0184946235563,
          1933.88271345275,
          1643.5034230739634,
          1643.5034230739634,
          1603.1391799137434,
          1322.5578916026727,
          27.376405098195505,
          0,
          1035.1056380716202,
          1035.1056380716202,
          1582.6337400355299,
          1356.0511695429107,
          1646.4304599216975,
          1386.617410635416,
          0,
          611.3248218500773,
          611.3248218500773,
          1646.4304599216975,
          1646.4304599216975,
          1646.4304599216975,
          2090.642400586814,
          1158.852923813987,
          770.3499207790959,
          547.5281019639096,
          611.3248218500773,
          1582.6337400355299,
          1632.7482057836019,
          547.5281019639096,
          1035.1056380716202,
          1132.5834069118669,
          994.4237910909578,
          738.9306851769934,
          898.7770753811299,
          1933.88271345275,
          1035.1056380716202,
          0,
          0,
          1356.0511695429109,
          0,
          0,
          0,
          1035.1056380716202,
          1035.1056380716202,
          0,
          1035.1056380716202,
          1053.0038947394366,
          0,
          0,
          1035.1056380716202,
          1035.1056380716202,
          1035.1056380716202,
          1035.1056380716202,
          1035.1056380716202,
          1035.1056380716202,
          0,
          0,
          1035.1056380716202,
          1035.1056380716202,
          955.7394322504281,
          530.2631451773298,
          863.1777017581003,
          1753.389104216187,
          0,
          0,
          0,
          1461.9769516422816,
          813.5392522911341,
          536.5126632990502,
          952.475158408009,
          1524.7278793196363,
          0,
          0,
          0,
          135.8416632025578,
          0,
          0,
          0,
          0,
          0,
          0,
          453.63542930274065,
          1094.0431564474368,
          764.2557513194761,
          0,
          0,
          565.4177422719675,
          0,
          0,
          0,
          255.34137565596248,
          0,
          0,
          0,
          322.48316022535823,
          0,
          0,
          0,
          1035.1056380716202,
          706.0332814385911,
          0,
          22.189998001695926,
          1359.2619891386173,
          420.9376741403049,
          0,
          1030.256978603531,
          1035.1056380716202,
          1035.1056380716202
         ],
         "yaxis": "y"
        },
        {
         "line": {
          "color": "grey"
         },
         "mode": "lines",
         "name": "CHP",
         "showlegend": true,
         "stackgroup": "one",
         "type": "scatter",
         "x": [
          "2012-01-12T00:00:00",
          "2012-01-12T03:00:00",
          "2012-01-12T06:00:00",
          "2012-01-12T09:00:00",
          "2012-01-12T12:00:00",
          "2012-01-12T15:00:00",
          "2012-01-12T18:00:00",
          "2012-01-12T21:00:00",
          "2012-01-13T00:00:00",
          "2012-01-13T03:00:00",
          "2012-01-13T06:00:00",
          "2012-01-13T09:00:00",
          "2012-01-13T12:00:00",
          "2012-01-13T15:00:00",
          "2012-01-13T18:00:00",
          "2012-01-13T21:00:00",
          "2012-01-14T00:00:00",
          "2012-01-14T03:00:00",
          "2012-01-14T06:00:00",
          "2012-01-14T09:00:00",
          "2012-01-14T12:00:00",
          "2012-01-14T15:00:00",
          "2012-01-14T18:00:00",
          "2012-01-14T21:00:00",
          "2012-02-23T00:00:00",
          "2012-02-23T03:00:00",
          "2012-02-23T06:00:00",
          "2012-02-23T09:00:00",
          "2012-02-23T12:00:00",
          "2012-02-23T15:00:00",
          "2012-02-23T18:00:00",
          "2012-02-23T21:00:00",
          "2012-02-24T00:00:00",
          "2012-02-24T03:00:00",
          "2012-02-24T06:00:00",
          "2012-02-24T09:00:00",
          "2012-02-24T12:00:00",
          "2012-02-24T15:00:00",
          "2012-02-24T18:00:00",
          "2012-02-24T21:00:00",
          "2012-02-25T00:00:00",
          "2012-02-25T03:00:00",
          "2012-02-25T06:00:00",
          "2012-02-25T09:00:00",
          "2012-02-25T12:00:00",
          "2012-02-25T15:00:00",
          "2012-02-25T18:00:00",
          "2012-02-25T21:00:00",
          "2012-04-12T00:00:00",
          "2012-04-12T03:00:00",
          "2012-04-12T06:00:00",
          "2012-04-12T09:00:00",
          "2012-04-12T12:00:00",
          "2012-04-12T15:00:00",
          "2012-04-12T18:00:00",
          "2012-04-12T21:00:00",
          "2012-04-13T00:00:00",
          "2012-04-13T03:00:00",
          "2012-04-13T06:00:00",
          "2012-04-13T09:00:00",
          "2012-04-13T12:00:00",
          "2012-04-13T15:00:00",
          "2012-04-13T18:00:00",
          "2012-04-13T21:00:00",
          "2012-04-14T00:00:00",
          "2012-04-14T03:00:00",
          "2012-04-14T06:00:00",
          "2012-04-14T09:00:00",
          "2012-04-14T12:00:00",
          "2012-04-14T15:00:00",
          "2012-04-14T18:00:00",
          "2012-04-14T21:00:00",
          "2012-05-24T00:00:00",
          "2012-05-24T03:00:00",
          "2012-05-24T06:00:00",
          "2012-05-24T09:00:00",
          "2012-05-24T12:00:00",
          "2012-05-24T15:00:00",
          "2012-05-24T18:00:00",
          "2012-05-24T21:00:00",
          "2012-05-25T00:00:00",
          "2012-05-25T03:00:00",
          "2012-05-25T06:00:00",
          "2012-05-25T09:00:00",
          "2012-05-25T12:00:00",
          "2012-05-25T15:00:00",
          "2012-05-25T18:00:00",
          "2012-05-25T21:00:00",
          "2012-05-26T00:00:00",
          "2012-05-26T03:00:00",
          "2012-05-26T06:00:00",
          "2012-05-26T09:00:00",
          "2012-05-26T12:00:00",
          "2012-05-26T15:00:00",
          "2012-05-26T18:00:00",
          "2012-05-26T21:00:00",
          "2012-07-12T00:00:00",
          "2012-07-12T03:00:00",
          "2012-07-12T06:00:00",
          "2012-07-12T09:00:00",
          "2012-07-12T12:00:00",
          "2012-07-12T15:00:00",
          "2012-07-12T18:00:00",
          "2012-07-12T21:00:00",
          "2012-07-13T00:00:00",
          "2012-07-13T03:00:00",
          "2012-07-13T06:00:00",
          "2012-07-13T09:00:00",
          "2012-07-13T12:00:00",
          "2012-07-13T15:00:00",
          "2012-07-13T18:00:00",
          "2012-07-13T21:00:00",
          "2012-07-14T00:00:00",
          "2012-07-14T03:00:00",
          "2012-07-14T06:00:00",
          "2012-07-14T09:00:00",
          "2012-07-14T12:00:00",
          "2012-07-14T15:00:00",
          "2012-07-14T18:00:00",
          "2012-07-14T21:00:00",
          "2012-08-23T00:00:00",
          "2012-08-23T03:00:00",
          "2012-08-23T06:00:00",
          "2012-08-23T09:00:00",
          "2012-08-23T12:00:00",
          "2012-08-23T15:00:00",
          "2012-08-23T18:00:00",
          "2012-08-23T21:00:00",
          "2012-08-24T00:00:00",
          "2012-08-24T03:00:00",
          "2012-08-24T06:00:00",
          "2012-08-24T09:00:00",
          "2012-08-24T12:00:00",
          "2012-08-24T15:00:00",
          "2012-08-24T18:00:00",
          "2012-08-24T21:00:00",
          "2012-08-25T00:00:00",
          "2012-08-25T03:00:00",
          "2012-08-25T06:00:00",
          "2012-08-25T09:00:00",
          "2012-08-25T12:00:00",
          "2012-08-25T15:00:00",
          "2012-08-25T18:00:00",
          "2012-08-25T21:00:00",
          "2012-10-11T00:00:00",
          "2012-10-11T03:00:00",
          "2012-10-11T06:00:00",
          "2012-10-11T09:00:00",
          "2012-10-11T12:00:00",
          "2012-10-11T15:00:00",
          "2012-10-11T18:00:00",
          "2012-10-11T21:00:00",
          "2012-10-12T00:00:00",
          "2012-10-12T03:00:00",
          "2012-10-12T06:00:00",
          "2012-10-12T09:00:00",
          "2012-10-12T12:00:00",
          "2012-10-12T15:00:00",
          "2012-10-12T18:00:00",
          "2012-10-12T21:00:00",
          "2012-10-13T00:00:00",
          "2012-10-13T03:00:00",
          "2012-10-13T06:00:00",
          "2012-10-13T09:00:00",
          "2012-10-13T12:00:00",
          "2012-10-13T15:00:00",
          "2012-10-13T18:00:00",
          "2012-10-13T21:00:00",
          "2012-11-22T00:00:00",
          "2012-11-22T03:00:00",
          "2012-11-22T06:00:00",
          "2012-11-22T09:00:00",
          "2012-11-22T12:00:00",
          "2012-11-22T15:00:00",
          "2012-11-22T18:00:00",
          "2012-11-22T21:00:00",
          "2012-11-23T00:00:00",
          "2012-11-23T03:00:00",
          "2012-11-23T06:00:00",
          "2012-11-23T09:00:00",
          "2012-11-23T12:00:00",
          "2012-11-23T15:00:00",
          "2012-11-23T18:00:00",
          "2012-11-23T21:00:00",
          "2012-11-24T00:00:00",
          "2012-11-24T03:00:00",
          "2012-11-24T06:00:00",
          "2012-11-24T09:00:00",
          "2012-11-24T12:00:00",
          "2012-11-24T15:00:00",
          "2012-11-24T18:00:00",
          "2012-11-24T21:00:00"
         ],
         "xaxis": "x",
         "y": [
          542.1266183038099,
          542.1266183038099,
          704.7646037949527,
          704.7646037949527,
          704.7646037949527,
          704.7646037949527,
          704.7646037949527,
          704.7646037949527,
          542.1266183038097,
          704.7646037949527,
          704.7646037949527,
          704.7646037949527,
          704.7646037949527,
          704.7646037949527,
          704.7646037949527,
          704.7646037949527,
          542.1266183038098,
          542.1266183038098,
          704.7646037949527,
          704.7646037949527,
          704.7646037949527,
          542.1266183038099,
          542.1266183038099,
          542.1266183038099,
          542.1266183038099,
          542.1266183038099,
          542.1266183038099,
          542.1266183038099,
          542.1266183038099,
          542.1266183038099,
          542.1266183038099,
          542.1266183038099,
          542.1266183038099,
          542.1266183038099,
          542.1266183038099,
          542.1266183038099,
          542.1266183038099,
          542.1266183038099,
          542.1266183038099,
          542.1266183038099,
          542.1266183038099,
          542.1266183038099,
          542.1266183038099,
          704.7646037949527,
          704.7646037949527,
          542.1266183038099,
          542.1266183038099,
          542.1266183038099,
          542.1266183038099,
          542.1266183038099,
          542.1266183038099,
          542.1266183038099,
          542.1266183038099,
          542.1266183038099,
          542.1266183038099,
          542.1266183038099,
          542.1266183038099,
          542.1266183038099,
          542.1266183038099,
          542.1266183038099,
          542.1266183038099,
          542.1266183038099,
          542.1266183038099,
          542.1266183038099,
          542.1266183038099,
          542.1266183038099,
          542.1266183038099,
          704.7646037949527,
          704.7646037949527,
          542.1266183038099,
          542.1266183038099,
          542.1266183038099,
          542.1266183038099,
          542.1266183038099,
          542.1266183038099,
          542.1266183038099,
          542.1266183038099,
          542.1266183038099,
          542.1266183038099,
          542.1266183038099,
          542.1266183038099,
          542.1266183038099,
          542.1266183038099,
          542.1266183038099,
          542.1266183038099,
          542.1266183038099,
          542.1266183038099,
          542.1266183038099,
          542.1266183038099,
          542.1266183038099,
          542.1266183038099,
          542.1266183038098,
          542.1266183038098,
          542.1266183038099,
          542.1266183038099,
          542.1266183038099,
          542.1266183038099,
          542.1266183038099,
          542.1266183038099,
          542.1266183038099,
          542.1266183038099,
          542.1266183038099,
          542.1266183038099,
          542.1266183038099,
          542.1266183038099,
          542.1266183038099,
          542.1266183038099,
          542.1266183038099,
          542.1266183038099,
          542.1266183038099,
          542.1266183038099,
          542.1266183038099,
          542.1266183038099,
          542.1266183038099,
          542.1266183038099,
          542.1266183038099,
          542.1266183038099,
          542.1266183038099,
          542.1266183038099,
          542.1266183038099,
          542.1266183038099,
          542.1266183038099,
          542.1266183038099,
          542.1266183038099,
          542.1266183038099,
          542.1266183038099,
          542.1266183038099,
          542.1266183038099,
          542.1266183038099,
          542.1266183038099,
          542.1266183038099,
          542.1266183038099,
          542.1266183038099,
          542.1266183038099,
          542.1266183038099,
          542.1266183038099,
          542.1266183038099,
          542.1266183038099,
          542.1266183038099,
          542.1266183038099,
          542.1266183038099,
          542.1266183038099,
          542.1266183038099,
          542.1266183038099,
          542.1266183038099,
          542.1266183038099,
          542.1266183038099,
          542.1266183038099,
          542.1266183038099,
          542.1266183038099,
          542.1266183038099,
          542.1266183038099,
          542.1266183038099,
          542.1266183038099,
          542.1266183038099,
          542.1266183038099,
          704.7646037949527,
          542.1266183038099,
          542.1266183038099,
          542.1266183038099,
          542.1266183038099,
          542.1266183038099,
          542.1266183038099,
          542.1266183038099,
          542.1266183038099,
          542.1266183038099,
          542.1266183038099,
          542.1266183038099,
          542.1266183038099,
          542.1266183038099,
          542.1266183038099,
          542.1266183038099,
          542.1266183038099,
          542.1266183038099,
          542.1266183038099,
          542.1266183038099,
          542.1266183038099,
          542.1266183038099,
          542.1266183038099,
          542.1266183038099,
          542.1266183038099,
          542.1266183038099,
          542.1266183038099,
          542.1266183038099,
          542.1266183038099,
          542.1266183038099,
          542.1266183038099,
          542.1266183038099,
          542.1266183038099,
          542.1266183038099,
          542.1266183038099,
          542.1266183038099
         ],
         "yaxis": "y"
        },
        {
         "line": {
          "color": "yellow"
         },
         "mode": "lines",
         "name": "P2H",
         "showlegend": true,
         "stackgroup": "one",
         "type": "scatter",
         "x": [
          "2012-01-12T00:00:00",
          "2012-01-12T03:00:00",
          "2012-01-12T06:00:00",
          "2012-01-12T09:00:00",
          "2012-01-12T12:00:00",
          "2012-01-12T15:00:00",
          "2012-01-12T18:00:00",
          "2012-01-12T21:00:00",
          "2012-01-13T00:00:00",
          "2012-01-13T03:00:00",
          "2012-01-13T06:00:00",
          "2012-01-13T09:00:00",
          "2012-01-13T12:00:00",
          "2012-01-13T15:00:00",
          "2012-01-13T18:00:00",
          "2012-01-13T21:00:00",
          "2012-01-14T00:00:00",
          "2012-01-14T03:00:00",
          "2012-01-14T06:00:00",
          "2012-01-14T09:00:00",
          "2012-01-14T12:00:00",
          "2012-01-14T15:00:00",
          "2012-01-14T18:00:00",
          "2012-01-14T21:00:00",
          "2012-02-23T00:00:00",
          "2012-02-23T03:00:00",
          "2012-02-23T06:00:00",
          "2012-02-23T09:00:00",
          "2012-02-23T12:00:00",
          "2012-02-23T15:00:00",
          "2012-02-23T18:00:00",
          "2012-02-23T21:00:00",
          "2012-02-24T00:00:00",
          "2012-02-24T03:00:00",
          "2012-02-24T06:00:00",
          "2012-02-24T09:00:00",
          "2012-02-24T12:00:00",
          "2012-02-24T15:00:00",
          "2012-02-24T18:00:00",
          "2012-02-24T21:00:00",
          "2012-02-25T00:00:00",
          "2012-02-25T03:00:00",
          "2012-02-25T06:00:00",
          "2012-02-25T09:00:00",
          "2012-02-25T12:00:00",
          "2012-02-25T15:00:00",
          "2012-02-25T18:00:00",
          "2012-02-25T21:00:00",
          "2012-04-12T00:00:00",
          "2012-04-12T03:00:00",
          "2012-04-12T06:00:00",
          "2012-04-12T09:00:00",
          "2012-04-12T12:00:00",
          "2012-04-12T15:00:00",
          "2012-04-12T18:00:00",
          "2012-04-12T21:00:00",
          "2012-04-13T00:00:00",
          "2012-04-13T03:00:00",
          "2012-04-13T06:00:00",
          "2012-04-13T09:00:00",
          "2012-04-13T12:00:00",
          "2012-04-13T15:00:00",
          "2012-04-13T18:00:00",
          "2012-04-13T21:00:00",
          "2012-04-14T00:00:00",
          "2012-04-14T03:00:00",
          "2012-04-14T06:00:00",
          "2012-04-14T09:00:00",
          "2012-04-14T12:00:00",
          "2012-04-14T15:00:00",
          "2012-04-14T18:00:00",
          "2012-04-14T21:00:00",
          "2012-05-24T00:00:00",
          "2012-05-24T03:00:00",
          "2012-05-24T06:00:00",
          "2012-05-24T09:00:00",
          "2012-05-24T12:00:00",
          "2012-05-24T15:00:00",
          "2012-05-24T18:00:00",
          "2012-05-24T21:00:00",
          "2012-05-25T00:00:00",
          "2012-05-25T03:00:00",
          "2012-05-25T06:00:00",
          "2012-05-25T09:00:00",
          "2012-05-25T12:00:00",
          "2012-05-25T15:00:00",
          "2012-05-25T18:00:00",
          "2012-05-25T21:00:00",
          "2012-05-26T00:00:00",
          "2012-05-26T03:00:00",
          "2012-05-26T06:00:00",
          "2012-05-26T09:00:00",
          "2012-05-26T12:00:00",
          "2012-05-26T15:00:00",
          "2012-05-26T18:00:00",
          "2012-05-26T21:00:00",
          "2012-07-12T00:00:00",
          "2012-07-12T03:00:00",
          "2012-07-12T06:00:00",
          "2012-07-12T09:00:00",
          "2012-07-12T12:00:00",
          "2012-07-12T15:00:00",
          "2012-07-12T18:00:00",
          "2012-07-12T21:00:00",
          "2012-07-13T00:00:00",
          "2012-07-13T03:00:00",
          "2012-07-13T06:00:00",
          "2012-07-13T09:00:00",
          "2012-07-13T12:00:00",
          "2012-07-13T15:00:00",
          "2012-07-13T18:00:00",
          "2012-07-13T21:00:00",
          "2012-07-14T00:00:00",
          "2012-07-14T03:00:00",
          "2012-07-14T06:00:00",
          "2012-07-14T09:00:00",
          "2012-07-14T12:00:00",
          "2012-07-14T15:00:00",
          "2012-07-14T18:00:00",
          "2012-07-14T21:00:00",
          "2012-08-23T00:00:00",
          "2012-08-23T03:00:00",
          "2012-08-23T06:00:00",
          "2012-08-23T09:00:00",
          "2012-08-23T12:00:00",
          "2012-08-23T15:00:00",
          "2012-08-23T18:00:00",
          "2012-08-23T21:00:00",
          "2012-08-24T00:00:00",
          "2012-08-24T03:00:00",
          "2012-08-24T06:00:00",
          "2012-08-24T09:00:00",
          "2012-08-24T12:00:00",
          "2012-08-24T15:00:00",
          "2012-08-24T18:00:00",
          "2012-08-24T21:00:00",
          "2012-08-25T00:00:00",
          "2012-08-25T03:00:00",
          "2012-08-25T06:00:00",
          "2012-08-25T09:00:00",
          "2012-08-25T12:00:00",
          "2012-08-25T15:00:00",
          "2012-08-25T18:00:00",
          "2012-08-25T21:00:00",
          "2012-10-11T00:00:00",
          "2012-10-11T03:00:00",
          "2012-10-11T06:00:00",
          "2012-10-11T09:00:00",
          "2012-10-11T12:00:00",
          "2012-10-11T15:00:00",
          "2012-10-11T18:00:00",
          "2012-10-11T21:00:00",
          "2012-10-12T00:00:00",
          "2012-10-12T03:00:00",
          "2012-10-12T06:00:00",
          "2012-10-12T09:00:00",
          "2012-10-12T12:00:00",
          "2012-10-12T15:00:00",
          "2012-10-12T18:00:00",
          "2012-10-12T21:00:00",
          "2012-10-13T00:00:00",
          "2012-10-13T03:00:00",
          "2012-10-13T06:00:00",
          "2012-10-13T09:00:00",
          "2012-10-13T12:00:00",
          "2012-10-13T15:00:00",
          "2012-10-13T18:00:00",
          "2012-10-13T21:00:00",
          "2012-11-22T00:00:00",
          "2012-11-22T03:00:00",
          "2012-11-22T06:00:00",
          "2012-11-22T09:00:00",
          "2012-11-22T12:00:00",
          "2012-11-22T15:00:00",
          "2012-11-22T18:00:00",
          "2012-11-22T21:00:00",
          "2012-11-23T00:00:00",
          "2012-11-23T03:00:00",
          "2012-11-23T06:00:00",
          "2012-11-23T09:00:00",
          "2012-11-23T12:00:00",
          "2012-11-23T15:00:00",
          "2012-11-23T18:00:00",
          "2012-11-23T21:00:00",
          "2012-11-24T00:00:00",
          "2012-11-24T03:00:00",
          "2012-11-24T06:00:00",
          "2012-11-24T09:00:00",
          "2012-11-24T12:00:00",
          "2012-11-24T15:00:00",
          "2012-11-24T18:00:00",
          "2012-11-24T21:00:00"
         ],
         "xaxis": "x",
         "y": [
          1085.6091591596974,
          1085.6091591596974,
          1085.6091591596974,
          1085.6091591596974,
          1085.6091591596974,
          1085.6091591596974,
          1085.6091591596974,
          1085.6091591596974,
          1085.6091591596974,
          1085.6091591596974,
          1085.6091591596974,
          1085.6091591596974,
          1085.6091591596974,
          1085.6091591596974,
          1085.6091591596974,
          1085.6091591596974,
          1085.6091591596974,
          1085.6091591596974,
          1085.6091591596974,
          1085.6091591596974,
          1085.6091591596974,
          1085.6091591596974,
          1085.6091591596974,
          425.211622477449,
          1085.6091591596974,
          1085.6091591596974,
          1085.6091591596974,
          1085.6091591596974,
          1085.6091591596974,
          1085.6091591596974,
          1085.6091591596974,
          1085.6091591596974,
          1085.6091591596974,
          1085.6091591596974,
          1085.6091591596974,
          1085.6091591596974,
          1085.6091591596974,
          1085.6091591596974,
          1085.6091591596974,
          1085.6091591596974,
          1085.6091591596974,
          1085.6091591596974,
          1085.6091591596974,
          1085.6091591596974,
          1085.6091591596974,
          1085.6091591596974,
          1085.6091591596974,
          1085.6091591596974,
          425.211622477449,
          425.211622477449,
          1085.6091591596974,
          1085.6091591596974,
          1085.6091591596974,
          1085.6091591596974,
          0,
          0,
          0,
          0,
          1085.6091591596974,
          1085.6091591596974,
          1085.6091591596974,
          1085.6091591596974,
          1085.6091591596974,
          1085.6091591596974,
          0,
          338.1019809104374,
          425.211622477449,
          1085.6091591596974,
          1085.6091591596974,
          1085.6091591596974,
          1085.6091591596974,
          1085.6091591596974,
          0,
          0,
          0,
          0,
          0,
          0,
          0,
          0,
          0,
          0,
          0,
          0,
          0,
          0,
          0,
          0,
          0,
          0,
          0,
          0,
          0,
          0,
          0,
          0,
          0,
          0,
          0,
          0,
          0,
          0,
          0,
          0,
          0,
          0,
          0,
          0,
          0,
          0,
          0,
          0,
          0,
          0,
          0,
          0,
          0,
          0,
          0,
          0,
          0,
          0,
          0,
          0,
          0,
          0,
          0,
          0,
          0,
          0,
          0,
          0,
          0,
          0,
          0,
          0,
          0,
          0,
          0,
          0,
          0,
          0,
          0,
          0,
          0,
          0,
          0,
          425.211622477449,
          989.0654239805401,
          1085.6091591596974,
          0,
          0,
          0,
          0,
          0,
          1085.6091591596974,
          724.790675998908,
          967.3806463467163,
          668.5083520642816,
          425.211622477449,
          425.211622477449,
          425.211622477449,
          773.3574639890658,
          1049.80878331652,
          742.2285200584736,
          0,
          0,
          0,
          425.211622477449,
          425.211622477449,
          1085.6091591596974,
          1085.6091591596974,
          1085.6091591596974,
          1085.6091591596974,
          1085.6091591596974,
          1085.6091591596974,
          1085.6091591596974,
          1085.6091591596974,
          1085.6091591596974,
          1085.6091591596974,
          1085.6091591596974,
          1085.6091591596974,
          514.5878154917625,
          425.211622477449,
          425.211622477449,
          425.211622477449,
          1085.6091591596974,
          1085.6091591596974,
          1085.6091591596974,
          425.211622477449,
          1001.1102045506825,
          425.211622477449
         ],
         "yaxis": "y"
        }
       ],
       "layout": {
        "annotations": [
         {
          "font": {
           "size": 16
          },
          "showarrow": false,
          "text": "DayAhead TEST2 2045",
          "x": 0.5,
          "xanchor": "center",
          "xref": "paper",
          "y": 1,
          "yanchor": "bottom",
          "yref": "paper"
         }
        ],
        "height": 500,
        "legend": {
         "orientation": "h"
        },
        "template": {
         "data": {
          "bar": [
           {
            "error_x": {
             "color": "#2a3f5f"
            },
            "error_y": {
             "color": "#2a3f5f"
            },
            "marker": {
             "line": {
              "color": "#E5ECF6",
              "width": 0.5
             }
            },
            "type": "bar"
           }
          ],
          "barpolar": [
           {
            "marker": {
             "line": {
              "color": "#E5ECF6",
              "width": 0.5
             }
            },
            "type": "barpolar"
           }
          ],
          "carpet": [
           {
            "aaxis": {
             "endlinecolor": "#2a3f5f",
             "gridcolor": "white",
             "linecolor": "white",
             "minorgridcolor": "white",
             "startlinecolor": "#2a3f5f"
            },
            "baxis": {
             "endlinecolor": "#2a3f5f",
             "gridcolor": "white",
             "linecolor": "white",
             "minorgridcolor": "white",
             "startlinecolor": "#2a3f5f"
            },
            "type": "carpet"
           }
          ],
          "choropleth": [
           {
            "colorbar": {
             "outlinewidth": 0,
             "ticks": ""
            },
            "type": "choropleth"
           }
          ],
          "contour": [
           {
            "colorbar": {
             "outlinewidth": 0,
             "ticks": ""
            },
            "colorscale": [
             [
              0,
              "#0d0887"
             ],
             [
              0.1111111111111111,
              "#46039f"
             ],
             [
              0.2222222222222222,
              "#7201a8"
             ],
             [
              0.3333333333333333,
              "#9c179e"
             ],
             [
              0.4444444444444444,
              "#bd3786"
             ],
             [
              0.5555555555555556,
              "#d8576b"
             ],
             [
              0.6666666666666666,
              "#ed7953"
             ],
             [
              0.7777777777777778,
              "#fb9f3a"
             ],
             [
              0.8888888888888888,
              "#fdca26"
             ],
             [
              1,
              "#f0f921"
             ]
            ],
            "type": "contour"
           }
          ],
          "contourcarpet": [
           {
            "colorbar": {
             "outlinewidth": 0,
             "ticks": ""
            },
            "type": "contourcarpet"
           }
          ],
          "heatmap": [
           {
            "colorbar": {
             "outlinewidth": 0,
             "ticks": ""
            },
            "colorscale": [
             [
              0,
              "#0d0887"
             ],
             [
              0.1111111111111111,
              "#46039f"
             ],
             [
              0.2222222222222222,
              "#7201a8"
             ],
             [
              0.3333333333333333,
              "#9c179e"
             ],
             [
              0.4444444444444444,
              "#bd3786"
             ],
             [
              0.5555555555555556,
              "#d8576b"
             ],
             [
              0.6666666666666666,
              "#ed7953"
             ],
             [
              0.7777777777777778,
              "#fb9f3a"
             ],
             [
              0.8888888888888888,
              "#fdca26"
             ],
             [
              1,
              "#f0f921"
             ]
            ],
            "type": "heatmap"
           }
          ],
          "heatmapgl": [
           {
            "colorbar": {
             "outlinewidth": 0,
             "ticks": ""
            },
            "colorscale": [
             [
              0,
              "#0d0887"
             ],
             [
              0.1111111111111111,
              "#46039f"
             ],
             [
              0.2222222222222222,
              "#7201a8"
             ],
             [
              0.3333333333333333,
              "#9c179e"
             ],
             [
              0.4444444444444444,
              "#bd3786"
             ],
             [
              0.5555555555555556,
              "#d8576b"
             ],
             [
              0.6666666666666666,
              "#ed7953"
             ],
             [
              0.7777777777777778,
              "#fb9f3a"
             ],
             [
              0.8888888888888888,
              "#fdca26"
             ],
             [
              1,
              "#f0f921"
             ]
            ],
            "type": "heatmapgl"
           }
          ],
          "histogram": [
           {
            "marker": {
             "colorbar": {
              "outlinewidth": 0,
              "ticks": ""
             }
            },
            "type": "histogram"
           }
          ],
          "histogram2d": [
           {
            "colorbar": {
             "outlinewidth": 0,
             "ticks": ""
            },
            "colorscale": [
             [
              0,
              "#0d0887"
             ],
             [
              0.1111111111111111,
              "#46039f"
             ],
             [
              0.2222222222222222,
              "#7201a8"
             ],
             [
              0.3333333333333333,
              "#9c179e"
             ],
             [
              0.4444444444444444,
              "#bd3786"
             ],
             [
              0.5555555555555556,
              "#d8576b"
             ],
             [
              0.6666666666666666,
              "#ed7953"
             ],
             [
              0.7777777777777778,
              "#fb9f3a"
             ],
             [
              0.8888888888888888,
              "#fdca26"
             ],
             [
              1,
              "#f0f921"
             ]
            ],
            "type": "histogram2d"
           }
          ],
          "histogram2dcontour": [
           {
            "colorbar": {
             "outlinewidth": 0,
             "ticks": ""
            },
            "colorscale": [
             [
              0,
              "#0d0887"
             ],
             [
              0.1111111111111111,
              "#46039f"
             ],
             [
              0.2222222222222222,
              "#7201a8"
             ],
             [
              0.3333333333333333,
              "#9c179e"
             ],
             [
              0.4444444444444444,
              "#bd3786"
             ],
             [
              0.5555555555555556,
              "#d8576b"
             ],
             [
              0.6666666666666666,
              "#ed7953"
             ],
             [
              0.7777777777777778,
              "#fb9f3a"
             ],
             [
              0.8888888888888888,
              "#fdca26"
             ],
             [
              1,
              "#f0f921"
             ]
            ],
            "type": "histogram2dcontour"
           }
          ],
          "mesh3d": [
           {
            "colorbar": {
             "outlinewidth": 0,
             "ticks": ""
            },
            "type": "mesh3d"
           }
          ],
          "parcoords": [
           {
            "line": {
             "colorbar": {
              "outlinewidth": 0,
              "ticks": ""
             }
            },
            "type": "parcoords"
           }
          ],
          "pie": [
           {
            "automargin": true,
            "type": "pie"
           }
          ],
          "scatter": [
           {
            "marker": {
             "colorbar": {
              "outlinewidth": 0,
              "ticks": ""
             }
            },
            "type": "scatter"
           }
          ],
          "scatter3d": [
           {
            "line": {
             "colorbar": {
              "outlinewidth": 0,
              "ticks": ""
             }
            },
            "marker": {
             "colorbar": {
              "outlinewidth": 0,
              "ticks": ""
             }
            },
            "type": "scatter3d"
           }
          ],
          "scattercarpet": [
           {
            "marker": {
             "colorbar": {
              "outlinewidth": 0,
              "ticks": ""
             }
            },
            "type": "scattercarpet"
           }
          ],
          "scattergeo": [
           {
            "marker": {
             "colorbar": {
              "outlinewidth": 0,
              "ticks": ""
             }
            },
            "type": "scattergeo"
           }
          ],
          "scattergl": [
           {
            "marker": {
             "colorbar": {
              "outlinewidth": 0,
              "ticks": ""
             }
            },
            "type": "scattergl"
           }
          ],
          "scattermapbox": [
           {
            "marker": {
             "colorbar": {
              "outlinewidth": 0,
              "ticks": ""
             }
            },
            "type": "scattermapbox"
           }
          ],
          "scatterpolar": [
           {
            "marker": {
             "colorbar": {
              "outlinewidth": 0,
              "ticks": ""
             }
            },
            "type": "scatterpolar"
           }
          ],
          "scatterpolargl": [
           {
            "marker": {
             "colorbar": {
              "outlinewidth": 0,
              "ticks": ""
             }
            },
            "type": "scatterpolargl"
           }
          ],
          "scatterternary": [
           {
            "marker": {
             "colorbar": {
              "outlinewidth": 0,
              "ticks": ""
             }
            },
            "type": "scatterternary"
           }
          ],
          "surface": [
           {
            "colorbar": {
             "outlinewidth": 0,
             "ticks": ""
            },
            "colorscale": [
             [
              0,
              "#0d0887"
             ],
             [
              0.1111111111111111,
              "#46039f"
             ],
             [
              0.2222222222222222,
              "#7201a8"
             ],
             [
              0.3333333333333333,
              "#9c179e"
             ],
             [
              0.4444444444444444,
              "#bd3786"
             ],
             [
              0.5555555555555556,
              "#d8576b"
             ],
             [
              0.6666666666666666,
              "#ed7953"
             ],
             [
              0.7777777777777778,
              "#fb9f3a"
             ],
             [
              0.8888888888888888,
              "#fdca26"
             ],
             [
              1,
              "#f0f921"
             ]
            ],
            "type": "surface"
           }
          ],
          "table": [
           {
            "cells": {
             "fill": {
              "color": "#EBF0F8"
             },
             "line": {
              "color": "white"
             }
            },
            "header": {
             "fill": {
              "color": "#C8D4E3"
             },
             "line": {
              "color": "white"
             }
            },
            "type": "table"
           }
          ]
         },
         "layout": {
          "annotationdefaults": {
           "arrowcolor": "#2a3f5f",
           "arrowhead": 0,
           "arrowwidth": 1
          },
          "coloraxis": {
           "colorbar": {
            "outlinewidth": 0,
            "ticks": ""
           }
          },
          "colorscale": {
           "diverging": [
            [
             0,
             "#8e0152"
            ],
            [
             0.1,
             "#c51b7d"
            ],
            [
             0.2,
             "#de77ae"
            ],
            [
             0.3,
             "#f1b6da"
            ],
            [
             0.4,
             "#fde0ef"
            ],
            [
             0.5,
             "#f7f7f7"
            ],
            [
             0.6,
             "#e6f5d0"
            ],
            [
             0.7,
             "#b8e186"
            ],
            [
             0.8,
             "#7fbc41"
            ],
            [
             0.9,
             "#4d9221"
            ],
            [
             1,
             "#276419"
            ]
           ],
           "sequential": [
            [
             0,
             "#0d0887"
            ],
            [
             0.1111111111111111,
             "#46039f"
            ],
            [
             0.2222222222222222,
             "#7201a8"
            ],
            [
             0.3333333333333333,
             "#9c179e"
            ],
            [
             0.4444444444444444,
             "#bd3786"
            ],
            [
             0.5555555555555556,
             "#d8576b"
            ],
            [
             0.6666666666666666,
             "#ed7953"
            ],
            [
             0.7777777777777778,
             "#fb9f3a"
            ],
            [
             0.8888888888888888,
             "#fdca26"
            ],
            [
             1,
             "#f0f921"
            ]
           ],
           "sequentialminus": [
            [
             0,
             "#0d0887"
            ],
            [
             0.1111111111111111,
             "#46039f"
            ],
            [
             0.2222222222222222,
             "#7201a8"
            ],
            [
             0.3333333333333333,
             "#9c179e"
            ],
            [
             0.4444444444444444,
             "#bd3786"
            ],
            [
             0.5555555555555556,
             "#d8576b"
            ],
            [
             0.6666666666666666,
             "#ed7953"
            ],
            [
             0.7777777777777778,
             "#fb9f3a"
            ],
            [
             0.8888888888888888,
             "#fdca26"
            ],
            [
             1,
             "#f0f921"
            ]
           ]
          },
          "colorway": [
           "#636efa",
           "#EF553B",
           "#00cc96",
           "#ab63fa",
           "#FFA15A",
           "#19d3f3",
           "#FF6692",
           "#B6E880",
           "#FF97FF",
           "#FECB52"
          ],
          "font": {
           "color": "#2a3f5f"
          },
          "geo": {
           "bgcolor": "white",
           "lakecolor": "white",
           "landcolor": "#E5ECF6",
           "showlakes": true,
           "showland": true,
           "subunitcolor": "white"
          },
          "hoverlabel": {
           "align": "left"
          },
          "hovermode": "closest",
          "mapbox": {
           "style": "light"
          },
          "paper_bgcolor": "white",
          "plot_bgcolor": "#E5ECF6",
          "polar": {
           "angularaxis": {
            "gridcolor": "white",
            "linecolor": "white",
            "ticks": ""
           },
           "bgcolor": "#E5ECF6",
           "radialaxis": {
            "gridcolor": "white",
            "linecolor": "white",
            "ticks": ""
           }
          },
          "scene": {
           "xaxis": {
            "backgroundcolor": "#E5ECF6",
            "gridcolor": "white",
            "gridwidth": 2,
            "linecolor": "white",
            "showbackground": true,
            "ticks": "",
            "zerolinecolor": "white"
           },
           "yaxis": {
            "backgroundcolor": "#E5ECF6",
            "gridcolor": "white",
            "gridwidth": 2,
            "linecolor": "white",
            "showbackground": true,
            "ticks": "",
            "zerolinecolor": "white"
           },
           "zaxis": {
            "backgroundcolor": "#E5ECF6",
            "gridcolor": "white",
            "gridwidth": 2,
            "linecolor": "white",
            "showbackground": true,
            "ticks": "",
            "zerolinecolor": "white"
           }
          },
          "shapedefaults": {
           "line": {
            "color": "#2a3f5f"
           }
          },
          "ternary": {
           "aaxis": {
            "gridcolor": "white",
            "linecolor": "white",
            "ticks": ""
           },
           "baxis": {
            "gridcolor": "white",
            "linecolor": "white",
            "ticks": ""
           },
           "bgcolor": "#E5ECF6",
           "caxis": {
            "gridcolor": "white",
            "linecolor": "white",
            "ticks": ""
           }
          },
          "title": {
           "x": 0.05
          },
          "xaxis": {
           "automargin": true,
           "gridcolor": "white",
           "linecolor": "white",
           "ticks": "",
           "title": {
            "standoff": 15
           },
           "zerolinecolor": "white",
           "zerolinewidth": 2
          },
          "yaxis": {
           "automargin": true,
           "gridcolor": "white",
           "linecolor": "white",
           "ticks": "",
           "title": {
            "standoff": 15
           },
           "zerolinecolor": "white",
           "zerolinewidth": 2
          }
         }
        },
        "title": {
         "text": "Heat production"
        },
        "width": 1000,
        "xaxis": {
         "anchor": "y",
         "domain": [
          0,
          1
         ]
        },
        "yaxis": {
         "anchor": "x",
         "domain": [
          0,
          1
         ],
         "title": {
          "text": "Energy (MWh/h)"
         }
        }
       }
      },
      "text/html": [
       "<div>\n",
       "        \n",
       "        \n",
       "            <div id=\"239ca6e5-b45e-4cde-876c-562601333f47\" class=\"plotly-graph-div\" style=\"height:500px; width:1000px;\"></div>\n",
       "            <script type=\"text/javascript\">\n",
       "                require([\"plotly\"], function(Plotly) {\n",
       "                    window.PLOTLYENV=window.PLOTLYENV || {};\n",
       "                    \n",
       "                if (document.getElementById(\"239ca6e5-b45e-4cde-876c-562601333f47\")) {\n",
       "                    Plotly.newPlot(\n",
       "                        '239ca6e5-b45e-4cde-876c-562601333f47',\n",
       "                        [{\"line\": {\"color\": \"lightgreen\"}, \"mode\": \"lines\", \"name\": \"HEATSTO\", \"showlegend\": true, \"stackgroup\": \"one\", \"type\": \"scatter\", \"x\": [\"2012-01-12T00:00:00\", \"2012-01-12T03:00:00\", \"2012-01-12T06:00:00\", \"2012-01-12T09:00:00\", \"2012-01-12T12:00:00\", \"2012-01-12T15:00:00\", \"2012-01-12T18:00:00\", \"2012-01-12T21:00:00\", \"2012-01-13T00:00:00\", \"2012-01-13T03:00:00\", \"2012-01-13T06:00:00\", \"2012-01-13T09:00:00\", \"2012-01-13T12:00:00\", \"2012-01-13T15:00:00\", \"2012-01-13T18:00:00\", \"2012-01-13T21:00:00\", \"2012-01-14T00:00:00\", \"2012-01-14T03:00:00\", \"2012-01-14T06:00:00\", \"2012-01-14T09:00:00\", \"2012-01-14T12:00:00\", \"2012-01-14T15:00:00\", \"2012-01-14T18:00:00\", \"2012-01-14T21:00:00\", \"2012-02-23T00:00:00\", \"2012-02-23T03:00:00\", \"2012-02-23T06:00:00\", \"2012-02-23T09:00:00\", \"2012-02-23T12:00:00\", \"2012-02-23T15:00:00\", \"2012-02-23T18:00:00\", \"2012-02-23T21:00:00\", \"2012-02-24T00:00:00\", \"2012-02-24T03:00:00\", \"2012-02-24T06:00:00\", \"2012-02-24T09:00:00\", \"2012-02-24T12:00:00\", \"2012-02-24T15:00:00\", \"2012-02-24T18:00:00\", \"2012-02-24T21:00:00\", \"2012-02-25T00:00:00\", \"2012-02-25T03:00:00\", \"2012-02-25T06:00:00\", \"2012-02-25T09:00:00\", \"2012-02-25T12:00:00\", \"2012-02-25T15:00:00\", \"2012-02-25T18:00:00\", \"2012-02-25T21:00:00\", \"2012-04-12T00:00:00\", \"2012-04-12T03:00:00\", \"2012-04-12T06:00:00\", \"2012-04-12T09:00:00\", \"2012-04-12T12:00:00\", \"2012-04-12T15:00:00\", \"2012-04-12T18:00:00\", \"2012-04-12T21:00:00\", \"2012-04-13T00:00:00\", \"2012-04-13T03:00:00\", \"2012-04-13T06:00:00\", \"2012-04-13T09:00:00\", \"2012-04-13T12:00:00\", \"2012-04-13T15:00:00\", \"2012-04-13T18:00:00\", \"2012-04-13T21:00:00\", \"2012-04-14T00:00:00\", \"2012-04-14T03:00:00\", \"2012-04-14T06:00:00\", \"2012-04-14T09:00:00\", \"2012-04-14T12:00:00\", \"2012-04-14T15:00:00\", \"2012-04-14T18:00:00\", \"2012-04-14T21:00:00\", \"2012-05-24T00:00:00\", \"2012-05-24T03:00:00\", \"2012-05-24T06:00:00\", \"2012-05-24T09:00:00\", \"2012-05-24T12:00:00\", \"2012-05-24T15:00:00\", \"2012-05-24T18:00:00\", \"2012-05-24T21:00:00\", \"2012-05-25T00:00:00\", \"2012-05-25T03:00:00\", \"2012-05-25T06:00:00\", \"2012-05-25T09:00:00\", \"2012-05-25T12:00:00\", \"2012-05-25T15:00:00\", \"2012-05-25T18:00:00\", \"2012-05-25T21:00:00\", \"2012-05-26T00:00:00\", \"2012-05-26T03:00:00\", \"2012-05-26T06:00:00\", \"2012-05-26T09:00:00\", \"2012-05-26T12:00:00\", \"2012-05-26T15:00:00\", \"2012-05-26T18:00:00\", \"2012-05-26T21:00:00\", \"2012-07-12T00:00:00\", \"2012-07-12T03:00:00\", \"2012-07-12T06:00:00\", \"2012-07-12T09:00:00\", \"2012-07-12T12:00:00\", \"2012-07-12T15:00:00\", \"2012-07-12T18:00:00\", \"2012-07-12T21:00:00\", \"2012-07-13T00:00:00\", \"2012-07-13T03:00:00\", \"2012-07-13T06:00:00\", \"2012-07-13T09:00:00\", \"2012-07-13T12:00:00\", \"2012-07-13T15:00:00\", \"2012-07-13T18:00:00\", \"2012-07-13T21:00:00\", \"2012-07-14T00:00:00\", \"2012-07-14T03:00:00\", \"2012-07-14T06:00:00\", \"2012-07-14T09:00:00\", \"2012-07-14T12:00:00\", \"2012-07-14T15:00:00\", \"2012-07-14T18:00:00\", \"2012-07-14T21:00:00\", \"2012-08-23T00:00:00\", \"2012-08-23T03:00:00\", \"2012-08-23T06:00:00\", \"2012-08-23T09:00:00\", \"2012-08-23T12:00:00\", \"2012-08-23T15:00:00\", \"2012-08-23T18:00:00\", \"2012-08-23T21:00:00\", \"2012-08-24T00:00:00\", \"2012-08-24T03:00:00\", \"2012-08-24T06:00:00\", \"2012-08-24T09:00:00\", \"2012-08-24T12:00:00\", \"2012-08-24T15:00:00\", \"2012-08-24T18:00:00\", \"2012-08-24T21:00:00\", \"2012-08-25T00:00:00\", \"2012-08-25T03:00:00\", \"2012-08-25T06:00:00\", \"2012-08-25T09:00:00\", \"2012-08-25T12:00:00\", \"2012-08-25T15:00:00\", \"2012-08-25T18:00:00\", \"2012-08-25T21:00:00\", \"2012-10-11T00:00:00\", \"2012-10-11T03:00:00\", \"2012-10-11T06:00:00\", \"2012-10-11T09:00:00\", \"2012-10-11T12:00:00\", \"2012-10-11T15:00:00\", \"2012-10-11T18:00:00\", \"2012-10-11T21:00:00\", \"2012-10-12T00:00:00\", \"2012-10-12T03:00:00\", \"2012-10-12T06:00:00\", \"2012-10-12T09:00:00\", \"2012-10-12T12:00:00\", \"2012-10-12T15:00:00\", \"2012-10-12T18:00:00\", \"2012-10-12T21:00:00\", \"2012-10-13T00:00:00\", \"2012-10-13T03:00:00\", \"2012-10-13T06:00:00\", \"2012-10-13T09:00:00\", \"2012-10-13T12:00:00\", \"2012-10-13T15:00:00\", \"2012-10-13T18:00:00\", \"2012-10-13T21:00:00\", \"2012-11-22T00:00:00\", \"2012-11-22T03:00:00\", \"2012-11-22T06:00:00\", \"2012-11-22T09:00:00\", \"2012-11-22T12:00:00\", \"2012-11-22T15:00:00\", \"2012-11-22T18:00:00\", \"2012-11-22T21:00:00\", \"2012-11-23T00:00:00\", \"2012-11-23T03:00:00\", \"2012-11-23T06:00:00\", \"2012-11-23T09:00:00\", \"2012-11-23T12:00:00\", \"2012-11-23T15:00:00\", \"2012-11-23T18:00:00\", \"2012-11-23T21:00:00\", \"2012-11-24T00:00:00\", \"2012-11-24T03:00:00\", \"2012-11-24T06:00:00\", \"2012-11-24T09:00:00\", \"2012-11-24T12:00:00\", \"2012-11-24T15:00:00\", \"2012-11-24T18:00:00\", \"2012-11-24T21:00:00\"], \"xaxis\": \"x\", \"y\": [0.0, 0.0, 684.1617660325346, 0.0, 0.0, 0.0, 55.28813744918773, 0.0, 0.0, 0.0, 1035.1056380716202, 0.0, 0.0, 0.0, 926.6678842934524, 16.79185389255207, 0.0, 0.0, 2184.3872938741642, 1035.1056380716202, 0.0, 1489.7975986593583, 2193.958561885607, 1731.5140012201132, 0.0, 0.0, 1035.1056380716202, 0.0, 0.0, 0.0, 1155.5286903500037, 221.92247782095637, 0.0, 0.0, 952.3365670309925, 0.0, 0.0, 0.0, 716.3100746815924, 57.08427982043753, 0.0, 0.0, 1035.1056380716202, 0.0, 0.0, 419.57497081660495, 1035.1056380716202, 181.04554488155168, 0.0, 0.0, 617.3949354259793, 0.0, 0.0, 0.0, 2193.958561885607, 1399.19691075452, 983.2005770183684, 1503.396760377902, 586.5997136493626, 0.0, 0.0, 0.0, 619.9907968063558, 0.0, 156.89444072545956, 248.103053910163, 1634.151430804432, 0.0, 0.0, 114.8433551197088, 637.5256564678249, 0.0, 1035.1056380716202, 1035.1056380716202, 1035.1056380716202, 385.10099521407665, 318.0184946235563, 611.3248218500773, 1380.5005377933721, 1582.6337400355299, 1057.2312038208906, 1643.5034230739634, 1643.5034230739634, 608.3977850023431, 608.3977850023431, 318.0184946235563, 1933.88271345275, 1643.5034230739634, 1643.5034230739634, 1603.1391799137434, 1322.5578916026727, 27.376405098195505, 0.0, 1035.1056380716202, 1035.1056380716202, 1582.6337400355299, 1356.0511695429107, 1646.4304599216975, 1386.617410635416, 0.0, 611.3248218500773, 611.3248218500773, 1646.4304599216975, 1646.4304599216975, 1646.4304599216975, 2090.642400586814, 1158.852923813987, 770.3499207790959, 547.5281019639096, 611.3248218500773, 1582.6337400355299, 1632.7482057836019, 547.5281019639096, 1035.1056380716202, 1132.5834069118669, 994.4237910909578, 738.9306851769934, 898.7770753811299, 1933.88271345275, 1035.1056380716202, 0.0, 0.0, 1356.0511695429109, 0.0, 0.0, 0.0, 1035.1056380716202, 1035.1056380716202, 0.0, 1035.1056380716202, 1053.0038947394366, 0.0, 0.0, 1035.1056380716202, 1035.1056380716202, 1035.1056380716202, 1035.1056380716202, 1035.1056380716202, 1035.1056380716202, 0.0, 0.0, 1035.1056380716202, 1035.1056380716202, 955.7394322504281, 530.2631451773298, 863.1777017581003, 1753.389104216187, 0.0, 0.0, 0.0, 1461.9769516422816, 813.5392522911341, 536.5126632990502, 952.475158408009, 1524.7278793196363, 0.0, 0.0, 0.0, 135.8416632025578, 0.0, 0.0, 0.0, 0.0, 0.0, 0.0, 453.63542930274065, 1094.0431564474368, 764.2557513194761, 0.0, 0.0, 565.4177422719675, 0.0, 0.0, 0.0, 255.34137565596248, 0.0, 0.0, 0.0, 322.48316022535823, 0.0, 0.0, 0.0, 1035.1056380716202, 706.0332814385911, 0.0, 22.189998001695926, 1359.2619891386173, 420.9376741403049, 0.0, 1030.256978603531, 1035.1056380716202, 1035.1056380716202], \"yaxis\": \"y\"}, {\"line\": {\"color\": \"grey\"}, \"mode\": \"lines\", \"name\": \"CHP\", \"showlegend\": true, \"stackgroup\": \"one\", \"type\": \"scatter\", \"x\": [\"2012-01-12T00:00:00\", \"2012-01-12T03:00:00\", \"2012-01-12T06:00:00\", \"2012-01-12T09:00:00\", \"2012-01-12T12:00:00\", \"2012-01-12T15:00:00\", \"2012-01-12T18:00:00\", \"2012-01-12T21:00:00\", \"2012-01-13T00:00:00\", \"2012-01-13T03:00:00\", \"2012-01-13T06:00:00\", \"2012-01-13T09:00:00\", \"2012-01-13T12:00:00\", \"2012-01-13T15:00:00\", \"2012-01-13T18:00:00\", \"2012-01-13T21:00:00\", \"2012-01-14T00:00:00\", \"2012-01-14T03:00:00\", \"2012-01-14T06:00:00\", \"2012-01-14T09:00:00\", \"2012-01-14T12:00:00\", \"2012-01-14T15:00:00\", \"2012-01-14T18:00:00\", \"2012-01-14T21:00:00\", \"2012-02-23T00:00:00\", \"2012-02-23T03:00:00\", \"2012-02-23T06:00:00\", \"2012-02-23T09:00:00\", \"2012-02-23T12:00:00\", \"2012-02-23T15:00:00\", \"2012-02-23T18:00:00\", \"2012-02-23T21:00:00\", \"2012-02-24T00:00:00\", \"2012-02-24T03:00:00\", \"2012-02-24T06:00:00\", \"2012-02-24T09:00:00\", \"2012-02-24T12:00:00\", \"2012-02-24T15:00:00\", \"2012-02-24T18:00:00\", \"2012-02-24T21:00:00\", \"2012-02-25T00:00:00\", \"2012-02-25T03:00:00\", \"2012-02-25T06:00:00\", \"2012-02-25T09:00:00\", \"2012-02-25T12:00:00\", \"2012-02-25T15:00:00\", \"2012-02-25T18:00:00\", \"2012-02-25T21:00:00\", \"2012-04-12T00:00:00\", \"2012-04-12T03:00:00\", \"2012-04-12T06:00:00\", \"2012-04-12T09:00:00\", \"2012-04-12T12:00:00\", \"2012-04-12T15:00:00\", \"2012-04-12T18:00:00\", \"2012-04-12T21:00:00\", \"2012-04-13T00:00:00\", \"2012-04-13T03:00:00\", \"2012-04-13T06:00:00\", \"2012-04-13T09:00:00\", \"2012-04-13T12:00:00\", \"2012-04-13T15:00:00\", \"2012-04-13T18:00:00\", \"2012-04-13T21:00:00\", \"2012-04-14T00:00:00\", \"2012-04-14T03:00:00\", \"2012-04-14T06:00:00\", \"2012-04-14T09:00:00\", \"2012-04-14T12:00:00\", \"2012-04-14T15:00:00\", \"2012-04-14T18:00:00\", \"2012-04-14T21:00:00\", \"2012-05-24T00:00:00\", \"2012-05-24T03:00:00\", \"2012-05-24T06:00:00\", \"2012-05-24T09:00:00\", \"2012-05-24T12:00:00\", \"2012-05-24T15:00:00\", \"2012-05-24T18:00:00\", \"2012-05-24T21:00:00\", \"2012-05-25T00:00:00\", \"2012-05-25T03:00:00\", \"2012-05-25T06:00:00\", \"2012-05-25T09:00:00\", \"2012-05-25T12:00:00\", \"2012-05-25T15:00:00\", \"2012-05-25T18:00:00\", \"2012-05-25T21:00:00\", \"2012-05-26T00:00:00\", \"2012-05-26T03:00:00\", \"2012-05-26T06:00:00\", \"2012-05-26T09:00:00\", \"2012-05-26T12:00:00\", \"2012-05-26T15:00:00\", \"2012-05-26T18:00:00\", \"2012-05-26T21:00:00\", \"2012-07-12T00:00:00\", \"2012-07-12T03:00:00\", \"2012-07-12T06:00:00\", \"2012-07-12T09:00:00\", \"2012-07-12T12:00:00\", \"2012-07-12T15:00:00\", \"2012-07-12T18:00:00\", \"2012-07-12T21:00:00\", \"2012-07-13T00:00:00\", \"2012-07-13T03:00:00\", \"2012-07-13T06:00:00\", \"2012-07-13T09:00:00\", \"2012-07-13T12:00:00\", \"2012-07-13T15:00:00\", \"2012-07-13T18:00:00\", \"2012-07-13T21:00:00\", \"2012-07-14T00:00:00\", \"2012-07-14T03:00:00\", \"2012-07-14T06:00:00\", \"2012-07-14T09:00:00\", \"2012-07-14T12:00:00\", \"2012-07-14T15:00:00\", \"2012-07-14T18:00:00\", \"2012-07-14T21:00:00\", \"2012-08-23T00:00:00\", \"2012-08-23T03:00:00\", \"2012-08-23T06:00:00\", \"2012-08-23T09:00:00\", \"2012-08-23T12:00:00\", \"2012-08-23T15:00:00\", \"2012-08-23T18:00:00\", \"2012-08-23T21:00:00\", \"2012-08-24T00:00:00\", \"2012-08-24T03:00:00\", \"2012-08-24T06:00:00\", \"2012-08-24T09:00:00\", \"2012-08-24T12:00:00\", \"2012-08-24T15:00:00\", \"2012-08-24T18:00:00\", \"2012-08-24T21:00:00\", \"2012-08-25T00:00:00\", \"2012-08-25T03:00:00\", \"2012-08-25T06:00:00\", \"2012-08-25T09:00:00\", \"2012-08-25T12:00:00\", \"2012-08-25T15:00:00\", \"2012-08-25T18:00:00\", \"2012-08-25T21:00:00\", \"2012-10-11T00:00:00\", \"2012-10-11T03:00:00\", \"2012-10-11T06:00:00\", \"2012-10-11T09:00:00\", \"2012-10-11T12:00:00\", \"2012-10-11T15:00:00\", \"2012-10-11T18:00:00\", \"2012-10-11T21:00:00\", \"2012-10-12T00:00:00\", \"2012-10-12T03:00:00\", \"2012-10-12T06:00:00\", \"2012-10-12T09:00:00\", \"2012-10-12T12:00:00\", \"2012-10-12T15:00:00\", \"2012-10-12T18:00:00\", \"2012-10-12T21:00:00\", \"2012-10-13T00:00:00\", \"2012-10-13T03:00:00\", \"2012-10-13T06:00:00\", \"2012-10-13T09:00:00\", \"2012-10-13T12:00:00\", \"2012-10-13T15:00:00\", \"2012-10-13T18:00:00\", \"2012-10-13T21:00:00\", \"2012-11-22T00:00:00\", \"2012-11-22T03:00:00\", \"2012-11-22T06:00:00\", \"2012-11-22T09:00:00\", \"2012-11-22T12:00:00\", \"2012-11-22T15:00:00\", \"2012-11-22T18:00:00\", \"2012-11-22T21:00:00\", \"2012-11-23T00:00:00\", \"2012-11-23T03:00:00\", \"2012-11-23T06:00:00\", \"2012-11-23T09:00:00\", \"2012-11-23T12:00:00\", \"2012-11-23T15:00:00\", \"2012-11-23T18:00:00\", \"2012-11-23T21:00:00\", \"2012-11-24T00:00:00\", \"2012-11-24T03:00:00\", \"2012-11-24T06:00:00\", \"2012-11-24T09:00:00\", \"2012-11-24T12:00:00\", \"2012-11-24T15:00:00\", \"2012-11-24T18:00:00\", \"2012-11-24T21:00:00\"], \"xaxis\": \"x\", \"y\": [542.1266183038099, 542.1266183038099, 704.7646037949527, 704.7646037949527, 704.7646037949527, 704.7646037949527, 704.7646037949527, 704.7646037949527, 542.1266183038097, 704.7646037949527, 704.7646037949527, 704.7646037949527, 704.7646037949527, 704.7646037949527, 704.7646037949527, 704.7646037949527, 542.1266183038098, 542.1266183038098, 704.7646037949527, 704.7646037949527, 704.7646037949527, 542.1266183038099, 542.1266183038099, 542.1266183038099, 542.1266183038099, 542.1266183038099, 542.1266183038099, 542.1266183038099, 542.1266183038099, 542.1266183038099, 542.1266183038099, 542.1266183038099, 542.1266183038099, 542.1266183038099, 542.1266183038099, 542.1266183038099, 542.1266183038099, 542.1266183038099, 542.1266183038099, 542.1266183038099, 542.1266183038099, 542.1266183038099, 542.1266183038099, 704.7646037949527, 704.7646037949527, 542.1266183038099, 542.1266183038099, 542.1266183038099, 542.1266183038099, 542.1266183038099, 542.1266183038099, 542.1266183038099, 542.1266183038099, 542.1266183038099, 542.1266183038099, 542.1266183038099, 542.1266183038099, 542.1266183038099, 542.1266183038099, 542.1266183038099, 542.1266183038099, 542.1266183038099, 542.1266183038099, 542.1266183038099, 542.1266183038099, 542.1266183038099, 542.1266183038099, 704.7646037949527, 704.7646037949527, 542.1266183038099, 542.1266183038099, 542.1266183038099, 542.1266183038099, 542.1266183038099, 542.1266183038099, 542.1266183038099, 542.1266183038099, 542.1266183038099, 542.1266183038099, 542.1266183038099, 542.1266183038099, 542.1266183038099, 542.1266183038099, 542.1266183038099, 542.1266183038099, 542.1266183038099, 542.1266183038099, 542.1266183038099, 542.1266183038099, 542.1266183038099, 542.1266183038099, 542.1266183038098, 542.1266183038098, 542.1266183038099, 542.1266183038099, 542.1266183038099, 542.1266183038099, 542.1266183038099, 542.1266183038099, 542.1266183038099, 542.1266183038099, 542.1266183038099, 542.1266183038099, 542.1266183038099, 542.1266183038099, 542.1266183038099, 542.1266183038099, 542.1266183038099, 542.1266183038099, 542.1266183038099, 542.1266183038099, 542.1266183038099, 542.1266183038099, 542.1266183038099, 542.1266183038099, 542.1266183038099, 542.1266183038099, 542.1266183038099, 542.1266183038099, 542.1266183038099, 542.1266183038099, 542.1266183038099, 542.1266183038099, 542.1266183038099, 542.1266183038099, 542.1266183038099, 542.1266183038099, 542.1266183038099, 542.1266183038099, 542.1266183038099, 542.1266183038099, 542.1266183038099, 542.1266183038099, 542.1266183038099, 542.1266183038099, 542.1266183038099, 542.1266183038099, 542.1266183038099, 542.1266183038099, 542.1266183038099, 542.1266183038099, 542.1266183038099, 542.1266183038099, 542.1266183038099, 542.1266183038099, 542.1266183038099, 542.1266183038099, 542.1266183038099, 542.1266183038099, 542.1266183038099, 542.1266183038099, 542.1266183038099, 542.1266183038099, 542.1266183038099, 542.1266183038099, 542.1266183038099, 704.7646037949527, 542.1266183038099, 542.1266183038099, 542.1266183038099, 542.1266183038099, 542.1266183038099, 542.1266183038099, 542.1266183038099, 542.1266183038099, 542.1266183038099, 542.1266183038099, 542.1266183038099, 542.1266183038099, 542.1266183038099, 542.1266183038099, 542.1266183038099, 542.1266183038099, 542.1266183038099, 542.1266183038099, 542.1266183038099, 542.1266183038099, 542.1266183038099, 542.1266183038099, 542.1266183038099, 542.1266183038099, 542.1266183038099, 542.1266183038099, 542.1266183038099, 542.1266183038099, 542.1266183038099, 542.1266183038099, 542.1266183038099, 542.1266183038099, 542.1266183038099, 542.1266183038099, 542.1266183038099], \"yaxis\": \"y\"}, {\"line\": {\"color\": \"yellow\"}, \"mode\": \"lines\", \"name\": \"P2H\", \"showlegend\": true, \"stackgroup\": \"one\", \"type\": \"scatter\", \"x\": [\"2012-01-12T00:00:00\", \"2012-01-12T03:00:00\", \"2012-01-12T06:00:00\", \"2012-01-12T09:00:00\", \"2012-01-12T12:00:00\", \"2012-01-12T15:00:00\", \"2012-01-12T18:00:00\", \"2012-01-12T21:00:00\", \"2012-01-13T00:00:00\", \"2012-01-13T03:00:00\", \"2012-01-13T06:00:00\", \"2012-01-13T09:00:00\", \"2012-01-13T12:00:00\", \"2012-01-13T15:00:00\", \"2012-01-13T18:00:00\", \"2012-01-13T21:00:00\", \"2012-01-14T00:00:00\", \"2012-01-14T03:00:00\", \"2012-01-14T06:00:00\", \"2012-01-14T09:00:00\", \"2012-01-14T12:00:00\", \"2012-01-14T15:00:00\", \"2012-01-14T18:00:00\", \"2012-01-14T21:00:00\", \"2012-02-23T00:00:00\", \"2012-02-23T03:00:00\", \"2012-02-23T06:00:00\", \"2012-02-23T09:00:00\", \"2012-02-23T12:00:00\", \"2012-02-23T15:00:00\", \"2012-02-23T18:00:00\", \"2012-02-23T21:00:00\", \"2012-02-24T00:00:00\", \"2012-02-24T03:00:00\", \"2012-02-24T06:00:00\", \"2012-02-24T09:00:00\", \"2012-02-24T12:00:00\", \"2012-02-24T15:00:00\", \"2012-02-24T18:00:00\", \"2012-02-24T21:00:00\", \"2012-02-25T00:00:00\", \"2012-02-25T03:00:00\", \"2012-02-25T06:00:00\", \"2012-02-25T09:00:00\", \"2012-02-25T12:00:00\", \"2012-02-25T15:00:00\", \"2012-02-25T18:00:00\", \"2012-02-25T21:00:00\", \"2012-04-12T00:00:00\", \"2012-04-12T03:00:00\", \"2012-04-12T06:00:00\", \"2012-04-12T09:00:00\", \"2012-04-12T12:00:00\", \"2012-04-12T15:00:00\", \"2012-04-12T18:00:00\", \"2012-04-12T21:00:00\", \"2012-04-13T00:00:00\", \"2012-04-13T03:00:00\", \"2012-04-13T06:00:00\", \"2012-04-13T09:00:00\", \"2012-04-13T12:00:00\", \"2012-04-13T15:00:00\", \"2012-04-13T18:00:00\", \"2012-04-13T21:00:00\", \"2012-04-14T00:00:00\", \"2012-04-14T03:00:00\", \"2012-04-14T06:00:00\", \"2012-04-14T09:00:00\", \"2012-04-14T12:00:00\", \"2012-04-14T15:00:00\", \"2012-04-14T18:00:00\", \"2012-04-14T21:00:00\", \"2012-05-24T00:00:00\", \"2012-05-24T03:00:00\", \"2012-05-24T06:00:00\", \"2012-05-24T09:00:00\", \"2012-05-24T12:00:00\", \"2012-05-24T15:00:00\", \"2012-05-24T18:00:00\", \"2012-05-24T21:00:00\", \"2012-05-25T00:00:00\", \"2012-05-25T03:00:00\", \"2012-05-25T06:00:00\", \"2012-05-25T09:00:00\", \"2012-05-25T12:00:00\", \"2012-05-25T15:00:00\", \"2012-05-25T18:00:00\", \"2012-05-25T21:00:00\", \"2012-05-26T00:00:00\", \"2012-05-26T03:00:00\", \"2012-05-26T06:00:00\", \"2012-05-26T09:00:00\", \"2012-05-26T12:00:00\", \"2012-05-26T15:00:00\", \"2012-05-26T18:00:00\", \"2012-05-26T21:00:00\", \"2012-07-12T00:00:00\", \"2012-07-12T03:00:00\", \"2012-07-12T06:00:00\", \"2012-07-12T09:00:00\", \"2012-07-12T12:00:00\", \"2012-07-12T15:00:00\", \"2012-07-12T18:00:00\", \"2012-07-12T21:00:00\", \"2012-07-13T00:00:00\", \"2012-07-13T03:00:00\", \"2012-07-13T06:00:00\", \"2012-07-13T09:00:00\", \"2012-07-13T12:00:00\", \"2012-07-13T15:00:00\", \"2012-07-13T18:00:00\", \"2012-07-13T21:00:00\", \"2012-07-14T00:00:00\", \"2012-07-14T03:00:00\", \"2012-07-14T06:00:00\", \"2012-07-14T09:00:00\", \"2012-07-14T12:00:00\", \"2012-07-14T15:00:00\", \"2012-07-14T18:00:00\", \"2012-07-14T21:00:00\", \"2012-08-23T00:00:00\", \"2012-08-23T03:00:00\", \"2012-08-23T06:00:00\", \"2012-08-23T09:00:00\", \"2012-08-23T12:00:00\", \"2012-08-23T15:00:00\", \"2012-08-23T18:00:00\", \"2012-08-23T21:00:00\", \"2012-08-24T00:00:00\", \"2012-08-24T03:00:00\", \"2012-08-24T06:00:00\", \"2012-08-24T09:00:00\", \"2012-08-24T12:00:00\", \"2012-08-24T15:00:00\", \"2012-08-24T18:00:00\", \"2012-08-24T21:00:00\", \"2012-08-25T00:00:00\", \"2012-08-25T03:00:00\", \"2012-08-25T06:00:00\", \"2012-08-25T09:00:00\", \"2012-08-25T12:00:00\", \"2012-08-25T15:00:00\", \"2012-08-25T18:00:00\", \"2012-08-25T21:00:00\", \"2012-10-11T00:00:00\", \"2012-10-11T03:00:00\", \"2012-10-11T06:00:00\", \"2012-10-11T09:00:00\", \"2012-10-11T12:00:00\", \"2012-10-11T15:00:00\", \"2012-10-11T18:00:00\", \"2012-10-11T21:00:00\", \"2012-10-12T00:00:00\", \"2012-10-12T03:00:00\", \"2012-10-12T06:00:00\", \"2012-10-12T09:00:00\", \"2012-10-12T12:00:00\", \"2012-10-12T15:00:00\", \"2012-10-12T18:00:00\", \"2012-10-12T21:00:00\", \"2012-10-13T00:00:00\", \"2012-10-13T03:00:00\", \"2012-10-13T06:00:00\", \"2012-10-13T09:00:00\", \"2012-10-13T12:00:00\", \"2012-10-13T15:00:00\", \"2012-10-13T18:00:00\", \"2012-10-13T21:00:00\", \"2012-11-22T00:00:00\", \"2012-11-22T03:00:00\", \"2012-11-22T06:00:00\", \"2012-11-22T09:00:00\", \"2012-11-22T12:00:00\", \"2012-11-22T15:00:00\", \"2012-11-22T18:00:00\", \"2012-11-22T21:00:00\", \"2012-11-23T00:00:00\", \"2012-11-23T03:00:00\", \"2012-11-23T06:00:00\", \"2012-11-23T09:00:00\", \"2012-11-23T12:00:00\", \"2012-11-23T15:00:00\", \"2012-11-23T18:00:00\", \"2012-11-23T21:00:00\", \"2012-11-24T00:00:00\", \"2012-11-24T03:00:00\", \"2012-11-24T06:00:00\", \"2012-11-24T09:00:00\", \"2012-11-24T12:00:00\", \"2012-11-24T15:00:00\", \"2012-11-24T18:00:00\", \"2012-11-24T21:00:00\"], \"xaxis\": \"x\", \"y\": [1085.6091591596974, 1085.6091591596974, 1085.6091591596974, 1085.6091591596974, 1085.6091591596974, 1085.6091591596974, 1085.6091591596974, 1085.6091591596974, 1085.6091591596974, 1085.6091591596974, 1085.6091591596974, 1085.6091591596974, 1085.6091591596974, 1085.6091591596974, 1085.6091591596974, 1085.6091591596974, 1085.6091591596974, 1085.6091591596974, 1085.6091591596974, 1085.6091591596974, 1085.6091591596974, 1085.6091591596974, 1085.6091591596974, 425.211622477449, 1085.6091591596974, 1085.6091591596974, 1085.6091591596974, 1085.6091591596974, 1085.6091591596974, 1085.6091591596974, 1085.6091591596974, 1085.6091591596974, 1085.6091591596974, 1085.6091591596974, 1085.6091591596974, 1085.6091591596974, 1085.6091591596974, 1085.6091591596974, 1085.6091591596974, 1085.6091591596974, 1085.6091591596974, 1085.6091591596974, 1085.6091591596974, 1085.6091591596974, 1085.6091591596974, 1085.6091591596974, 1085.6091591596974, 1085.6091591596974, 425.211622477449, 425.211622477449, 1085.6091591596974, 1085.6091591596974, 1085.6091591596974, 1085.6091591596974, 0.0, 0.0, 0.0, 0.0, 1085.6091591596974, 1085.6091591596974, 1085.6091591596974, 1085.6091591596974, 1085.6091591596974, 1085.6091591596974, 0.0, 338.1019809104374, 425.211622477449, 1085.6091591596974, 1085.6091591596974, 1085.6091591596974, 1085.6091591596974, 1085.6091591596974, 0.0, 0.0, 0.0, 0.0, 0.0, 0.0, 0.0, 0.0, 0.0, 0.0, 0.0, 0.0, 0.0, 0.0, 0.0, 0.0, 0.0, 0.0, 0.0, 0.0, 0.0, 0.0, 0.0, 0.0, 0.0, 0.0, 0.0, 0.0, 0.0, 0.0, 0.0, 0.0, 0.0, 0.0, 0.0, 0.0, 0.0, 0.0, 0.0, 0.0, 0.0, 0.0, 0.0, 0.0, 0.0, 0.0, 0.0, 0.0, 0.0, 0.0, 0.0, 0.0, 0.0, 0.0, 0.0, 0.0, 0.0, 0.0, 0.0, 0.0, 0.0, 0.0, 0.0, 0.0, 0.0, 0.0, 0.0, 0.0, 0.0, 0.0, 0.0, 0.0, 0.0, 0.0, 0.0, 425.211622477449, 989.0654239805401, 1085.6091591596974, 0.0, 0.0, 0.0, 0.0, 0.0, 1085.6091591596974, 724.790675998908, 967.3806463467163, 668.5083520642816, 425.211622477449, 425.211622477449, 425.211622477449, 773.3574639890658, 1049.80878331652, 742.2285200584736, 0.0, 0.0, 0.0, 425.211622477449, 425.211622477449, 1085.6091591596974, 1085.6091591596974, 1085.6091591596974, 1085.6091591596974, 1085.6091591596974, 1085.6091591596974, 1085.6091591596974, 1085.6091591596974, 1085.6091591596974, 1085.6091591596974, 1085.6091591596974, 1085.6091591596974, 514.5878154917625, 425.211622477449, 425.211622477449, 425.211622477449, 1085.6091591596974, 1085.6091591596974, 1085.6091591596974, 425.211622477449, 1001.1102045506825, 425.211622477449], \"yaxis\": \"y\"}],\n",
       "                        {\"annotations\": [{\"font\": {\"size\": 16}, \"showarrow\": false, \"text\": \"DayAhead TEST2 2045\", \"x\": 0.5, \"xanchor\": \"center\", \"xref\": \"paper\", \"y\": 1.0, \"yanchor\": \"bottom\", \"yref\": \"paper\"}], \"height\": 500, \"legend\": {\"orientation\": \"h\"}, \"template\": {\"data\": {\"bar\": [{\"error_x\": {\"color\": \"#2a3f5f\"}, \"error_y\": {\"color\": \"#2a3f5f\"}, \"marker\": {\"line\": {\"color\": \"#E5ECF6\", \"width\": 0.5}}, \"type\": \"bar\"}], \"barpolar\": [{\"marker\": {\"line\": {\"color\": \"#E5ECF6\", \"width\": 0.5}}, \"type\": \"barpolar\"}], \"carpet\": [{\"aaxis\": {\"endlinecolor\": \"#2a3f5f\", \"gridcolor\": \"white\", \"linecolor\": \"white\", \"minorgridcolor\": \"white\", \"startlinecolor\": \"#2a3f5f\"}, \"baxis\": {\"endlinecolor\": \"#2a3f5f\", \"gridcolor\": \"white\", \"linecolor\": \"white\", \"minorgridcolor\": \"white\", \"startlinecolor\": \"#2a3f5f\"}, \"type\": \"carpet\"}], \"choropleth\": [{\"colorbar\": {\"outlinewidth\": 0, \"ticks\": \"\"}, \"type\": \"choropleth\"}], \"contour\": [{\"colorbar\": {\"outlinewidth\": 0, \"ticks\": \"\"}, \"colorscale\": [[0.0, \"#0d0887\"], [0.1111111111111111, \"#46039f\"], [0.2222222222222222, \"#7201a8\"], [0.3333333333333333, \"#9c179e\"], [0.4444444444444444, \"#bd3786\"], [0.5555555555555556, \"#d8576b\"], [0.6666666666666666, \"#ed7953\"], [0.7777777777777778, \"#fb9f3a\"], [0.8888888888888888, \"#fdca26\"], [1.0, \"#f0f921\"]], \"type\": \"contour\"}], \"contourcarpet\": [{\"colorbar\": {\"outlinewidth\": 0, \"ticks\": \"\"}, \"type\": \"contourcarpet\"}], \"heatmap\": [{\"colorbar\": {\"outlinewidth\": 0, \"ticks\": \"\"}, \"colorscale\": [[0.0, \"#0d0887\"], [0.1111111111111111, \"#46039f\"], [0.2222222222222222, \"#7201a8\"], [0.3333333333333333, \"#9c179e\"], [0.4444444444444444, \"#bd3786\"], [0.5555555555555556, \"#d8576b\"], [0.6666666666666666, \"#ed7953\"], [0.7777777777777778, \"#fb9f3a\"], [0.8888888888888888, \"#fdca26\"], [1.0, \"#f0f921\"]], \"type\": \"heatmap\"}], \"heatmapgl\": [{\"colorbar\": {\"outlinewidth\": 0, \"ticks\": \"\"}, \"colorscale\": [[0.0, \"#0d0887\"], [0.1111111111111111, \"#46039f\"], [0.2222222222222222, \"#7201a8\"], [0.3333333333333333, \"#9c179e\"], [0.4444444444444444, \"#bd3786\"], [0.5555555555555556, \"#d8576b\"], [0.6666666666666666, \"#ed7953\"], [0.7777777777777778, \"#fb9f3a\"], [0.8888888888888888, \"#fdca26\"], [1.0, \"#f0f921\"]], \"type\": \"heatmapgl\"}], \"histogram\": [{\"marker\": {\"colorbar\": {\"outlinewidth\": 0, \"ticks\": \"\"}}, \"type\": \"histogram\"}], \"histogram2d\": [{\"colorbar\": {\"outlinewidth\": 0, \"ticks\": \"\"}, \"colorscale\": [[0.0, \"#0d0887\"], [0.1111111111111111, \"#46039f\"], [0.2222222222222222, \"#7201a8\"], [0.3333333333333333, \"#9c179e\"], [0.4444444444444444, \"#bd3786\"], [0.5555555555555556, \"#d8576b\"], [0.6666666666666666, \"#ed7953\"], [0.7777777777777778, \"#fb9f3a\"], [0.8888888888888888, \"#fdca26\"], [1.0, \"#f0f921\"]], \"type\": \"histogram2d\"}], \"histogram2dcontour\": [{\"colorbar\": {\"outlinewidth\": 0, \"ticks\": \"\"}, \"colorscale\": [[0.0, \"#0d0887\"], [0.1111111111111111, \"#46039f\"], [0.2222222222222222, \"#7201a8\"], [0.3333333333333333, \"#9c179e\"], [0.4444444444444444, \"#bd3786\"], [0.5555555555555556, \"#d8576b\"], [0.6666666666666666, \"#ed7953\"], [0.7777777777777778, \"#fb9f3a\"], [0.8888888888888888, \"#fdca26\"], [1.0, \"#f0f921\"]], \"type\": \"histogram2dcontour\"}], \"mesh3d\": [{\"colorbar\": {\"outlinewidth\": 0, \"ticks\": \"\"}, \"type\": \"mesh3d\"}], \"parcoords\": [{\"line\": {\"colorbar\": {\"outlinewidth\": 0, \"ticks\": \"\"}}, \"type\": \"parcoords\"}], \"pie\": [{\"automargin\": true, \"type\": \"pie\"}], \"scatter\": [{\"marker\": {\"colorbar\": {\"outlinewidth\": 0, \"ticks\": \"\"}}, \"type\": \"scatter\"}], \"scatter3d\": [{\"line\": {\"colorbar\": {\"outlinewidth\": 0, \"ticks\": \"\"}}, \"marker\": {\"colorbar\": {\"outlinewidth\": 0, \"ticks\": \"\"}}, \"type\": \"scatter3d\"}], \"scattercarpet\": [{\"marker\": {\"colorbar\": {\"outlinewidth\": 0, \"ticks\": \"\"}}, \"type\": \"scattercarpet\"}], \"scattergeo\": [{\"marker\": {\"colorbar\": {\"outlinewidth\": 0, \"ticks\": \"\"}}, \"type\": \"scattergeo\"}], \"scattergl\": [{\"marker\": {\"colorbar\": {\"outlinewidth\": 0, \"ticks\": \"\"}}, \"type\": \"scattergl\"}], \"scattermapbox\": [{\"marker\": {\"colorbar\": {\"outlinewidth\": 0, \"ticks\": \"\"}}, \"type\": \"scattermapbox\"}], \"scatterpolar\": [{\"marker\": {\"colorbar\": {\"outlinewidth\": 0, \"ticks\": \"\"}}, \"type\": \"scatterpolar\"}], \"scatterpolargl\": [{\"marker\": {\"colorbar\": {\"outlinewidth\": 0, \"ticks\": \"\"}}, \"type\": \"scatterpolargl\"}], \"scatterternary\": [{\"marker\": {\"colorbar\": {\"outlinewidth\": 0, \"ticks\": \"\"}}, \"type\": \"scatterternary\"}], \"surface\": [{\"colorbar\": {\"outlinewidth\": 0, \"ticks\": \"\"}, \"colorscale\": [[0.0, \"#0d0887\"], [0.1111111111111111, \"#46039f\"], [0.2222222222222222, \"#7201a8\"], [0.3333333333333333, \"#9c179e\"], [0.4444444444444444, \"#bd3786\"], [0.5555555555555556, \"#d8576b\"], [0.6666666666666666, \"#ed7953\"], [0.7777777777777778, \"#fb9f3a\"], [0.8888888888888888, \"#fdca26\"], [1.0, \"#f0f921\"]], \"type\": \"surface\"}], \"table\": [{\"cells\": {\"fill\": {\"color\": \"#EBF0F8\"}, \"line\": {\"color\": \"white\"}}, \"header\": {\"fill\": {\"color\": \"#C8D4E3\"}, \"line\": {\"color\": \"white\"}}, \"type\": \"table\"}]}, \"layout\": {\"annotationdefaults\": {\"arrowcolor\": \"#2a3f5f\", \"arrowhead\": 0, \"arrowwidth\": 1}, \"coloraxis\": {\"colorbar\": {\"outlinewidth\": 0, \"ticks\": \"\"}}, \"colorscale\": {\"diverging\": [[0, \"#8e0152\"], [0.1, \"#c51b7d\"], [0.2, \"#de77ae\"], [0.3, \"#f1b6da\"], [0.4, \"#fde0ef\"], [0.5, \"#f7f7f7\"], [0.6, \"#e6f5d0\"], [0.7, \"#b8e186\"], [0.8, \"#7fbc41\"], [0.9, \"#4d9221\"], [1, \"#276419\"]], \"sequential\": [[0.0, \"#0d0887\"], [0.1111111111111111, \"#46039f\"], [0.2222222222222222, \"#7201a8\"], [0.3333333333333333, \"#9c179e\"], [0.4444444444444444, \"#bd3786\"], [0.5555555555555556, \"#d8576b\"], [0.6666666666666666, \"#ed7953\"], [0.7777777777777778, \"#fb9f3a\"], [0.8888888888888888, \"#fdca26\"], [1.0, \"#f0f921\"]], \"sequentialminus\": [[0.0, \"#0d0887\"], [0.1111111111111111, \"#46039f\"], [0.2222222222222222, \"#7201a8\"], [0.3333333333333333, \"#9c179e\"], [0.4444444444444444, \"#bd3786\"], [0.5555555555555556, \"#d8576b\"], [0.6666666666666666, \"#ed7953\"], [0.7777777777777778, \"#fb9f3a\"], [0.8888888888888888, \"#fdca26\"], [1.0, \"#f0f921\"]]}, \"colorway\": [\"#636efa\", \"#EF553B\", \"#00cc96\", \"#ab63fa\", \"#FFA15A\", \"#19d3f3\", \"#FF6692\", \"#B6E880\", \"#FF97FF\", \"#FECB52\"], \"font\": {\"color\": \"#2a3f5f\"}, \"geo\": {\"bgcolor\": \"white\", \"lakecolor\": \"white\", \"landcolor\": \"#E5ECF6\", \"showlakes\": true, \"showland\": true, \"subunitcolor\": \"white\"}, \"hoverlabel\": {\"align\": \"left\"}, \"hovermode\": \"closest\", \"mapbox\": {\"style\": \"light\"}, \"paper_bgcolor\": \"white\", \"plot_bgcolor\": \"#E5ECF6\", \"polar\": {\"angularaxis\": {\"gridcolor\": \"white\", \"linecolor\": \"white\", \"ticks\": \"\"}, \"bgcolor\": \"#E5ECF6\", \"radialaxis\": {\"gridcolor\": \"white\", \"linecolor\": \"white\", \"ticks\": \"\"}}, \"scene\": {\"xaxis\": {\"backgroundcolor\": \"#E5ECF6\", \"gridcolor\": \"white\", \"gridwidth\": 2, \"linecolor\": \"white\", \"showbackground\": true, \"ticks\": \"\", \"zerolinecolor\": \"white\"}, \"yaxis\": {\"backgroundcolor\": \"#E5ECF6\", \"gridcolor\": \"white\", \"gridwidth\": 2, \"linecolor\": \"white\", \"showbackground\": true, \"ticks\": \"\", \"zerolinecolor\": \"white\"}, \"zaxis\": {\"backgroundcolor\": \"#E5ECF6\", \"gridcolor\": \"white\", \"gridwidth\": 2, \"linecolor\": \"white\", \"showbackground\": true, \"ticks\": \"\", \"zerolinecolor\": \"white\"}}, \"shapedefaults\": {\"line\": {\"color\": \"#2a3f5f\"}}, \"ternary\": {\"aaxis\": {\"gridcolor\": \"white\", \"linecolor\": \"white\", \"ticks\": \"\"}, \"baxis\": {\"gridcolor\": \"white\", \"linecolor\": \"white\", \"ticks\": \"\"}, \"bgcolor\": \"#E5ECF6\", \"caxis\": {\"gridcolor\": \"white\", \"linecolor\": \"white\", \"ticks\": \"\"}}, \"title\": {\"x\": 0.05}, \"xaxis\": {\"automargin\": true, \"gridcolor\": \"white\", \"linecolor\": \"white\", \"ticks\": \"\", \"title\": {\"standoff\": 15}, \"zerolinecolor\": \"white\", \"zerolinewidth\": 2}, \"yaxis\": {\"automargin\": true, \"gridcolor\": \"white\", \"linecolor\": \"white\", \"ticks\": \"\", \"title\": {\"standoff\": 15}, \"zerolinecolor\": \"white\", \"zerolinewidth\": 2}}}, \"title\": {\"text\": \"Heat production\"}, \"width\": 1000, \"xaxis\": {\"anchor\": \"y\", \"domain\": [0.0, 1.0]}, \"yaxis\": {\"anchor\": \"x\", \"domain\": [0.0, 1.0], \"title\": {\"text\": \"Energy (MWh/h)\"}}},\n",
       "                        {\"responsive\": true}\n",
       "                    ).then(function(){\n",
       "                            \n",
       "var gd = document.getElementById('239ca6e5-b45e-4cde-876c-562601333f47');\n",
       "var x = new MutationObserver(function (mutations, observer) {{\n",
       "        var display = window.getComputedStyle(gd).display;\n",
       "        if (!display || display === 'none') {{\n",
       "            console.log([gd, 'removed!']);\n",
       "            Plotly.purge(gd);\n",
       "            observer.disconnect();\n",
       "        }}\n",
       "}});\n",
       "\n",
       "// Listen for the removal of the full notebook cells\n",
       "var notebookContainer = gd.closest('#notebook-container');\n",
       "if (notebookContainer) {{\n",
       "    x.observe(notebookContainer, {childList: true});\n",
       "}}\n",
       "\n",
       "// Listen for the clearing of the current output cell\n",
       "var outputEl = gd.closest('.output');\n",
       "if (outputEl) {{\n",
       "    x.observe(outputEl, {childList: true});\n",
       "}}\n",
       "\n",
       "                        })\n",
       "                };\n",
       "                });\n",
       "            </script>\n",
       "        </div>"
      ]
     },
     "metadata": {},
     "output_type": "display_data"
    }
   ],
   "source": [
    "figB = make_subplots(rows=1*len(y)*1, cols=1,subplot_titles=title_subplots, vertical_spacing = 0.05)\n",
    "\n",
    "for year in y:\n",
    "    #Production\n",
    "    for i in prod_list:\n",
    "        figB.add_trace(go.Scatter(x=table.loc[(table['YYY'] == int(year))].timestamp, \n",
    "                                 y=table.loc[(table['YYY'] == int(year))][i],name=i,\n",
    "                                 mode = 'lines',\n",
    "                                 stackgroup = stackgroup,\n",
    "                                 line =  dict(color = prodcolors[prod_list.index(i)]), \n",
    "                                 showlegend= legend_condition), \n",
    "                        row= name_subplots.index(market+scenario+str(year))+1, col=1)\n",
    "\n",
    "\n",
    "\n",
    "figB.update_layout(\n",
    "    title=\"Heat production\",\n",
    ")  \n",
    "figB.update_yaxes(title_text=\"Energy (MWh/h)\", secondary_y=False)\n",
    "figB.update_layout(legend_orientation=\"h\",width=1000,height=500)\n",
    "figB.show()\n"
   ]
  },
  {
   "cell_type": "markdown",
   "metadata": {},
   "source": [
    "### 12.3 Plot C: Heat demand"
   ]
  },
  {
   "cell_type": "code",
   "execution_count": 23,
   "metadata": {},
   "outputs": [
    {
     "data": {
      "application/vnd.plotly.v1+json": {
       "config": {
        "plotlyServerURL": "https://plot.ly"
       },
       "data": [
        {
         "line": {
          "color": "red"
         },
         "mode": "lines",
         "name": "DEMAND_HEATSTO",
         "showlegend": true,
         "stackgroup": "one",
         "type": "scatter",
         "x": [
          "2012-01-12T00:00:00",
          "2012-01-12T03:00:00",
          "2012-01-12T06:00:00",
          "2012-01-12T09:00:00",
          "2012-01-12T12:00:00",
          "2012-01-12T15:00:00",
          "2012-01-12T18:00:00",
          "2012-01-12T21:00:00",
          "2012-01-13T00:00:00",
          "2012-01-13T03:00:00",
          "2012-01-13T06:00:00",
          "2012-01-13T09:00:00",
          "2012-01-13T12:00:00",
          "2012-01-13T15:00:00",
          "2012-01-13T18:00:00",
          "2012-01-13T21:00:00",
          "2012-01-14T00:00:00",
          "2012-01-14T03:00:00",
          "2012-01-14T06:00:00",
          "2012-01-14T09:00:00",
          "2012-01-14T12:00:00",
          "2012-01-14T15:00:00",
          "2012-01-14T18:00:00",
          "2012-01-14T21:00:00",
          "2012-02-23T00:00:00",
          "2012-02-23T03:00:00",
          "2012-02-23T06:00:00",
          "2012-02-23T09:00:00",
          "2012-02-23T12:00:00",
          "2012-02-23T15:00:00",
          "2012-02-23T18:00:00",
          "2012-02-23T21:00:00",
          "2012-02-24T00:00:00",
          "2012-02-24T03:00:00",
          "2012-02-24T06:00:00",
          "2012-02-24T09:00:00",
          "2012-02-24T12:00:00",
          "2012-02-24T15:00:00",
          "2012-02-24T18:00:00",
          "2012-02-24T21:00:00",
          "2012-02-25T00:00:00",
          "2012-02-25T03:00:00",
          "2012-02-25T06:00:00",
          "2012-02-25T09:00:00",
          "2012-02-25T12:00:00",
          "2012-02-25T15:00:00",
          "2012-02-25T18:00:00",
          "2012-02-25T21:00:00",
          "2012-04-12T00:00:00",
          "2012-04-12T03:00:00",
          "2012-04-12T06:00:00",
          "2012-04-12T09:00:00",
          "2012-04-12T12:00:00",
          "2012-04-12T15:00:00",
          "2012-04-12T18:00:00",
          "2012-04-12T21:00:00",
          "2012-04-13T00:00:00",
          "2012-04-13T03:00:00",
          "2012-04-13T06:00:00",
          "2012-04-13T09:00:00",
          "2012-04-13T12:00:00",
          "2012-04-13T15:00:00",
          "2012-04-13T18:00:00",
          "2012-04-13T21:00:00",
          "2012-04-14T00:00:00",
          "2012-04-14T03:00:00",
          "2012-04-14T06:00:00",
          "2012-04-14T09:00:00",
          "2012-04-14T12:00:00",
          "2012-04-14T15:00:00",
          "2012-04-14T18:00:00",
          "2012-04-14T21:00:00",
          "2012-05-24T00:00:00",
          "2012-05-24T03:00:00",
          "2012-05-24T06:00:00",
          "2012-05-24T09:00:00",
          "2012-05-24T12:00:00",
          "2012-05-24T15:00:00",
          "2012-05-24T18:00:00",
          "2012-05-24T21:00:00",
          "2012-05-25T00:00:00",
          "2012-05-25T03:00:00",
          "2012-05-25T06:00:00",
          "2012-05-25T09:00:00",
          "2012-05-25T12:00:00",
          "2012-05-25T15:00:00",
          "2012-05-25T18:00:00",
          "2012-05-25T21:00:00",
          "2012-05-26T00:00:00",
          "2012-05-26T03:00:00",
          "2012-05-26T06:00:00",
          "2012-05-26T09:00:00",
          "2012-05-26T12:00:00",
          "2012-05-26T15:00:00",
          "2012-05-26T18:00:00",
          "2012-05-26T21:00:00",
          "2012-07-12T00:00:00",
          "2012-07-12T03:00:00",
          "2012-07-12T06:00:00",
          "2012-07-12T09:00:00",
          "2012-07-12T12:00:00",
          "2012-07-12T15:00:00",
          "2012-07-12T18:00:00",
          "2012-07-12T21:00:00",
          "2012-07-13T00:00:00",
          "2012-07-13T03:00:00",
          "2012-07-13T06:00:00",
          "2012-07-13T09:00:00",
          "2012-07-13T12:00:00",
          "2012-07-13T15:00:00",
          "2012-07-13T18:00:00",
          "2012-07-13T21:00:00",
          "2012-07-14T00:00:00",
          "2012-07-14T03:00:00",
          "2012-07-14T06:00:00",
          "2012-07-14T09:00:00",
          "2012-07-14T12:00:00",
          "2012-07-14T15:00:00",
          "2012-07-14T18:00:00",
          "2012-07-14T21:00:00",
          "2012-08-23T00:00:00",
          "2012-08-23T03:00:00",
          "2012-08-23T06:00:00",
          "2012-08-23T09:00:00",
          "2012-08-23T12:00:00",
          "2012-08-23T15:00:00",
          "2012-08-23T18:00:00",
          "2012-08-23T21:00:00",
          "2012-08-24T00:00:00",
          "2012-08-24T03:00:00",
          "2012-08-24T06:00:00",
          "2012-08-24T09:00:00",
          "2012-08-24T12:00:00",
          "2012-08-24T15:00:00",
          "2012-08-24T18:00:00",
          "2012-08-24T21:00:00",
          "2012-08-25T00:00:00",
          "2012-08-25T03:00:00",
          "2012-08-25T06:00:00",
          "2012-08-25T09:00:00",
          "2012-08-25T12:00:00",
          "2012-08-25T15:00:00",
          "2012-08-25T18:00:00",
          "2012-08-25T21:00:00",
          "2012-10-11T00:00:00",
          "2012-10-11T03:00:00",
          "2012-10-11T06:00:00",
          "2012-10-11T09:00:00",
          "2012-10-11T12:00:00",
          "2012-10-11T15:00:00",
          "2012-10-11T18:00:00",
          "2012-10-11T21:00:00",
          "2012-10-12T00:00:00",
          "2012-10-12T03:00:00",
          "2012-10-12T06:00:00",
          "2012-10-12T09:00:00",
          "2012-10-12T12:00:00",
          "2012-10-12T15:00:00",
          "2012-10-12T18:00:00",
          "2012-10-12T21:00:00",
          "2012-10-13T00:00:00",
          "2012-10-13T03:00:00",
          "2012-10-13T06:00:00",
          "2012-10-13T09:00:00",
          "2012-10-13T12:00:00",
          "2012-10-13T15:00:00",
          "2012-10-13T18:00:00",
          "2012-10-13T21:00:00",
          "2012-11-22T00:00:00",
          "2012-11-22T03:00:00",
          "2012-11-22T06:00:00",
          "2012-11-22T09:00:00",
          "2012-11-22T12:00:00",
          "2012-11-22T15:00:00",
          "2012-11-22T18:00:00",
          "2012-11-22T21:00:00",
          "2012-11-23T00:00:00",
          "2012-11-23T03:00:00",
          "2012-11-23T06:00:00",
          "2012-11-23T09:00:00",
          "2012-11-23T12:00:00",
          "2012-11-23T15:00:00",
          "2012-11-23T18:00:00",
          "2012-11-23T21:00:00",
          "2012-11-24T00:00:00",
          "2012-11-24T03:00:00",
          "2012-11-24T06:00:00",
          "2012-11-24T09:00:00",
          "2012-11-24T12:00:00",
          "2012-11-24T15:00:00",
          "2012-11-24T18:00:00",
          "2012-11-24T21:00:00"
         ],
         "xaxis": "x",
         "y": [
          633.7008405231402,
          514.7229262678107,
          0,
          544.0541272971244,
          1035.1056380716202,
          1035.1056380716202,
          0,
          277.3322843460568,
          1035.1056380716202,
          1035.1056380716202,
          0,
          408.02840536601786,
          1035.1056380716202,
          0,
          0,
          0,
          367.4253578410865,
          118.95119659582411,
          0,
          0,
          14.892865381826482,
          0,
          0,
          0,
          1151.3350328679678,
          843.0603428891917,
          0,
          59.036563220293715,
          733.2252393495752,
          614.286561605421,
          0,
          0,
          613.7289457211361,
          381.91091621199155,
          0,
          431.61034152819127,
          977.7034782673024,
          857.4865757891599,
          0,
          0,
          1020.01289253354,
          792.2900646981268,
          0,
          169.3701499431528,
          843.4149732756888,
          0,
          0,
          0,
          299.70527175726534,
          14.826735069031542,
          0,
          1035.1056380716202,
          1035.1056380716202,
          453.4232970190907,
          0,
          0,
          0,
          0,
          0,
          1069.6012796382813,
          1327.2525596481955,
          527.2914960977803,
          0,
          341.71370347476795,
          0,
          0,
          0,
          1286.2670511615643,
          1666.4645805486443,
          0,
          0,
          422.78840428469334,
          1008.9966759703,
          931.7889429019176,
          625.172257000866,
          1432.0475154490769,
          1540.0953688660197,
          1870.5099860976402,
          1173.728080853983,
          1384.7819318212864,
          1035.1056380716202,
          1447.3068289488033,
          1142.0846879095484,
          1783.7984270936015,
          1888.904491923665,
          1639.3726215721204,
          1729.3081447772959,
          1454.2196513759682,
          1648.6802404872565,
          1507.9227592106542,
          872.9243659821555,
          1244.9915864971845,
          1291.8824631702391,
          957.024312898792,
          870.6792801353627,
          1403.5052049577323,
          1454.6160903527398,
          1473.566879023175,
          734.4346695260306,
          904.9113753279515,
          1664.5509694712716,
          1732.0738536560032,
          1067.6035105369142,
          1438.3940992669702,
          1720.891295059811,
          1904.2453309321104,
          632.6175033597625,
          1647.6199231803084,
          1632.1477419619332,
          1293.3099334942128,
          1032.0729385874133,
          1391.9419163693747,
          620.8237423248204,
          898.2575601101771,
          458.49361638755795,
          1904.2453309321104,
          1904.2453309321104,
          1045.5022794822394,
          1448.7948429137743,
          840.27278987896,
          159.06054069702896,
          191.1091978715781,
          1220.5150812784718,
          1258.4875961766252,
          1449.753698870791,
          1404.5425086224068,
          855.7352112389102,
          1058.6632971782108,
          119.2597012086261,
          973.5236702632436,
          670.9748537142559,
          151.7245619944619,
          315.57588176394233,
          950.2993222244731,
          778.3725729139196,
          970.6897689259358,
          1154.079146694005,
          1030.1517730882738,
          507.72407303272234,
          1144.9360931813228,
          1282.905562619634,
          1051.1353249311865,
          787.1859054409929,
          869.1396928604902,
          0,
          0,
          0,
          405.9368144016795,
          1035.1056380716202,
          721.1053368731505,
          0,
          0,
          0,
          0,
          0,
          1842.4405373152267,
          1904.2453309321104,
          1035.1056380716202,
          0,
          352.3119079480008,
          493.0620180606834,
          423.6567815628499,
          0,
          1904.2453309321104,
          1904.2453309321104,
          0,
          0,
          0,
          227.60021805265097,
          110.02660567901106,
          0,
          1035.1056380716202,
          1582.3825944185037,
          757.7804892701604,
          0,
          221.39092613089713,
          797.1876101007084,
          675.374549259956,
          0,
          1035.1056380716202,
          1035.1056380716202,
          472.10765520872235,
          0,
          0,
          62.12916995476655,
          0,
          0,
          0,
          151.37079816389263,
          0,
          0,
          0
         ],
         "yaxis": "y"
        },
        {
         "line": {
          "color": "blue"
         },
         "mode": "lines",
         "name": "DEMAND_EXO",
         "showlegend": true,
         "stackgroup": "one",
         "type": "scatter",
         "x": [
          "2012-01-12T00:00:00",
          "2012-01-12T03:00:00",
          "2012-01-12T06:00:00",
          "2012-01-12T09:00:00",
          "2012-01-12T12:00:00",
          "2012-01-12T15:00:00",
          "2012-01-12T18:00:00",
          "2012-01-12T21:00:00",
          "2012-01-13T00:00:00",
          "2012-01-13T03:00:00",
          "2012-01-13T06:00:00",
          "2012-01-13T09:00:00",
          "2012-01-13T12:00:00",
          "2012-01-13T15:00:00",
          "2012-01-13T18:00:00",
          "2012-01-13T21:00:00",
          "2012-01-14T00:00:00",
          "2012-01-14T03:00:00",
          "2012-01-14T06:00:00",
          "2012-01-14T09:00:00",
          "2012-01-14T12:00:00",
          "2012-01-14T15:00:00",
          "2012-01-14T18:00:00",
          "2012-01-14T21:00:00",
          "2012-02-23T00:00:00",
          "2012-02-23T03:00:00",
          "2012-02-23T06:00:00",
          "2012-02-23T09:00:00",
          "2012-02-23T12:00:00",
          "2012-02-23T15:00:00",
          "2012-02-23T18:00:00",
          "2012-02-23T21:00:00",
          "2012-02-24T00:00:00",
          "2012-02-24T03:00:00",
          "2012-02-24T06:00:00",
          "2012-02-24T09:00:00",
          "2012-02-24T12:00:00",
          "2012-02-24T15:00:00",
          "2012-02-24T18:00:00",
          "2012-02-24T21:00:00",
          "2012-02-25T00:00:00",
          "2012-02-25T03:00:00",
          "2012-02-25T06:00:00",
          "2012-02-25T09:00:00",
          "2012-02-25T12:00:00",
          "2012-02-25T15:00:00",
          "2012-02-25T18:00:00",
          "2012-02-25T21:00:00",
          "2012-04-12T00:00:00",
          "2012-04-12T03:00:00",
          "2012-04-12T06:00:00",
          "2012-04-12T09:00:00",
          "2012-04-12T12:00:00",
          "2012-04-12T15:00:00",
          "2012-04-12T18:00:00",
          "2012-04-12T21:00:00",
          "2012-04-13T00:00:00",
          "2012-04-13T03:00:00",
          "2012-04-13T06:00:00",
          "2012-04-13T09:00:00",
          "2012-04-13T12:00:00",
          "2012-04-13T15:00:00",
          "2012-04-13T18:00:00",
          "2012-04-13T21:00:00",
          "2012-04-14T00:00:00",
          "2012-04-14T03:00:00",
          "2012-04-14T06:00:00",
          "2012-04-14T09:00:00",
          "2012-04-14T12:00:00",
          "2012-04-14T15:00:00",
          "2012-04-14T18:00:00",
          "2012-04-14T21:00:00",
          "2012-05-24T00:00:00",
          "2012-05-24T03:00:00",
          "2012-05-24T06:00:00",
          "2012-05-24T09:00:00",
          "2012-05-24T12:00:00",
          "2012-05-24T15:00:00",
          "2012-05-24T18:00:00",
          "2012-05-24T21:00:00",
          "2012-05-25T00:00:00",
          "2012-05-25T03:00:00",
          "2012-05-25T06:00:00",
          "2012-05-25T09:00:00",
          "2012-05-25T12:00:00",
          "2012-05-25T15:00:00",
          "2012-05-25T18:00:00",
          "2012-05-25T21:00:00",
          "2012-05-26T00:00:00",
          "2012-05-26T03:00:00",
          "2012-05-26T06:00:00",
          "2012-05-26T09:00:00",
          "2012-05-26T12:00:00",
          "2012-05-26T15:00:00",
          "2012-05-26T18:00:00",
          "2012-05-26T21:00:00",
          "2012-07-12T00:00:00",
          "2012-07-12T03:00:00",
          "2012-07-12T06:00:00",
          "2012-07-12T09:00:00",
          "2012-07-12T12:00:00",
          "2012-07-12T15:00:00",
          "2012-07-12T18:00:00",
          "2012-07-12T21:00:00",
          "2012-07-13T00:00:00",
          "2012-07-13T03:00:00",
          "2012-07-13T06:00:00",
          "2012-07-13T09:00:00",
          "2012-07-13T12:00:00",
          "2012-07-13T15:00:00",
          "2012-07-13T18:00:00",
          "2012-07-13T21:00:00",
          "2012-07-14T00:00:00",
          "2012-07-14T03:00:00",
          "2012-07-14T06:00:00",
          "2012-07-14T09:00:00",
          "2012-07-14T12:00:00",
          "2012-07-14T15:00:00",
          "2012-07-14T18:00:00",
          "2012-07-14T21:00:00",
          "2012-08-23T00:00:00",
          "2012-08-23T03:00:00",
          "2012-08-23T06:00:00",
          "2012-08-23T09:00:00",
          "2012-08-23T12:00:00",
          "2012-08-23T15:00:00",
          "2012-08-23T18:00:00",
          "2012-08-23T21:00:00",
          "2012-08-24T00:00:00",
          "2012-08-24T03:00:00",
          "2012-08-24T06:00:00",
          "2012-08-24T09:00:00",
          "2012-08-24T12:00:00",
          "2012-08-24T15:00:00",
          "2012-08-24T18:00:00",
          "2012-08-24T21:00:00",
          "2012-08-25T00:00:00",
          "2012-08-25T03:00:00",
          "2012-08-25T06:00:00",
          "2012-08-25T09:00:00",
          "2012-08-25T12:00:00",
          "2012-08-25T15:00:00",
          "2012-08-25T18:00:00",
          "2012-08-25T21:00:00",
          "2012-10-11T00:00:00",
          "2012-10-11T03:00:00",
          "2012-10-11T06:00:00",
          "2012-10-11T09:00:00",
          "2012-10-11T12:00:00",
          "2012-10-11T15:00:00",
          "2012-10-11T18:00:00",
          "2012-10-11T21:00:00",
          "2012-10-12T00:00:00",
          "2012-10-12T03:00:00",
          "2012-10-12T06:00:00",
          "2012-10-12T09:00:00",
          "2012-10-12T12:00:00",
          "2012-10-12T15:00:00",
          "2012-10-12T18:00:00",
          "2012-10-12T21:00:00",
          "2012-10-13T00:00:00",
          "2012-10-13T03:00:00",
          "2012-10-13T06:00:00",
          "2012-10-13T09:00:00",
          "2012-10-13T12:00:00",
          "2012-10-13T15:00:00",
          "2012-10-13T18:00:00",
          "2012-10-13T21:00:00",
          "2012-11-22T00:00:00",
          "2012-11-22T03:00:00",
          "2012-11-22T06:00:00",
          "2012-11-22T09:00:00",
          "2012-11-22T12:00:00",
          "2012-11-22T15:00:00",
          "2012-11-22T18:00:00",
          "2012-11-22T21:00:00",
          "2012-11-23T00:00:00",
          "2012-11-23T03:00:00",
          "2012-11-23T06:00:00",
          "2012-11-23T09:00:00",
          "2012-11-23T12:00:00",
          "2012-11-23T15:00:00",
          "2012-11-23T18:00:00",
          "2012-11-23T21:00:00",
          "2012-11-24T00:00:00",
          "2012-11-24T03:00:00",
          "2012-11-24T06:00:00",
          "2012-11-24T09:00:00",
          "2012-11-24T12:00:00",
          "2012-11-24T15:00:00",
          "2012-11-24T18:00:00",
          "2012-11-24T21:00:00"
         ],
         "xaxis": "x",
         "y": [
          927.6756579800365,
          956.1377151110639,
          1116.2045763261208,
          1151.1917171121759,
          1042.942434390415,
          1073.693038730624,
          1151.1917171121759,
          1007.5193415400252,
          915.0753087737044,
          948.6181098937284,
          1110.006172773142,
          1132.402050631234,
          1032.2473641799518,
          1059.4022749834783,
          1132.402050631234,
          997.1558731657325,
          903.3130740983337,
          922.0088017117495,
          966.3073369645643,
          1097.8836576955014,
          1097.8836576955014,
          1047.187666688603,
          1123.2966650474525,
          1004.6384906544985,
          836.6205007221785,
          878.7929000761437,
          997.1558731657325,
          1024.0249921198804,
          969.7303971277504,
          986.5121498929423,
          1024.0249921198804,
          956.1377151110639,
          1016.8497426554883,
          1066.9699026017315,
          1209.098640155818,
          1266.2452972514038,
          1178.4697185930054,
          1199.3054540602127,
          1266.2452972514038,
          1169.357175198797,
          1080.4161748595166,
          1087.005394862262,
          1159.6355672075404,
          1340.910370032435,
          1340.910370032435,
          1226.671715484592,
          1415.0835060235536,
          1187.6174003293568,
          595.3419031599277,
          582.2071908690934,
          708.3591631324016,
          854.9861408791529,
          739.4720946537386,
          664.3333049638981,
          786.4019534179512,
          739.4720946537386,
          653.2264654403933,
          640.6656794044618,
          795.0682398670236,
          943.5894227078946,
          827.3720890717086,
          758.5665300550434,
          884.3383693443176,
          827.3720890717086,
          627.4302371995017,
          617.450948032572,
          777.85045221986,
          909.2482595247643,
          806.5378206598657,
          719.5097303705647,
          874.2126704184856,
          806.5378206598657,
          313.30332188838827,
          303.81196250745194,
          357.6544441640821,
          392.9550083140168,
          366.52023831128844,
          348.71290736826995,
          381.1063248960423,
          366.52023831128844,
          299.19402646483,
          323.69440776667653,
          420.12768350162366,
          376.2086600905262,
          323.69440776667653,
          316.9423341795534,
          388.7087739223663,
          342.7606851698987,
          284.17548564318673,
          279.29395903552916,
          330.6517995098162,
          366.52023831128844,
          336.0839269201912,
          308.84686101639494,
          353.06485611294937,
          336.0839269201912,
          154.40852333274523,
          193.9280417432531,
          274.0556431077106,
          235.88915673047433,
          179.70216680125398,
          160.53537244355402,
          252.13810219971379,
          196.17534470630372,
          167.38969171642486,
          199.66074513510864,
          292.62040053679556,
          242.76169588445342,
          186.31981691718516,
          174.37792711544057,
          259.0867093573197,
          204.60926484407165,
          189.68883856935767,
          179.70216680125398,
          229.846677002136,
          266.1846544690072,
          208.41721999566616,
          182.77687821807194,
          229.846677002136,
          225.29443601903958,
          142.15151240547127,
          167.38969171642486,
          269.8402749755481,
          210.74119724459376,
          150.191034944425,
          147.17108965075562,
          222.3772929007002,
          174.37792711544057,
          164.10726130948734,
          199.66074513510864,
          292.62040053679556,
          242.76169588445342,
          186.31981691718516,
          174.37792711544057,
          259.0867093573197,
          204.60926484407165,
          170.2626025695516,
          154.40852333274523,
          217.8264871679256,
          248.1127348129732,
          191.7196413677273,
          160.53537244355402,
          217.8264871679256,
          213.39515179841774,
          434.98144157501105,
          484.6123977135013,
          571.7125393508223,
          546.3367999375006,
          484.6123977135013,
          462.1199544855404,
          556.7740588302805,
          516.2876610199528,
          384.91320828992474,
          413.7635618482033,
          534.4541839048143,
          497.11852410610993,
          413.7635618482033,
          407.23421900018764,
          506.7885958622298,
          424.7874180950229,
          402.6854008908077,
          397.41464957024635,
          442.5026084964383,
          525.2245127034793,
          453.33146469103553,
          429.39054091498,
          469.4013998283888,
          453.33146469103553,
          607.0827945459936,
          691.3351687661121,
          981.4466916743204,
          889.8093027352351,
          691.3351687661121,
          675.2652336287595,
          934.1134281788494,
          739.4720946537386,
          767.3120729869338,
          865.8087502573701,
          1141.2523578794946,
          990.3097528393604,
          865.8087502573701,
          849.1063249615539,
          1037.1394022574834,
          896.3634908756744,
          842.6174444469067,
          817.1480027878862,
          962.0933196097446,
          1053.8597871503912,
          975.5106544092982,
          938.9199274639003,
          1012.6354841551823,
          975.5106544092982
         ],
         "yaxis": "y"
        }
       ],
       "layout": {
        "annotations": [
         {
          "font": {
           "size": 16
          },
          "showarrow": false,
          "text": "DayAhead TEST2 2045",
          "x": 0.5,
          "xanchor": "center",
          "xref": "paper",
          "y": 1,
          "yanchor": "bottom",
          "yref": "paper"
         }
        ],
        "height": 500,
        "legend": {
         "orientation": "h"
        },
        "template": {
         "data": {
          "bar": [
           {
            "error_x": {
             "color": "#2a3f5f"
            },
            "error_y": {
             "color": "#2a3f5f"
            },
            "marker": {
             "line": {
              "color": "#E5ECF6",
              "width": 0.5
             }
            },
            "type": "bar"
           }
          ],
          "barpolar": [
           {
            "marker": {
             "line": {
              "color": "#E5ECF6",
              "width": 0.5
             }
            },
            "type": "barpolar"
           }
          ],
          "carpet": [
           {
            "aaxis": {
             "endlinecolor": "#2a3f5f",
             "gridcolor": "white",
             "linecolor": "white",
             "minorgridcolor": "white",
             "startlinecolor": "#2a3f5f"
            },
            "baxis": {
             "endlinecolor": "#2a3f5f",
             "gridcolor": "white",
             "linecolor": "white",
             "minorgridcolor": "white",
             "startlinecolor": "#2a3f5f"
            },
            "type": "carpet"
           }
          ],
          "choropleth": [
           {
            "colorbar": {
             "outlinewidth": 0,
             "ticks": ""
            },
            "type": "choropleth"
           }
          ],
          "contour": [
           {
            "colorbar": {
             "outlinewidth": 0,
             "ticks": ""
            },
            "colorscale": [
             [
              0,
              "#0d0887"
             ],
             [
              0.1111111111111111,
              "#46039f"
             ],
             [
              0.2222222222222222,
              "#7201a8"
             ],
             [
              0.3333333333333333,
              "#9c179e"
             ],
             [
              0.4444444444444444,
              "#bd3786"
             ],
             [
              0.5555555555555556,
              "#d8576b"
             ],
             [
              0.6666666666666666,
              "#ed7953"
             ],
             [
              0.7777777777777778,
              "#fb9f3a"
             ],
             [
              0.8888888888888888,
              "#fdca26"
             ],
             [
              1,
              "#f0f921"
             ]
            ],
            "type": "contour"
           }
          ],
          "contourcarpet": [
           {
            "colorbar": {
             "outlinewidth": 0,
             "ticks": ""
            },
            "type": "contourcarpet"
           }
          ],
          "heatmap": [
           {
            "colorbar": {
             "outlinewidth": 0,
             "ticks": ""
            },
            "colorscale": [
             [
              0,
              "#0d0887"
             ],
             [
              0.1111111111111111,
              "#46039f"
             ],
             [
              0.2222222222222222,
              "#7201a8"
             ],
             [
              0.3333333333333333,
              "#9c179e"
             ],
             [
              0.4444444444444444,
              "#bd3786"
             ],
             [
              0.5555555555555556,
              "#d8576b"
             ],
             [
              0.6666666666666666,
              "#ed7953"
             ],
             [
              0.7777777777777778,
              "#fb9f3a"
             ],
             [
              0.8888888888888888,
              "#fdca26"
             ],
             [
              1,
              "#f0f921"
             ]
            ],
            "type": "heatmap"
           }
          ],
          "heatmapgl": [
           {
            "colorbar": {
             "outlinewidth": 0,
             "ticks": ""
            },
            "colorscale": [
             [
              0,
              "#0d0887"
             ],
             [
              0.1111111111111111,
              "#46039f"
             ],
             [
              0.2222222222222222,
              "#7201a8"
             ],
             [
              0.3333333333333333,
              "#9c179e"
             ],
             [
              0.4444444444444444,
              "#bd3786"
             ],
             [
              0.5555555555555556,
              "#d8576b"
             ],
             [
              0.6666666666666666,
              "#ed7953"
             ],
             [
              0.7777777777777778,
              "#fb9f3a"
             ],
             [
              0.8888888888888888,
              "#fdca26"
             ],
             [
              1,
              "#f0f921"
             ]
            ],
            "type": "heatmapgl"
           }
          ],
          "histogram": [
           {
            "marker": {
             "colorbar": {
              "outlinewidth": 0,
              "ticks": ""
             }
            },
            "type": "histogram"
           }
          ],
          "histogram2d": [
           {
            "colorbar": {
             "outlinewidth": 0,
             "ticks": ""
            },
            "colorscale": [
             [
              0,
              "#0d0887"
             ],
             [
              0.1111111111111111,
              "#46039f"
             ],
             [
              0.2222222222222222,
              "#7201a8"
             ],
             [
              0.3333333333333333,
              "#9c179e"
             ],
             [
              0.4444444444444444,
              "#bd3786"
             ],
             [
              0.5555555555555556,
              "#d8576b"
             ],
             [
              0.6666666666666666,
              "#ed7953"
             ],
             [
              0.7777777777777778,
              "#fb9f3a"
             ],
             [
              0.8888888888888888,
              "#fdca26"
             ],
             [
              1,
              "#f0f921"
             ]
            ],
            "type": "histogram2d"
           }
          ],
          "histogram2dcontour": [
           {
            "colorbar": {
             "outlinewidth": 0,
             "ticks": ""
            },
            "colorscale": [
             [
              0,
              "#0d0887"
             ],
             [
              0.1111111111111111,
              "#46039f"
             ],
             [
              0.2222222222222222,
              "#7201a8"
             ],
             [
              0.3333333333333333,
              "#9c179e"
             ],
             [
              0.4444444444444444,
              "#bd3786"
             ],
             [
              0.5555555555555556,
              "#d8576b"
             ],
             [
              0.6666666666666666,
              "#ed7953"
             ],
             [
              0.7777777777777778,
              "#fb9f3a"
             ],
             [
              0.8888888888888888,
              "#fdca26"
             ],
             [
              1,
              "#f0f921"
             ]
            ],
            "type": "histogram2dcontour"
           }
          ],
          "mesh3d": [
           {
            "colorbar": {
             "outlinewidth": 0,
             "ticks": ""
            },
            "type": "mesh3d"
           }
          ],
          "parcoords": [
           {
            "line": {
             "colorbar": {
              "outlinewidth": 0,
              "ticks": ""
             }
            },
            "type": "parcoords"
           }
          ],
          "pie": [
           {
            "automargin": true,
            "type": "pie"
           }
          ],
          "scatter": [
           {
            "marker": {
             "colorbar": {
              "outlinewidth": 0,
              "ticks": ""
             }
            },
            "type": "scatter"
           }
          ],
          "scatter3d": [
           {
            "line": {
             "colorbar": {
              "outlinewidth": 0,
              "ticks": ""
             }
            },
            "marker": {
             "colorbar": {
              "outlinewidth": 0,
              "ticks": ""
             }
            },
            "type": "scatter3d"
           }
          ],
          "scattercarpet": [
           {
            "marker": {
             "colorbar": {
              "outlinewidth": 0,
              "ticks": ""
             }
            },
            "type": "scattercarpet"
           }
          ],
          "scattergeo": [
           {
            "marker": {
             "colorbar": {
              "outlinewidth": 0,
              "ticks": ""
             }
            },
            "type": "scattergeo"
           }
          ],
          "scattergl": [
           {
            "marker": {
             "colorbar": {
              "outlinewidth": 0,
              "ticks": ""
             }
            },
            "type": "scattergl"
           }
          ],
          "scattermapbox": [
           {
            "marker": {
             "colorbar": {
              "outlinewidth": 0,
              "ticks": ""
             }
            },
            "type": "scattermapbox"
           }
          ],
          "scatterpolar": [
           {
            "marker": {
             "colorbar": {
              "outlinewidth": 0,
              "ticks": ""
             }
            },
            "type": "scatterpolar"
           }
          ],
          "scatterpolargl": [
           {
            "marker": {
             "colorbar": {
              "outlinewidth": 0,
              "ticks": ""
             }
            },
            "type": "scatterpolargl"
           }
          ],
          "scatterternary": [
           {
            "marker": {
             "colorbar": {
              "outlinewidth": 0,
              "ticks": ""
             }
            },
            "type": "scatterternary"
           }
          ],
          "surface": [
           {
            "colorbar": {
             "outlinewidth": 0,
             "ticks": ""
            },
            "colorscale": [
             [
              0,
              "#0d0887"
             ],
             [
              0.1111111111111111,
              "#46039f"
             ],
             [
              0.2222222222222222,
              "#7201a8"
             ],
             [
              0.3333333333333333,
              "#9c179e"
             ],
             [
              0.4444444444444444,
              "#bd3786"
             ],
             [
              0.5555555555555556,
              "#d8576b"
             ],
             [
              0.6666666666666666,
              "#ed7953"
             ],
             [
              0.7777777777777778,
              "#fb9f3a"
             ],
             [
              0.8888888888888888,
              "#fdca26"
             ],
             [
              1,
              "#f0f921"
             ]
            ],
            "type": "surface"
           }
          ],
          "table": [
           {
            "cells": {
             "fill": {
              "color": "#EBF0F8"
             },
             "line": {
              "color": "white"
             }
            },
            "header": {
             "fill": {
              "color": "#C8D4E3"
             },
             "line": {
              "color": "white"
             }
            },
            "type": "table"
           }
          ]
         },
         "layout": {
          "annotationdefaults": {
           "arrowcolor": "#2a3f5f",
           "arrowhead": 0,
           "arrowwidth": 1
          },
          "coloraxis": {
           "colorbar": {
            "outlinewidth": 0,
            "ticks": ""
           }
          },
          "colorscale": {
           "diverging": [
            [
             0,
             "#8e0152"
            ],
            [
             0.1,
             "#c51b7d"
            ],
            [
             0.2,
             "#de77ae"
            ],
            [
             0.3,
             "#f1b6da"
            ],
            [
             0.4,
             "#fde0ef"
            ],
            [
             0.5,
             "#f7f7f7"
            ],
            [
             0.6,
             "#e6f5d0"
            ],
            [
             0.7,
             "#b8e186"
            ],
            [
             0.8,
             "#7fbc41"
            ],
            [
             0.9,
             "#4d9221"
            ],
            [
             1,
             "#276419"
            ]
           ],
           "sequential": [
            [
             0,
             "#0d0887"
            ],
            [
             0.1111111111111111,
             "#46039f"
            ],
            [
             0.2222222222222222,
             "#7201a8"
            ],
            [
             0.3333333333333333,
             "#9c179e"
            ],
            [
             0.4444444444444444,
             "#bd3786"
            ],
            [
             0.5555555555555556,
             "#d8576b"
            ],
            [
             0.6666666666666666,
             "#ed7953"
            ],
            [
             0.7777777777777778,
             "#fb9f3a"
            ],
            [
             0.8888888888888888,
             "#fdca26"
            ],
            [
             1,
             "#f0f921"
            ]
           ],
           "sequentialminus": [
            [
             0,
             "#0d0887"
            ],
            [
             0.1111111111111111,
             "#46039f"
            ],
            [
             0.2222222222222222,
             "#7201a8"
            ],
            [
             0.3333333333333333,
             "#9c179e"
            ],
            [
             0.4444444444444444,
             "#bd3786"
            ],
            [
             0.5555555555555556,
             "#d8576b"
            ],
            [
             0.6666666666666666,
             "#ed7953"
            ],
            [
             0.7777777777777778,
             "#fb9f3a"
            ],
            [
             0.8888888888888888,
             "#fdca26"
            ],
            [
             1,
             "#f0f921"
            ]
           ]
          },
          "colorway": [
           "#636efa",
           "#EF553B",
           "#00cc96",
           "#ab63fa",
           "#FFA15A",
           "#19d3f3",
           "#FF6692",
           "#B6E880",
           "#FF97FF",
           "#FECB52"
          ],
          "font": {
           "color": "#2a3f5f"
          },
          "geo": {
           "bgcolor": "white",
           "lakecolor": "white",
           "landcolor": "#E5ECF6",
           "showlakes": true,
           "showland": true,
           "subunitcolor": "white"
          },
          "hoverlabel": {
           "align": "left"
          },
          "hovermode": "closest",
          "mapbox": {
           "style": "light"
          },
          "paper_bgcolor": "white",
          "plot_bgcolor": "#E5ECF6",
          "polar": {
           "angularaxis": {
            "gridcolor": "white",
            "linecolor": "white",
            "ticks": ""
           },
           "bgcolor": "#E5ECF6",
           "radialaxis": {
            "gridcolor": "white",
            "linecolor": "white",
            "ticks": ""
           }
          },
          "scene": {
           "xaxis": {
            "backgroundcolor": "#E5ECF6",
            "gridcolor": "white",
            "gridwidth": 2,
            "linecolor": "white",
            "showbackground": true,
            "ticks": "",
            "zerolinecolor": "white"
           },
           "yaxis": {
            "backgroundcolor": "#E5ECF6",
            "gridcolor": "white",
            "gridwidth": 2,
            "linecolor": "white",
            "showbackground": true,
            "ticks": "",
            "zerolinecolor": "white"
           },
           "zaxis": {
            "backgroundcolor": "#E5ECF6",
            "gridcolor": "white",
            "gridwidth": 2,
            "linecolor": "white",
            "showbackground": true,
            "ticks": "",
            "zerolinecolor": "white"
           }
          },
          "shapedefaults": {
           "line": {
            "color": "#2a3f5f"
           }
          },
          "ternary": {
           "aaxis": {
            "gridcolor": "white",
            "linecolor": "white",
            "ticks": ""
           },
           "baxis": {
            "gridcolor": "white",
            "linecolor": "white",
            "ticks": ""
           },
           "bgcolor": "#E5ECF6",
           "caxis": {
            "gridcolor": "white",
            "linecolor": "white",
            "ticks": ""
           }
          },
          "title": {
           "x": 0.05
          },
          "xaxis": {
           "automargin": true,
           "gridcolor": "white",
           "linecolor": "white",
           "ticks": "",
           "title": {
            "standoff": 15
           },
           "zerolinecolor": "white",
           "zerolinewidth": 2
          },
          "yaxis": {
           "automargin": true,
           "gridcolor": "white",
           "linecolor": "white",
           "ticks": "",
           "title": {
            "standoff": 15
           },
           "zerolinecolor": "white",
           "zerolinewidth": 2
          }
         }
        },
        "title": {
         "text": "Heat demand"
        },
        "width": 1000,
        "xaxis": {
         "anchor": "y",
         "domain": [
          0,
          1
         ]
        },
        "yaxis": {
         "anchor": "x",
         "domain": [
          0,
          1
         ],
         "title": {
          "text": "Energy (MWh/h)"
         }
        }
       }
      },
      "text/html": [
       "<div>\n",
       "        \n",
       "        \n",
       "            <div id=\"01736950-584a-4212-a55d-5ec4f6ac1396\" class=\"plotly-graph-div\" style=\"height:500px; width:1000px;\"></div>\n",
       "            <script type=\"text/javascript\">\n",
       "                require([\"plotly\"], function(Plotly) {\n",
       "                    window.PLOTLYENV=window.PLOTLYENV || {};\n",
       "                    \n",
       "                if (document.getElementById(\"01736950-584a-4212-a55d-5ec4f6ac1396\")) {\n",
       "                    Plotly.newPlot(\n",
       "                        '01736950-584a-4212-a55d-5ec4f6ac1396',\n",
       "                        [{\"line\": {\"color\": \"red\"}, \"mode\": \"lines\", \"name\": \"DEMAND_HEATSTO\", \"showlegend\": true, \"stackgroup\": \"one\", \"type\": \"scatter\", \"x\": [\"2012-01-12T00:00:00\", \"2012-01-12T03:00:00\", \"2012-01-12T06:00:00\", \"2012-01-12T09:00:00\", \"2012-01-12T12:00:00\", \"2012-01-12T15:00:00\", \"2012-01-12T18:00:00\", \"2012-01-12T21:00:00\", \"2012-01-13T00:00:00\", \"2012-01-13T03:00:00\", \"2012-01-13T06:00:00\", \"2012-01-13T09:00:00\", \"2012-01-13T12:00:00\", \"2012-01-13T15:00:00\", \"2012-01-13T18:00:00\", \"2012-01-13T21:00:00\", \"2012-01-14T00:00:00\", \"2012-01-14T03:00:00\", \"2012-01-14T06:00:00\", \"2012-01-14T09:00:00\", \"2012-01-14T12:00:00\", \"2012-01-14T15:00:00\", \"2012-01-14T18:00:00\", \"2012-01-14T21:00:00\", \"2012-02-23T00:00:00\", \"2012-02-23T03:00:00\", \"2012-02-23T06:00:00\", \"2012-02-23T09:00:00\", \"2012-02-23T12:00:00\", \"2012-02-23T15:00:00\", \"2012-02-23T18:00:00\", \"2012-02-23T21:00:00\", \"2012-02-24T00:00:00\", \"2012-02-24T03:00:00\", \"2012-02-24T06:00:00\", \"2012-02-24T09:00:00\", \"2012-02-24T12:00:00\", \"2012-02-24T15:00:00\", \"2012-02-24T18:00:00\", \"2012-02-24T21:00:00\", \"2012-02-25T00:00:00\", \"2012-02-25T03:00:00\", \"2012-02-25T06:00:00\", \"2012-02-25T09:00:00\", \"2012-02-25T12:00:00\", \"2012-02-25T15:00:00\", \"2012-02-25T18:00:00\", \"2012-02-25T21:00:00\", \"2012-04-12T00:00:00\", \"2012-04-12T03:00:00\", \"2012-04-12T06:00:00\", \"2012-04-12T09:00:00\", \"2012-04-12T12:00:00\", \"2012-04-12T15:00:00\", \"2012-04-12T18:00:00\", \"2012-04-12T21:00:00\", \"2012-04-13T00:00:00\", \"2012-04-13T03:00:00\", \"2012-04-13T06:00:00\", \"2012-04-13T09:00:00\", \"2012-04-13T12:00:00\", \"2012-04-13T15:00:00\", \"2012-04-13T18:00:00\", \"2012-04-13T21:00:00\", \"2012-04-14T00:00:00\", \"2012-04-14T03:00:00\", \"2012-04-14T06:00:00\", \"2012-04-14T09:00:00\", \"2012-04-14T12:00:00\", \"2012-04-14T15:00:00\", \"2012-04-14T18:00:00\", \"2012-04-14T21:00:00\", \"2012-05-24T00:00:00\", \"2012-05-24T03:00:00\", \"2012-05-24T06:00:00\", \"2012-05-24T09:00:00\", \"2012-05-24T12:00:00\", \"2012-05-24T15:00:00\", \"2012-05-24T18:00:00\", \"2012-05-24T21:00:00\", \"2012-05-25T00:00:00\", \"2012-05-25T03:00:00\", \"2012-05-25T06:00:00\", \"2012-05-25T09:00:00\", \"2012-05-25T12:00:00\", \"2012-05-25T15:00:00\", \"2012-05-25T18:00:00\", \"2012-05-25T21:00:00\", \"2012-05-26T00:00:00\", \"2012-05-26T03:00:00\", \"2012-05-26T06:00:00\", \"2012-05-26T09:00:00\", \"2012-05-26T12:00:00\", \"2012-05-26T15:00:00\", \"2012-05-26T18:00:00\", \"2012-05-26T21:00:00\", \"2012-07-12T00:00:00\", \"2012-07-12T03:00:00\", \"2012-07-12T06:00:00\", \"2012-07-12T09:00:00\", \"2012-07-12T12:00:00\", \"2012-07-12T15:00:00\", \"2012-07-12T18:00:00\", \"2012-07-12T21:00:00\", \"2012-07-13T00:00:00\", \"2012-07-13T03:00:00\", \"2012-07-13T06:00:00\", \"2012-07-13T09:00:00\", \"2012-07-13T12:00:00\", \"2012-07-13T15:00:00\", \"2012-07-13T18:00:00\", \"2012-07-13T21:00:00\", \"2012-07-14T00:00:00\", \"2012-07-14T03:00:00\", \"2012-07-14T06:00:00\", \"2012-07-14T09:00:00\", \"2012-07-14T12:00:00\", \"2012-07-14T15:00:00\", \"2012-07-14T18:00:00\", \"2012-07-14T21:00:00\", \"2012-08-23T00:00:00\", \"2012-08-23T03:00:00\", \"2012-08-23T06:00:00\", \"2012-08-23T09:00:00\", \"2012-08-23T12:00:00\", \"2012-08-23T15:00:00\", \"2012-08-23T18:00:00\", \"2012-08-23T21:00:00\", \"2012-08-24T00:00:00\", \"2012-08-24T03:00:00\", \"2012-08-24T06:00:00\", \"2012-08-24T09:00:00\", \"2012-08-24T12:00:00\", \"2012-08-24T15:00:00\", \"2012-08-24T18:00:00\", \"2012-08-24T21:00:00\", \"2012-08-25T00:00:00\", \"2012-08-25T03:00:00\", \"2012-08-25T06:00:00\", \"2012-08-25T09:00:00\", \"2012-08-25T12:00:00\", \"2012-08-25T15:00:00\", \"2012-08-25T18:00:00\", \"2012-08-25T21:00:00\", \"2012-10-11T00:00:00\", \"2012-10-11T03:00:00\", \"2012-10-11T06:00:00\", \"2012-10-11T09:00:00\", \"2012-10-11T12:00:00\", \"2012-10-11T15:00:00\", \"2012-10-11T18:00:00\", \"2012-10-11T21:00:00\", \"2012-10-12T00:00:00\", \"2012-10-12T03:00:00\", \"2012-10-12T06:00:00\", \"2012-10-12T09:00:00\", \"2012-10-12T12:00:00\", \"2012-10-12T15:00:00\", \"2012-10-12T18:00:00\", \"2012-10-12T21:00:00\", \"2012-10-13T00:00:00\", \"2012-10-13T03:00:00\", \"2012-10-13T06:00:00\", \"2012-10-13T09:00:00\", \"2012-10-13T12:00:00\", \"2012-10-13T15:00:00\", \"2012-10-13T18:00:00\", \"2012-10-13T21:00:00\", \"2012-11-22T00:00:00\", \"2012-11-22T03:00:00\", \"2012-11-22T06:00:00\", \"2012-11-22T09:00:00\", \"2012-11-22T12:00:00\", \"2012-11-22T15:00:00\", \"2012-11-22T18:00:00\", \"2012-11-22T21:00:00\", \"2012-11-23T00:00:00\", \"2012-11-23T03:00:00\", \"2012-11-23T06:00:00\", \"2012-11-23T09:00:00\", \"2012-11-23T12:00:00\", \"2012-11-23T15:00:00\", \"2012-11-23T18:00:00\", \"2012-11-23T21:00:00\", \"2012-11-24T00:00:00\", \"2012-11-24T03:00:00\", \"2012-11-24T06:00:00\", \"2012-11-24T09:00:00\", \"2012-11-24T12:00:00\", \"2012-11-24T15:00:00\", \"2012-11-24T18:00:00\", \"2012-11-24T21:00:00\"], \"xaxis\": \"x\", \"y\": [633.7008405231402, 514.7229262678107, 0.0, 544.0541272971244, 1035.1056380716202, 1035.1056380716202, 0.0, 277.3322843460568, 1035.1056380716202, 1035.1056380716202, 0.0, 408.02840536601786, 1035.1056380716202, 0.0, 0.0, 0.0, 367.4253578410865, 118.95119659582411, 0.0, 0.0, 14.892865381826482, 0.0, 0.0, 0.0, 1151.3350328679678, 843.0603428891917, 0.0, 59.036563220293715, 733.2252393495752, 614.286561605421, 0.0, 0.0, 613.7289457211361, 381.91091621199155, 0.0, 431.61034152819127, 977.7034782673024, 857.4865757891599, 0.0, 0.0, 1020.01289253354, 792.2900646981268, 0.0, 169.3701499431528, 843.4149732756888, 0.0, 0.0, 0.0, 299.70527175726534, 14.826735069031542, 0.0, 1035.1056380716202, 1035.1056380716202, 453.4232970190907, 0.0, 0.0, 0.0, 0.0, 0.0, 1069.6012796382813, 1327.2525596481955, 527.2914960977803, 0.0, 341.71370347476795, 0.0, 0.0, 0.0, 1286.2670511615643, 1666.4645805486443, 0.0, 0.0, 422.78840428469334, 1008.9966759703, 931.7889429019176, 625.172257000866, 1432.0475154490769, 1540.0953688660197, 1870.5099860976402, 1173.728080853983, 1384.7819318212864, 1035.1056380716202, 1447.3068289488033, 1142.0846879095484, 1783.7984270936015, 1888.904491923665, 1639.3726215721204, 1729.3081447772959, 1454.2196513759682, 1648.6802404872565, 1507.9227592106542, 872.9243659821555, 1244.9915864971845, 1291.8824631702391, 957.024312898792, 870.6792801353627, 1403.5052049577323, 1454.6160903527398, 1473.566879023175, 734.4346695260306, 904.9113753279515, 1664.5509694712716, 1732.0738536560032, 1067.6035105369142, 1438.3940992669702, 1720.891295059811, 1904.2453309321104, 632.6175033597625, 1647.6199231803084, 1632.1477419619332, 1293.3099334942128, 1032.0729385874133, 1391.9419163693747, 620.8237423248204, 898.2575601101771, 458.49361638755795, 1904.2453309321104, 1904.2453309321104, 1045.5022794822394, 1448.7948429137743, 840.27278987896, 159.06054069702896, 191.1091978715781, 1220.5150812784718, 1258.4875961766252, 1449.753698870791, 1404.5425086224068, 855.7352112389102, 1058.6632971782108, 119.2597012086261, 973.5236702632436, 670.9748537142559, 151.7245619944619, 315.57588176394233, 950.2993222244731, 778.3725729139196, 970.6897689259358, 1154.079146694005, 1030.1517730882738, 507.72407303272234, 1144.9360931813228, 1282.905562619634, 1051.1353249311865, 787.1859054409929, 869.1396928604902, 0.0, 0.0, 0.0, 405.9368144016795, 1035.1056380716202, 721.1053368731505, 0.0, 0.0, 0.0, 0.0, 0.0, 1842.4405373152267, 1904.2453309321104, 1035.1056380716202, 0.0, 352.3119079480008, 493.0620180606834, 423.6567815628499, 0.0, 1904.2453309321104, 1904.2453309321104, 0.0, 0.0, 0.0, 227.60021805265097, 110.02660567901106, 0.0, 1035.1056380716202, 1582.3825944185037, 757.7804892701604, 0.0, 221.39092613089713, 797.1876101007084, 675.374549259956, 0.0, 1035.1056380716202, 1035.1056380716202, 472.10765520872235, 0.0, 0.0, 62.12916995476655, 0.0, 0.0, 0.0, 151.37079816389263, 0.0, 0.0, 0.0], \"yaxis\": \"y\"}, {\"line\": {\"color\": \"blue\"}, \"mode\": \"lines\", \"name\": \"DEMAND_EXO\", \"showlegend\": true, \"stackgroup\": \"one\", \"type\": \"scatter\", \"x\": [\"2012-01-12T00:00:00\", \"2012-01-12T03:00:00\", \"2012-01-12T06:00:00\", \"2012-01-12T09:00:00\", \"2012-01-12T12:00:00\", \"2012-01-12T15:00:00\", \"2012-01-12T18:00:00\", \"2012-01-12T21:00:00\", \"2012-01-13T00:00:00\", \"2012-01-13T03:00:00\", \"2012-01-13T06:00:00\", \"2012-01-13T09:00:00\", \"2012-01-13T12:00:00\", \"2012-01-13T15:00:00\", \"2012-01-13T18:00:00\", \"2012-01-13T21:00:00\", \"2012-01-14T00:00:00\", \"2012-01-14T03:00:00\", \"2012-01-14T06:00:00\", \"2012-01-14T09:00:00\", \"2012-01-14T12:00:00\", \"2012-01-14T15:00:00\", \"2012-01-14T18:00:00\", \"2012-01-14T21:00:00\", \"2012-02-23T00:00:00\", \"2012-02-23T03:00:00\", \"2012-02-23T06:00:00\", \"2012-02-23T09:00:00\", \"2012-02-23T12:00:00\", \"2012-02-23T15:00:00\", \"2012-02-23T18:00:00\", \"2012-02-23T21:00:00\", \"2012-02-24T00:00:00\", \"2012-02-24T03:00:00\", \"2012-02-24T06:00:00\", \"2012-02-24T09:00:00\", \"2012-02-24T12:00:00\", \"2012-02-24T15:00:00\", \"2012-02-24T18:00:00\", \"2012-02-24T21:00:00\", \"2012-02-25T00:00:00\", \"2012-02-25T03:00:00\", \"2012-02-25T06:00:00\", \"2012-02-25T09:00:00\", \"2012-02-25T12:00:00\", \"2012-02-25T15:00:00\", \"2012-02-25T18:00:00\", \"2012-02-25T21:00:00\", \"2012-04-12T00:00:00\", \"2012-04-12T03:00:00\", \"2012-04-12T06:00:00\", \"2012-04-12T09:00:00\", \"2012-04-12T12:00:00\", \"2012-04-12T15:00:00\", \"2012-04-12T18:00:00\", \"2012-04-12T21:00:00\", \"2012-04-13T00:00:00\", \"2012-04-13T03:00:00\", \"2012-04-13T06:00:00\", \"2012-04-13T09:00:00\", \"2012-04-13T12:00:00\", \"2012-04-13T15:00:00\", \"2012-04-13T18:00:00\", \"2012-04-13T21:00:00\", \"2012-04-14T00:00:00\", \"2012-04-14T03:00:00\", \"2012-04-14T06:00:00\", \"2012-04-14T09:00:00\", \"2012-04-14T12:00:00\", \"2012-04-14T15:00:00\", \"2012-04-14T18:00:00\", \"2012-04-14T21:00:00\", \"2012-05-24T00:00:00\", \"2012-05-24T03:00:00\", \"2012-05-24T06:00:00\", \"2012-05-24T09:00:00\", \"2012-05-24T12:00:00\", \"2012-05-24T15:00:00\", \"2012-05-24T18:00:00\", \"2012-05-24T21:00:00\", \"2012-05-25T00:00:00\", \"2012-05-25T03:00:00\", \"2012-05-25T06:00:00\", \"2012-05-25T09:00:00\", \"2012-05-25T12:00:00\", \"2012-05-25T15:00:00\", \"2012-05-25T18:00:00\", \"2012-05-25T21:00:00\", \"2012-05-26T00:00:00\", \"2012-05-26T03:00:00\", \"2012-05-26T06:00:00\", \"2012-05-26T09:00:00\", \"2012-05-26T12:00:00\", \"2012-05-26T15:00:00\", \"2012-05-26T18:00:00\", \"2012-05-26T21:00:00\", \"2012-07-12T00:00:00\", \"2012-07-12T03:00:00\", \"2012-07-12T06:00:00\", \"2012-07-12T09:00:00\", \"2012-07-12T12:00:00\", \"2012-07-12T15:00:00\", \"2012-07-12T18:00:00\", \"2012-07-12T21:00:00\", \"2012-07-13T00:00:00\", \"2012-07-13T03:00:00\", \"2012-07-13T06:00:00\", \"2012-07-13T09:00:00\", \"2012-07-13T12:00:00\", \"2012-07-13T15:00:00\", \"2012-07-13T18:00:00\", \"2012-07-13T21:00:00\", \"2012-07-14T00:00:00\", \"2012-07-14T03:00:00\", \"2012-07-14T06:00:00\", \"2012-07-14T09:00:00\", \"2012-07-14T12:00:00\", \"2012-07-14T15:00:00\", \"2012-07-14T18:00:00\", \"2012-07-14T21:00:00\", \"2012-08-23T00:00:00\", \"2012-08-23T03:00:00\", \"2012-08-23T06:00:00\", \"2012-08-23T09:00:00\", \"2012-08-23T12:00:00\", \"2012-08-23T15:00:00\", \"2012-08-23T18:00:00\", \"2012-08-23T21:00:00\", \"2012-08-24T00:00:00\", \"2012-08-24T03:00:00\", \"2012-08-24T06:00:00\", \"2012-08-24T09:00:00\", \"2012-08-24T12:00:00\", \"2012-08-24T15:00:00\", \"2012-08-24T18:00:00\", \"2012-08-24T21:00:00\", \"2012-08-25T00:00:00\", \"2012-08-25T03:00:00\", \"2012-08-25T06:00:00\", \"2012-08-25T09:00:00\", \"2012-08-25T12:00:00\", \"2012-08-25T15:00:00\", \"2012-08-25T18:00:00\", \"2012-08-25T21:00:00\", \"2012-10-11T00:00:00\", \"2012-10-11T03:00:00\", \"2012-10-11T06:00:00\", \"2012-10-11T09:00:00\", \"2012-10-11T12:00:00\", \"2012-10-11T15:00:00\", \"2012-10-11T18:00:00\", \"2012-10-11T21:00:00\", \"2012-10-12T00:00:00\", \"2012-10-12T03:00:00\", \"2012-10-12T06:00:00\", \"2012-10-12T09:00:00\", \"2012-10-12T12:00:00\", \"2012-10-12T15:00:00\", \"2012-10-12T18:00:00\", \"2012-10-12T21:00:00\", \"2012-10-13T00:00:00\", \"2012-10-13T03:00:00\", \"2012-10-13T06:00:00\", \"2012-10-13T09:00:00\", \"2012-10-13T12:00:00\", \"2012-10-13T15:00:00\", \"2012-10-13T18:00:00\", \"2012-10-13T21:00:00\", \"2012-11-22T00:00:00\", \"2012-11-22T03:00:00\", \"2012-11-22T06:00:00\", \"2012-11-22T09:00:00\", \"2012-11-22T12:00:00\", \"2012-11-22T15:00:00\", \"2012-11-22T18:00:00\", \"2012-11-22T21:00:00\", \"2012-11-23T00:00:00\", \"2012-11-23T03:00:00\", \"2012-11-23T06:00:00\", \"2012-11-23T09:00:00\", \"2012-11-23T12:00:00\", \"2012-11-23T15:00:00\", \"2012-11-23T18:00:00\", \"2012-11-23T21:00:00\", \"2012-11-24T00:00:00\", \"2012-11-24T03:00:00\", \"2012-11-24T06:00:00\", \"2012-11-24T09:00:00\", \"2012-11-24T12:00:00\", \"2012-11-24T15:00:00\", \"2012-11-24T18:00:00\", \"2012-11-24T21:00:00\"], \"xaxis\": \"x\", \"y\": [927.6756579800365, 956.1377151110639, 1116.2045763261208, 1151.1917171121759, 1042.942434390415, 1073.693038730624, 1151.1917171121759, 1007.5193415400252, 915.0753087737044, 948.6181098937284, 1110.006172773142, 1132.402050631234, 1032.2473641799518, 1059.4022749834783, 1132.402050631234, 997.1558731657325, 903.3130740983337, 922.0088017117495, 966.3073369645643, 1097.8836576955014, 1097.8836576955014, 1047.187666688603, 1123.2966650474525, 1004.6384906544985, 836.6205007221785, 878.7929000761437, 997.1558731657325, 1024.0249921198804, 969.7303971277504, 986.5121498929423, 1024.0249921198804, 956.1377151110639, 1016.8497426554883, 1066.9699026017315, 1209.098640155818, 1266.2452972514038, 1178.4697185930054, 1199.3054540602127, 1266.2452972514038, 1169.357175198797, 1080.4161748595166, 1087.005394862262, 1159.6355672075404, 1340.910370032435, 1340.910370032435, 1226.671715484592, 1415.0835060235536, 1187.6174003293568, 595.3419031599277, 582.2071908690934, 708.3591631324016, 854.9861408791529, 739.4720946537386, 664.3333049638981, 786.4019534179512, 739.4720946537386, 653.2264654403933, 640.6656794044618, 795.0682398670236, 943.5894227078946, 827.3720890717086, 758.5665300550434, 884.3383693443176, 827.3720890717086, 627.4302371995017, 617.450948032572, 777.85045221986, 909.2482595247643, 806.5378206598657, 719.5097303705647, 874.2126704184856, 806.5378206598657, 313.30332188838827, 303.81196250745194, 357.6544441640821, 392.9550083140168, 366.52023831128844, 348.71290736826995, 381.1063248960423, 366.52023831128844, 299.19402646483, 323.69440776667653, 420.12768350162366, 376.2086600905262, 323.69440776667653, 316.9423341795534, 388.7087739223663, 342.7606851698987, 284.17548564318673, 279.29395903552916, 330.6517995098162, 366.52023831128844, 336.0839269201912, 308.84686101639494, 353.06485611294937, 336.0839269201912, 154.40852333274523, 193.9280417432531, 274.0556431077106, 235.88915673047433, 179.70216680125398, 160.53537244355402, 252.13810219971379, 196.17534470630372, 167.38969171642486, 199.66074513510864, 292.62040053679556, 242.76169588445342, 186.31981691718516, 174.37792711544057, 259.0867093573197, 204.60926484407165, 189.68883856935767, 179.70216680125398, 229.846677002136, 266.1846544690072, 208.41721999566616, 182.77687821807194, 229.846677002136, 225.29443601903958, 142.15151240547127, 167.38969171642486, 269.8402749755481, 210.74119724459376, 150.191034944425, 147.17108965075562, 222.3772929007002, 174.37792711544057, 164.10726130948734, 199.66074513510864, 292.62040053679556, 242.76169588445342, 186.31981691718516, 174.37792711544057, 259.0867093573197, 204.60926484407165, 170.2626025695516, 154.40852333274523, 217.8264871679256, 248.1127348129732, 191.7196413677273, 160.53537244355402, 217.8264871679256, 213.39515179841774, 434.98144157501105, 484.6123977135013, 571.7125393508223, 546.3367999375006, 484.6123977135013, 462.1199544855404, 556.7740588302805, 516.2876610199528, 384.91320828992474, 413.7635618482033, 534.4541839048143, 497.11852410610993, 413.7635618482033, 407.23421900018764, 506.7885958622298, 424.7874180950229, 402.6854008908077, 397.41464957024635, 442.5026084964383, 525.2245127034793, 453.33146469103553, 429.39054091498, 469.4013998283888, 453.33146469103553, 607.0827945459936, 691.3351687661121, 981.4466916743204, 889.8093027352351, 691.3351687661121, 675.2652336287595, 934.1134281788494, 739.4720946537386, 767.3120729869338, 865.8087502573701, 1141.2523578794946, 990.3097528393604, 865.8087502573701, 849.1063249615539, 1037.1394022574834, 896.3634908756744, 842.6174444469067, 817.1480027878862, 962.0933196097446, 1053.8597871503912, 975.5106544092982, 938.9199274639003, 1012.6354841551823, 975.5106544092982], \"yaxis\": \"y\"}],\n",
       "                        {\"annotations\": [{\"font\": {\"size\": 16}, \"showarrow\": false, \"text\": \"DayAhead TEST2 2045\", \"x\": 0.5, \"xanchor\": \"center\", \"xref\": \"paper\", \"y\": 1.0, \"yanchor\": \"bottom\", \"yref\": \"paper\"}], \"height\": 500, \"legend\": {\"orientation\": \"h\"}, \"template\": {\"data\": {\"bar\": [{\"error_x\": {\"color\": \"#2a3f5f\"}, \"error_y\": {\"color\": \"#2a3f5f\"}, \"marker\": {\"line\": {\"color\": \"#E5ECF6\", \"width\": 0.5}}, \"type\": \"bar\"}], \"barpolar\": [{\"marker\": {\"line\": {\"color\": \"#E5ECF6\", \"width\": 0.5}}, \"type\": \"barpolar\"}], \"carpet\": [{\"aaxis\": {\"endlinecolor\": \"#2a3f5f\", \"gridcolor\": \"white\", \"linecolor\": \"white\", \"minorgridcolor\": \"white\", \"startlinecolor\": \"#2a3f5f\"}, \"baxis\": {\"endlinecolor\": \"#2a3f5f\", \"gridcolor\": \"white\", \"linecolor\": \"white\", \"minorgridcolor\": \"white\", \"startlinecolor\": \"#2a3f5f\"}, \"type\": \"carpet\"}], \"choropleth\": [{\"colorbar\": {\"outlinewidth\": 0, \"ticks\": \"\"}, \"type\": \"choropleth\"}], \"contour\": [{\"colorbar\": {\"outlinewidth\": 0, \"ticks\": \"\"}, \"colorscale\": [[0.0, \"#0d0887\"], [0.1111111111111111, \"#46039f\"], [0.2222222222222222, \"#7201a8\"], [0.3333333333333333, \"#9c179e\"], [0.4444444444444444, \"#bd3786\"], [0.5555555555555556, \"#d8576b\"], [0.6666666666666666, \"#ed7953\"], [0.7777777777777778, \"#fb9f3a\"], [0.8888888888888888, \"#fdca26\"], [1.0, \"#f0f921\"]], \"type\": \"contour\"}], \"contourcarpet\": [{\"colorbar\": {\"outlinewidth\": 0, \"ticks\": \"\"}, \"type\": \"contourcarpet\"}], \"heatmap\": [{\"colorbar\": {\"outlinewidth\": 0, \"ticks\": \"\"}, \"colorscale\": [[0.0, \"#0d0887\"], [0.1111111111111111, \"#46039f\"], [0.2222222222222222, \"#7201a8\"], [0.3333333333333333, \"#9c179e\"], [0.4444444444444444, \"#bd3786\"], [0.5555555555555556, \"#d8576b\"], [0.6666666666666666, \"#ed7953\"], [0.7777777777777778, \"#fb9f3a\"], [0.8888888888888888, \"#fdca26\"], [1.0, \"#f0f921\"]], \"type\": \"heatmap\"}], \"heatmapgl\": [{\"colorbar\": {\"outlinewidth\": 0, \"ticks\": \"\"}, \"colorscale\": [[0.0, \"#0d0887\"], [0.1111111111111111, \"#46039f\"], [0.2222222222222222, \"#7201a8\"], [0.3333333333333333, \"#9c179e\"], [0.4444444444444444, \"#bd3786\"], [0.5555555555555556, \"#d8576b\"], [0.6666666666666666, \"#ed7953\"], [0.7777777777777778, \"#fb9f3a\"], [0.8888888888888888, \"#fdca26\"], [1.0, \"#f0f921\"]], \"type\": \"heatmapgl\"}], \"histogram\": [{\"marker\": {\"colorbar\": {\"outlinewidth\": 0, \"ticks\": \"\"}}, \"type\": \"histogram\"}], \"histogram2d\": [{\"colorbar\": {\"outlinewidth\": 0, \"ticks\": \"\"}, \"colorscale\": [[0.0, \"#0d0887\"], [0.1111111111111111, \"#46039f\"], [0.2222222222222222, \"#7201a8\"], [0.3333333333333333, \"#9c179e\"], [0.4444444444444444, \"#bd3786\"], [0.5555555555555556, \"#d8576b\"], [0.6666666666666666, \"#ed7953\"], [0.7777777777777778, \"#fb9f3a\"], [0.8888888888888888, \"#fdca26\"], [1.0, \"#f0f921\"]], \"type\": \"histogram2d\"}], \"histogram2dcontour\": [{\"colorbar\": {\"outlinewidth\": 0, \"ticks\": \"\"}, \"colorscale\": [[0.0, \"#0d0887\"], [0.1111111111111111, \"#46039f\"], [0.2222222222222222, \"#7201a8\"], [0.3333333333333333, \"#9c179e\"], [0.4444444444444444, \"#bd3786\"], [0.5555555555555556, \"#d8576b\"], [0.6666666666666666, \"#ed7953\"], [0.7777777777777778, \"#fb9f3a\"], [0.8888888888888888, \"#fdca26\"], [1.0, \"#f0f921\"]], \"type\": \"histogram2dcontour\"}], \"mesh3d\": [{\"colorbar\": {\"outlinewidth\": 0, \"ticks\": \"\"}, \"type\": \"mesh3d\"}], \"parcoords\": [{\"line\": {\"colorbar\": {\"outlinewidth\": 0, \"ticks\": \"\"}}, \"type\": \"parcoords\"}], \"pie\": [{\"automargin\": true, \"type\": \"pie\"}], \"scatter\": [{\"marker\": {\"colorbar\": {\"outlinewidth\": 0, \"ticks\": \"\"}}, \"type\": \"scatter\"}], \"scatter3d\": [{\"line\": {\"colorbar\": {\"outlinewidth\": 0, \"ticks\": \"\"}}, \"marker\": {\"colorbar\": {\"outlinewidth\": 0, \"ticks\": \"\"}}, \"type\": \"scatter3d\"}], \"scattercarpet\": [{\"marker\": {\"colorbar\": {\"outlinewidth\": 0, \"ticks\": \"\"}}, \"type\": \"scattercarpet\"}], \"scattergeo\": [{\"marker\": {\"colorbar\": {\"outlinewidth\": 0, \"ticks\": \"\"}}, \"type\": \"scattergeo\"}], \"scattergl\": [{\"marker\": {\"colorbar\": {\"outlinewidth\": 0, \"ticks\": \"\"}}, \"type\": \"scattergl\"}], \"scattermapbox\": [{\"marker\": {\"colorbar\": {\"outlinewidth\": 0, \"ticks\": \"\"}}, \"type\": \"scattermapbox\"}], \"scatterpolar\": [{\"marker\": {\"colorbar\": {\"outlinewidth\": 0, \"ticks\": \"\"}}, \"type\": \"scatterpolar\"}], \"scatterpolargl\": [{\"marker\": {\"colorbar\": {\"outlinewidth\": 0, \"ticks\": \"\"}}, \"type\": \"scatterpolargl\"}], \"scatterternary\": [{\"marker\": {\"colorbar\": {\"outlinewidth\": 0, \"ticks\": \"\"}}, \"type\": \"scatterternary\"}], \"surface\": [{\"colorbar\": {\"outlinewidth\": 0, \"ticks\": \"\"}, \"colorscale\": [[0.0, \"#0d0887\"], [0.1111111111111111, \"#46039f\"], [0.2222222222222222, \"#7201a8\"], [0.3333333333333333, \"#9c179e\"], [0.4444444444444444, \"#bd3786\"], [0.5555555555555556, \"#d8576b\"], [0.6666666666666666, \"#ed7953\"], [0.7777777777777778, \"#fb9f3a\"], [0.8888888888888888, \"#fdca26\"], [1.0, \"#f0f921\"]], \"type\": \"surface\"}], \"table\": [{\"cells\": {\"fill\": {\"color\": \"#EBF0F8\"}, \"line\": {\"color\": \"white\"}}, \"header\": {\"fill\": {\"color\": \"#C8D4E3\"}, \"line\": {\"color\": \"white\"}}, \"type\": \"table\"}]}, \"layout\": {\"annotationdefaults\": {\"arrowcolor\": \"#2a3f5f\", \"arrowhead\": 0, \"arrowwidth\": 1}, \"coloraxis\": {\"colorbar\": {\"outlinewidth\": 0, \"ticks\": \"\"}}, \"colorscale\": {\"diverging\": [[0, \"#8e0152\"], [0.1, \"#c51b7d\"], [0.2, \"#de77ae\"], [0.3, \"#f1b6da\"], [0.4, \"#fde0ef\"], [0.5, \"#f7f7f7\"], [0.6, \"#e6f5d0\"], [0.7, \"#b8e186\"], [0.8, \"#7fbc41\"], [0.9, \"#4d9221\"], [1, \"#276419\"]], \"sequential\": [[0.0, \"#0d0887\"], [0.1111111111111111, \"#46039f\"], [0.2222222222222222, \"#7201a8\"], [0.3333333333333333, \"#9c179e\"], [0.4444444444444444, \"#bd3786\"], [0.5555555555555556, \"#d8576b\"], [0.6666666666666666, \"#ed7953\"], [0.7777777777777778, \"#fb9f3a\"], [0.8888888888888888, \"#fdca26\"], [1.0, \"#f0f921\"]], \"sequentialminus\": [[0.0, \"#0d0887\"], [0.1111111111111111, \"#46039f\"], [0.2222222222222222, \"#7201a8\"], [0.3333333333333333, \"#9c179e\"], [0.4444444444444444, \"#bd3786\"], [0.5555555555555556, \"#d8576b\"], [0.6666666666666666, \"#ed7953\"], [0.7777777777777778, \"#fb9f3a\"], [0.8888888888888888, \"#fdca26\"], [1.0, \"#f0f921\"]]}, \"colorway\": [\"#636efa\", \"#EF553B\", \"#00cc96\", \"#ab63fa\", \"#FFA15A\", \"#19d3f3\", \"#FF6692\", \"#B6E880\", \"#FF97FF\", \"#FECB52\"], \"font\": {\"color\": \"#2a3f5f\"}, \"geo\": {\"bgcolor\": \"white\", \"lakecolor\": \"white\", \"landcolor\": \"#E5ECF6\", \"showlakes\": true, \"showland\": true, \"subunitcolor\": \"white\"}, \"hoverlabel\": {\"align\": \"left\"}, \"hovermode\": \"closest\", \"mapbox\": {\"style\": \"light\"}, \"paper_bgcolor\": \"white\", \"plot_bgcolor\": \"#E5ECF6\", \"polar\": {\"angularaxis\": {\"gridcolor\": \"white\", \"linecolor\": \"white\", \"ticks\": \"\"}, \"bgcolor\": \"#E5ECF6\", \"radialaxis\": {\"gridcolor\": \"white\", \"linecolor\": \"white\", \"ticks\": \"\"}}, \"scene\": {\"xaxis\": {\"backgroundcolor\": \"#E5ECF6\", \"gridcolor\": \"white\", \"gridwidth\": 2, \"linecolor\": \"white\", \"showbackground\": true, \"ticks\": \"\", \"zerolinecolor\": \"white\"}, \"yaxis\": {\"backgroundcolor\": \"#E5ECF6\", \"gridcolor\": \"white\", \"gridwidth\": 2, \"linecolor\": \"white\", \"showbackground\": true, \"ticks\": \"\", \"zerolinecolor\": \"white\"}, \"zaxis\": {\"backgroundcolor\": \"#E5ECF6\", \"gridcolor\": \"white\", \"gridwidth\": 2, \"linecolor\": \"white\", \"showbackground\": true, \"ticks\": \"\", \"zerolinecolor\": \"white\"}}, \"shapedefaults\": {\"line\": {\"color\": \"#2a3f5f\"}}, \"ternary\": {\"aaxis\": {\"gridcolor\": \"white\", \"linecolor\": \"white\", \"ticks\": \"\"}, \"baxis\": {\"gridcolor\": \"white\", \"linecolor\": \"white\", \"ticks\": \"\"}, \"bgcolor\": \"#E5ECF6\", \"caxis\": {\"gridcolor\": \"white\", \"linecolor\": \"white\", \"ticks\": \"\"}}, \"title\": {\"x\": 0.05}, \"xaxis\": {\"automargin\": true, \"gridcolor\": \"white\", \"linecolor\": \"white\", \"ticks\": \"\", \"title\": {\"standoff\": 15}, \"zerolinecolor\": \"white\", \"zerolinewidth\": 2}, \"yaxis\": {\"automargin\": true, \"gridcolor\": \"white\", \"linecolor\": \"white\", \"ticks\": \"\", \"title\": {\"standoff\": 15}, \"zerolinecolor\": \"white\", \"zerolinewidth\": 2}}}, \"title\": {\"text\": \"Heat demand\"}, \"width\": 1000, \"xaxis\": {\"anchor\": \"y\", \"domain\": [0.0, 1.0]}, \"yaxis\": {\"anchor\": \"x\", \"domain\": [0.0, 1.0], \"title\": {\"text\": \"Energy (MWh/h)\"}}},\n",
       "                        {\"responsive\": true}\n",
       "                    ).then(function(){\n",
       "                            \n",
       "var gd = document.getElementById('01736950-584a-4212-a55d-5ec4f6ac1396');\n",
       "var x = new MutationObserver(function (mutations, observer) {{\n",
       "        var display = window.getComputedStyle(gd).display;\n",
       "        if (!display || display === 'none') {{\n",
       "            console.log([gd, 'removed!']);\n",
       "            Plotly.purge(gd);\n",
       "            observer.disconnect();\n",
       "        }}\n",
       "}});\n",
       "\n",
       "// Listen for the removal of the full notebook cells\n",
       "var notebookContainer = gd.closest('#notebook-container');\n",
       "if (notebookContainer) {{\n",
       "    x.observe(notebookContainer, {childList: true});\n",
       "}}\n",
       "\n",
       "// Listen for the clearing of the current output cell\n",
       "var outputEl = gd.closest('.output');\n",
       "if (outputEl) {{\n",
       "    x.observe(outputEl, {childList: true});\n",
       "}}\n",
       "\n",
       "                        })\n",
       "                };\n",
       "                });\n",
       "            </script>\n",
       "        </div>"
      ]
     },
     "metadata": {},
     "output_type": "display_data"
    }
   ],
   "source": [
    "figC = make_subplots(rows=1*len(y)*1, cols=1,subplot_titles=title_subplots, vertical_spacing = 0.05)\n",
    "\n",
    "\n",
    "for year in y:\n",
    "    #Demand    \n",
    "    for i in dem_list:\n",
    "        figC.add_trace(go.Scatter(x=table.loc[(table['YYY'] == int(year))].timestamp, \n",
    "                                 y=table.loc[(table['YYY'] == int(year))][i],name=i,\n",
    "                                 mode = 'lines',\n",
    "                                 stackgroup = stackgroup,\n",
    "                                 line =  dict(color = demcolors[dem_list.index(i)]), \n",
    "                                 showlegend= legend_condition), \n",
    "                        row = name_subplots.index(market+scenario+str(year))+1, col=1)\n",
    "\n",
    "\n",
    "\n",
    "\n",
    "figC.update_layout(title=\"Heat demand\",)\n",
    "figC.update_yaxes(title_text=\"Energy (MWh/h)\", secondary_y=False)\n",
    "figC.update_layout(legend_orientation=\"h\",width=1000,height=500)\n",
    "figC.show()"
   ]
  },
  {
   "cell_type": "markdown",
   "metadata": {},
   "source": [
    "# X - Export"
   ]
  },
  {
   "cell_type": "markdown",
   "metadata": {},
   "source": [
    "##### X.1 - Make output directories\n"
   ]
  },
  {
   "cell_type": "code",
   "execution_count": 24,
   "metadata": {},
   "outputs": [],
   "source": [
    "# Make output folder\n",
    "if not os.path.isdir('output'):\n",
    "    os.makedirs('output')"
   ]
  },
  {
   "cell_type": "code",
   "execution_count": 25,
   "metadata": {},
   "outputs": [],
   "source": [
    "# Make output folder\n",
    "if not os.path.isdir('output/' + output):\n",
    "    os.makedirs('output/' + output)"
   ]
  },
  {
   "cell_type": "markdown",
   "metadata": {},
   "source": [
    "##### X.2 - Create HTML outputs"
   ]
  },
  {
   "cell_type": "code",
   "execution_count": 26,
   "metadata": {},
   "outputs": [],
   "source": [
    "figA.write_html('.\\output/' + output + '//HeatBalance_'+str(scenario)[2:-2] + '_' + str(year)+'.html')\n",
    "figB.write_html('.\\output/' + output + '//HeatProduction_'+str(scenario)[2:-2] + '_' + str(year)+'.html')\n",
    "figC.write_html('.\\output/' + output + '//HeatDemand_'+str(scenario)[2:-2] + '_' + str(year)+'.html')\n"
   ]
  },
  {
   "cell_type": "code",
   "execution_count": null,
   "metadata": {},
   "outputs": [],
   "source": []
  }
 ],
 "metadata": {
  "kernelspec": {
   "display_name": "Python 3",
   "language": "python",
   "name": "python3"
  },
  "language_info": {
   "codemirror_mode": {
    "name": "ipython",
    "version": 3
   },
   "file_extension": ".py",
   "mimetype": "text/x-python",
   "name": "python",
   "nbconvert_exporter": "python",
   "pygments_lexer": "ipython3",
   "version": "3.7.1"
  }
 },
 "nbformat": 4,
 "nbformat_minor": 4
}
